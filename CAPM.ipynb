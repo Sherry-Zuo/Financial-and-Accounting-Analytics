{
  "nbformat": 4,
  "nbformat_minor": 0,
  "metadata": {
    "colab": {
      "name": "assign4.ipynb",
      "provenance": [],
      "collapsed_sections": [],
      "toc_visible": true
    },
    "kernelspec": {
      "name": "python3",
      "display_name": "Python 3"
    }
  },
  "cells": [
    {
      "cell_type": "markdown",
      "metadata": {
        "id": "qcQxFuV9qWyP",
        "colab_type": "text"
      },
      "source": [
        "# **BA 870 – Assignment 4**\n",
        "\n",
        "**Shangkun(Sherry) Zuo, Yuqi(Yoki) Liu, Yanni Lan, Jiayuan Zou, Ziyan Pei, Siqi Zhang**  \n",
        "Cohort B  \n",
        "April 13, 2020"
      ]
    },
    {
      "cell_type": "markdown",
      "metadata": {
        "id": "G6QBmPSS-ubW",
        "colab_type": "text"
      },
      "source": [
        "## Import Data"
      ]
    },
    {
      "cell_type": "markdown",
      "metadata": {
        "id": "yEtsGBGqiNEJ",
        "colab_type": "text"
      },
      "source": [
        "### Upload data `factors` to Pandas Dataframes"
      ]
    },
    {
      "cell_type": "code",
      "metadata": {
        "id": "oykHvkf6cgoZ",
        "colab_type": "code",
        "outputId": "5bd7fd03-1b90-4c4e-e9c4-361cd7ac6910",
        "colab": {
          "resources": {
            "http://localhost:8080/nbextensions/google.colab/files.js": {
              "data": "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",
              "ok": true,
              "headers": [
                [
                  "content-type",
                  "application/javascript"
                ]
              ],
              "status": 200,
              "status_text": ""
            }
          },
          "base_uri": "https://localhost:8080/",
          "height": 71
        }
      },
      "source": [
        "from google.colab import files\n",
        "uploaded = files.upload()"
      ],
      "execution_count": 0,
      "outputs": [
        {
          "output_type": "display_data",
          "data": {
            "text/html": [
              "\n",
              "     <input type=\"file\" id=\"files-118db4b0-fcb3-4ae8-a244-b7157b33b019\" name=\"files[]\" multiple disabled />\n",
              "     <output id=\"result-118db4b0-fcb3-4ae8-a244-b7157b33b019\">\n",
              "      Upload widget is only available when the cell has been executed in the\n",
              "      current browser session. Please rerun this cell to enable.\n",
              "      </output>\n",
              "      <script src=\"/nbextensions/google.colab/files.js\"></script> "
            ],
            "text/plain": [
              "<IPython.core.display.HTML object>"
            ]
          },
          "metadata": {
            "tags": []
          }
        },
        {
          "output_type": "stream",
          "text": [
            "Saving factors.csv to factors.csv\n"
          ],
          "name": "stdout"
        }
      ]
    },
    {
      "cell_type": "code",
      "metadata": {
        "id": "4hIoRRa9iR3g",
        "colab_type": "code",
        "outputId": "1378c626-5a33-4e42-f45f-88d995519925",
        "colab": {
          "base_uri": "https://localhost:8080/",
          "height": 221
        }
      },
      "source": [
        "import pandas as pd\n",
        "import numpy as np\n",
        "df = pd.read_csv('factors.csv')\n",
        "pd.DataFrame.from_records(df)\n",
        "df.head()"
      ],
      "execution_count": 0,
      "outputs": [
        {
          "output_type": "execute_result",
          "data": {
            "text/html": [
              "<div>\n",
              "<style scoped>\n",
              "    .dataframe tbody tr th:only-of-type {\n",
              "        vertical-align: middle;\n",
              "    }\n",
              "\n",
              "    .dataframe tbody tr th {\n",
              "        vertical-align: top;\n",
              "    }\n",
              "\n",
              "    .dataframe thead th {\n",
              "        text-align: right;\n",
              "    }\n",
              "</style>\n",
              "<table border=\"1\" class=\"dataframe\">\n",
              "  <thead>\n",
              "    <tr style=\"text-align: right;\">\n",
              "      <th></th>\n",
              "      <th>Date (SAS). Last Trading Day of the Month</th>\n",
              "      <th>Excess Return on the Market</th>\n",
              "      <th>Small-Minus-Big Return</th>\n",
              "      <th>High-Minus-Low Return</th>\n",
              "      <th>Risk-Free Return Rate (One Month Treasury Bill Rate)</th>\n",
              "    </tr>\n",
              "  </thead>\n",
              "  <tbody>\n",
              "    <tr>\n",
              "      <th>0</th>\n",
              "      <td>20160129</td>\n",
              "      <td>-0.0577</td>\n",
              "      <td>-0.0335</td>\n",
              "      <td>0.0208</td>\n",
              "      <td>0.0001</td>\n",
              "    </tr>\n",
              "    <tr>\n",
              "      <th>1</th>\n",
              "      <td>20160229</td>\n",
              "      <td>-0.0007</td>\n",
              "      <td>0.0079</td>\n",
              "      <td>-0.0050</td>\n",
              "      <td>0.0002</td>\n",
              "    </tr>\n",
              "    <tr>\n",
              "      <th>2</th>\n",
              "      <td>20160331</td>\n",
              "      <td>0.0696</td>\n",
              "      <td>0.0087</td>\n",
              "      <td>0.0116</td>\n",
              "      <td>0.0002</td>\n",
              "    </tr>\n",
              "    <tr>\n",
              "      <th>3</th>\n",
              "      <td>20160429</td>\n",
              "      <td>0.0092</td>\n",
              "      <td>0.0069</td>\n",
              "      <td>0.0326</td>\n",
              "      <td>0.0001</td>\n",
              "    </tr>\n",
              "    <tr>\n",
              "      <th>4</th>\n",
              "      <td>20160531</td>\n",
              "      <td>0.0178</td>\n",
              "      <td>-0.0027</td>\n",
              "      <td>-0.0181</td>\n",
              "      <td>0.0001</td>\n",
              "    </tr>\n",
              "  </tbody>\n",
              "</table>\n",
              "</div>"
            ],
            "text/plain": [
              "   Date (SAS). Last Trading Day of the Month  ...  Risk-Free Return Rate (One Month Treasury Bill Rate)\n",
              "0                                   20160129  ...                                             0.0001   \n",
              "1                                   20160229  ...                                             0.0002   \n",
              "2                                   20160331  ...                                             0.0002   \n",
              "3                                   20160429  ...                                             0.0001   \n",
              "4                                   20160531  ...                                             0.0001   \n",
              "\n",
              "[5 rows x 5 columns]"
            ]
          },
          "metadata": {
            "tags": []
          },
          "execution_count": 235
        }
      ]
    },
    {
      "cell_type": "code",
      "metadata": {
        "id": "yEwFea7szcpN",
        "colab_type": "code",
        "outputId": "4908c505-d682-46a0-eafd-4c152868bbce",
        "colab": {
          "base_uri": "https://localhost:8080/",
          "height": 204
        }
      },
      "source": [
        "# Rename Columns\n",
        "renamed_columns = ['Date', \"Rm_minus_Rf\", \"SMB\", \"HML\", \"Rf\"]\n",
        "df.columns = renamed_columns\n",
        "df.head()"
      ],
      "execution_count": 0,
      "outputs": [
        {
          "output_type": "execute_result",
          "data": {
            "text/html": [
              "<div>\n",
              "<style scoped>\n",
              "    .dataframe tbody tr th:only-of-type {\n",
              "        vertical-align: middle;\n",
              "    }\n",
              "\n",
              "    .dataframe tbody tr th {\n",
              "        vertical-align: top;\n",
              "    }\n",
              "\n",
              "    .dataframe thead th {\n",
              "        text-align: right;\n",
              "    }\n",
              "</style>\n",
              "<table border=\"1\" class=\"dataframe\">\n",
              "  <thead>\n",
              "    <tr style=\"text-align: right;\">\n",
              "      <th></th>\n",
              "      <th>Date</th>\n",
              "      <th>Rm_minus_Rf</th>\n",
              "      <th>SMB</th>\n",
              "      <th>HML</th>\n",
              "      <th>Rf</th>\n",
              "    </tr>\n",
              "  </thead>\n",
              "  <tbody>\n",
              "    <tr>\n",
              "      <th>0</th>\n",
              "      <td>20160129</td>\n",
              "      <td>-0.0577</td>\n",
              "      <td>-0.0335</td>\n",
              "      <td>0.0208</td>\n",
              "      <td>0.0001</td>\n",
              "    </tr>\n",
              "    <tr>\n",
              "      <th>1</th>\n",
              "      <td>20160229</td>\n",
              "      <td>-0.0007</td>\n",
              "      <td>0.0079</td>\n",
              "      <td>-0.0050</td>\n",
              "      <td>0.0002</td>\n",
              "    </tr>\n",
              "    <tr>\n",
              "      <th>2</th>\n",
              "      <td>20160331</td>\n",
              "      <td>0.0696</td>\n",
              "      <td>0.0087</td>\n",
              "      <td>0.0116</td>\n",
              "      <td>0.0002</td>\n",
              "    </tr>\n",
              "    <tr>\n",
              "      <th>3</th>\n",
              "      <td>20160429</td>\n",
              "      <td>0.0092</td>\n",
              "      <td>0.0069</td>\n",
              "      <td>0.0326</td>\n",
              "      <td>0.0001</td>\n",
              "    </tr>\n",
              "    <tr>\n",
              "      <th>4</th>\n",
              "      <td>20160531</td>\n",
              "      <td>0.0178</td>\n",
              "      <td>-0.0027</td>\n",
              "      <td>-0.0181</td>\n",
              "      <td>0.0001</td>\n",
              "    </tr>\n",
              "  </tbody>\n",
              "</table>\n",
              "</div>"
            ],
            "text/plain": [
              "       Date  Rm_minus_Rf     SMB     HML      Rf\n",
              "0  20160129      -0.0577 -0.0335  0.0208  0.0001\n",
              "1  20160229      -0.0007  0.0079 -0.0050  0.0002\n",
              "2  20160331       0.0696  0.0087  0.0116  0.0002\n",
              "3  20160429       0.0092  0.0069  0.0326  0.0001\n",
              "4  20160531       0.0178 -0.0027 -0.0181  0.0001"
            ]
          },
          "metadata": {
            "tags": []
          },
          "execution_count": 236
        }
      ]
    },
    {
      "cell_type": "markdown",
      "metadata": {
        "colab_type": "text",
        "id": "89XGsE2y64xU"
      },
      "source": [
        "### Upload data `returns` to Pandas Dataframes"
      ]
    },
    {
      "cell_type": "code",
      "metadata": {
        "colab_type": "code",
        "id": "JuYJLDgF64xb",
        "outputId": "617864b0-fd49-481e-9b2f-7129f6379043",
        "colab": {
          "resources": {
            "http://localhost:8080/nbextensions/google.colab/files.js": {
              "data": "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",
              "ok": true,
              "headers": [
                [
                  "content-type",
                  "application/javascript"
                ]
              ],
              "status": 200,
              "status_text": ""
            }
          },
          "base_uri": "https://localhost:8080/",
          "height": 71
        }
      },
      "source": [
        "from google.colab import files\n",
        "uploaded = files.upload()"
      ],
      "execution_count": 0,
      "outputs": [
        {
          "output_type": "display_data",
          "data": {
            "text/html": [
              "\n",
              "     <input type=\"file\" id=\"files-2ce888d4-2e29-42fd-8e90-3bf7d17ab2df\" name=\"files[]\" multiple disabled />\n",
              "     <output id=\"result-2ce888d4-2e29-42fd-8e90-3bf7d17ab2df\">\n",
              "      Upload widget is only available when the cell has been executed in the\n",
              "      current browser session. Please rerun this cell to enable.\n",
              "      </output>\n",
              "      <script src=\"/nbextensions/google.colab/files.js\"></script> "
            ],
            "text/plain": [
              "<IPython.core.display.HTML object>"
            ]
          },
          "metadata": {
            "tags": []
          }
        },
        {
          "output_type": "stream",
          "text": [
            "Saving returns.csv to returns.csv\n"
          ],
          "name": "stdout"
        }
      ]
    },
    {
      "cell_type": "code",
      "metadata": {
        "colab_type": "code",
        "id": "biQe1NxG64xl",
        "outputId": "6ceb5934-cc1e-4002-ccbc-6a40cc9534b2",
        "colab": {
          "base_uri": "https://localhost:8080/",
          "height": 204
        }
      },
      "source": [
        "import pandas as pd\n",
        "import numpy as np\n",
        "df2 = pd.read_csv('returns.csv')\n",
        "pd.DataFrame.from_records(df2)\n",
        "df2.head()"
      ],
      "execution_count": 0,
      "outputs": [
        {
          "output_type": "execute_result",
          "data": {
            "text/html": [
              "<div>\n",
              "<style scoped>\n",
              "    .dataframe tbody tr th:only-of-type {\n",
              "        vertical-align: middle;\n",
              "    }\n",
              "\n",
              "    .dataframe tbody tr th {\n",
              "        vertical-align: top;\n",
              "    }\n",
              "\n",
              "    .dataframe thead th {\n",
              "        text-align: right;\n",
              "    }\n",
              "</style>\n",
              "<table border=\"1\" class=\"dataframe\">\n",
              "  <thead>\n",
              "    <tr style=\"text-align: right;\">\n",
              "      <th></th>\n",
              "      <th>PERMNO</th>\n",
              "      <th>Names Date</th>\n",
              "      <th>Ticker Symbol</th>\n",
              "      <th>Returns</th>\n",
              "    </tr>\n",
              "  </thead>\n",
              "  <tbody>\n",
              "    <tr>\n",
              "      <th>0</th>\n",
              "      <td>10026</td>\n",
              "      <td>20160129</td>\n",
              "      <td>JJSF</td>\n",
              "      <td>-0.074484</td>\n",
              "    </tr>\n",
              "    <tr>\n",
              "      <th>1</th>\n",
              "      <td>10026</td>\n",
              "      <td>20160229</td>\n",
              "      <td>JJSF</td>\n",
              "      <td>0.026023</td>\n",
              "    </tr>\n",
              "    <tr>\n",
              "      <th>2</th>\n",
              "      <td>10026</td>\n",
              "      <td>20160331</td>\n",
              "      <td>JJSF</td>\n",
              "      <td>-0.019135</td>\n",
              "    </tr>\n",
              "    <tr>\n",
              "      <th>3</th>\n",
              "      <td>10026</td>\n",
              "      <td>20160429</td>\n",
              "      <td>JJSF</td>\n",
              "      <td>-0.066033</td>\n",
              "    </tr>\n",
              "    <tr>\n",
              "      <th>4</th>\n",
              "      <td>10026</td>\n",
              "      <td>20160531</td>\n",
              "      <td>JJSF</td>\n",
              "      <td>0.043212</td>\n",
              "    </tr>\n",
              "  </tbody>\n",
              "</table>\n",
              "</div>"
            ],
            "text/plain": [
              "   PERMNO  Names Date Ticker Symbol    Returns\n",
              "0   10026    20160129          JJSF  -0.074484\n",
              "1   10026    20160229          JJSF   0.026023\n",
              "2   10026    20160331          JJSF  -0.019135\n",
              "3   10026    20160429          JJSF  -0.066033\n",
              "4   10026    20160531          JJSF   0.043212"
            ]
          },
          "metadata": {
            "tags": []
          },
          "execution_count": 237
        }
      ]
    },
    {
      "cell_type": "code",
      "metadata": {
        "colab_type": "code",
        "id": "FZpxoyam64xo",
        "outputId": "ee0f60ed-8dc6-4f51-f7c5-f79934c4b6b6",
        "colab": {
          "base_uri": "https://localhost:8080/",
          "height": 204
        }
      },
      "source": [
        "# Rename Columns\n",
        "renamed_columns = ['PERMNO', \"Date\", \"Ticker\", \"Ri\"]\n",
        "df2.columns = renamed_columns\n",
        "df2.head()"
      ],
      "execution_count": 0,
      "outputs": [
        {
          "output_type": "execute_result",
          "data": {
            "text/html": [
              "<div>\n",
              "<style scoped>\n",
              "    .dataframe tbody tr th:only-of-type {\n",
              "        vertical-align: middle;\n",
              "    }\n",
              "\n",
              "    .dataframe tbody tr th {\n",
              "        vertical-align: top;\n",
              "    }\n",
              "\n",
              "    .dataframe thead th {\n",
              "        text-align: right;\n",
              "    }\n",
              "</style>\n",
              "<table border=\"1\" class=\"dataframe\">\n",
              "  <thead>\n",
              "    <tr style=\"text-align: right;\">\n",
              "      <th></th>\n",
              "      <th>PERMNO</th>\n",
              "      <th>Date</th>\n",
              "      <th>Ticker</th>\n",
              "      <th>Ri</th>\n",
              "    </tr>\n",
              "  </thead>\n",
              "  <tbody>\n",
              "    <tr>\n",
              "      <th>0</th>\n",
              "      <td>10026</td>\n",
              "      <td>20160129</td>\n",
              "      <td>JJSF</td>\n",
              "      <td>-0.074484</td>\n",
              "    </tr>\n",
              "    <tr>\n",
              "      <th>1</th>\n",
              "      <td>10026</td>\n",
              "      <td>20160229</td>\n",
              "      <td>JJSF</td>\n",
              "      <td>0.026023</td>\n",
              "    </tr>\n",
              "    <tr>\n",
              "      <th>2</th>\n",
              "      <td>10026</td>\n",
              "      <td>20160331</td>\n",
              "      <td>JJSF</td>\n",
              "      <td>-0.019135</td>\n",
              "    </tr>\n",
              "    <tr>\n",
              "      <th>3</th>\n",
              "      <td>10026</td>\n",
              "      <td>20160429</td>\n",
              "      <td>JJSF</td>\n",
              "      <td>-0.066033</td>\n",
              "    </tr>\n",
              "    <tr>\n",
              "      <th>4</th>\n",
              "      <td>10026</td>\n",
              "      <td>20160531</td>\n",
              "      <td>JJSF</td>\n",
              "      <td>0.043212</td>\n",
              "    </tr>\n",
              "  </tbody>\n",
              "</table>\n",
              "</div>"
            ],
            "text/plain": [
              "   PERMNO      Date Ticker         Ri\n",
              "0   10026  20160129   JJSF  -0.074484\n",
              "1   10026  20160229   JJSF   0.026023\n",
              "2   10026  20160331   JJSF  -0.019135\n",
              "3   10026  20160429   JJSF  -0.066033\n",
              "4   10026  20160531   JJSF   0.043212"
            ]
          },
          "metadata": {
            "tags": []
          },
          "execution_count": 238
        }
      ]
    },
    {
      "cell_type": "markdown",
      "metadata": {
        "id": "QSWQx9CB5lmQ",
        "colab_type": "text"
      },
      "source": [
        "## Data Cleaning"
      ]
    },
    {
      "cell_type": "code",
      "metadata": {
        "id": "PT-G-yfR58xb",
        "colab_type": "code",
        "outputId": "b31c2bf2-dbf1-48e3-d1b3-51b10df34b9b",
        "colab": {
          "base_uri": "https://localhost:8080/",
          "height": 119
        }
      },
      "source": [
        "#check any NA in each variable in df\n",
        "df.isna().any()"
      ],
      "execution_count": 0,
      "outputs": [
        {
          "output_type": "execute_result",
          "data": {
            "text/plain": [
              "Date           False\n",
              "Rm_minus_Rf    False\n",
              "SMB            False\n",
              "HML            False\n",
              "Rf             False\n",
              "dtype: bool"
            ]
          },
          "metadata": {
            "tags": []
          },
          "execution_count": 239
        }
      ]
    },
    {
      "cell_type": "code",
      "metadata": {
        "id": "duji5CUZ5tRb",
        "colab_type": "code",
        "outputId": "73ac738e-eafc-4900-88be-a06f09683274",
        "colab": {
          "base_uri": "https://localhost:8080/",
          "height": 102
        }
      },
      "source": [
        "#check any NA in each variable in df2\n",
        "df2.isna().any()"
      ],
      "execution_count": 0,
      "outputs": [
        {
          "output_type": "execute_result",
          "data": {
            "text/plain": [
              "PERMNO    False\n",
              "Date      False\n",
              "Ticker     True\n",
              "Ri         True\n",
              "dtype: bool"
            ]
          },
          "metadata": {
            "tags": []
          },
          "execution_count": 240
        }
      ]
    },
    {
      "cell_type": "code",
      "metadata": {
        "id": "xegPPyzK6IqD",
        "colab_type": "code",
        "outputId": "8c01f878-6b6c-422d-eb17-2b5b8da50435",
        "colab": {
          "base_uri": "https://localhost:8080/",
          "height": 102
        }
      },
      "source": [
        "#counting missing values in each variable in df2\n",
        "df2.isna().sum()"
      ],
      "execution_count": 0,
      "outputs": [
        {
          "output_type": "execute_result",
          "data": {
            "text/plain": [
              "PERMNO      0\n",
              "Date        0\n",
              "Ticker    273\n",
              "Ri        200\n",
              "dtype: int64"
            ]
          },
          "metadata": {
            "tags": []
          },
          "execution_count": 241
        }
      ]
    },
    {
      "cell_type": "markdown",
      "metadata": {
        "id": "yjqelfDH0oA5",
        "colab_type": "text"
      },
      "source": [
        "We investigate the rows with missing values for `Ticker` and `Ri` variables."
      ]
    },
    {
      "cell_type": "code",
      "metadata": {
        "id": "1K38bpnK0php",
        "colab_type": "code",
        "colab": {}
      },
      "source": [
        "def nans(df2): \n",
        "  return df2[df2.isnull().any(axis=1)]"
      ],
      "execution_count": 0,
      "outputs": []
    },
    {
      "cell_type": "code",
      "metadata": {
        "id": "XZv88z2D0tf6",
        "colab_type": "code",
        "outputId": "03016f47-caae-4ae8-d263-f314c6efacb7",
        "colab": {
          "base_uri": "https://localhost:8080/",
          "height": 204
        }
      },
      "source": [
        "missing = nans(df2)\n",
        "missing.info()"
      ],
      "execution_count": 0,
      "outputs": [
        {
          "output_type": "stream",
          "text": [
            "<class 'pandas.core.frame.DataFrame'>\n",
            "Int64Index: 303 entries, 574 to 62133\n",
            "Data columns (total 4 columns):\n",
            " #   Column  Non-Null Count  Dtype \n",
            "---  ------  --------------  ----- \n",
            " 0   PERMNO  303 non-null    int64 \n",
            " 1   Date    303 non-null    int64 \n",
            " 2   Ticker  30 non-null     object\n",
            " 3   Ri      103 non-null    object\n",
            "dtypes: int64(2), object(2)\n",
            "memory usage: 11.8+ KB\n"
          ],
          "name": "stdout"
        }
      ]
    },
    {
      "cell_type": "markdown",
      "metadata": {
        "id": "7fRmVzeD0xjm",
        "colab_type": "text"
      },
      "source": [
        "Above, we can see that the total number of rows in df2 that have missing values is 303."
      ]
    },
    {
      "cell_type": "code",
      "metadata": {
        "id": "WHZ8X2wM0u7I",
        "colab_type": "code",
        "outputId": "8d81003c-c9c0-43ed-d76f-f80a5260df82",
        "colab": {
          "base_uri": "https://localhost:8080/",
          "height": 71
        }
      },
      "source": [
        "res = missing.loc[missing['Ticker'].isnull(), 'Ri'].tolist()\n",
        "## check the values of Ri when Ticker is missing\n",
        "print(set(res))\n",
        "## check the values of Ticker when Ri is missing\n",
        "res2 = df2.loc[df2['Ri'].isnull(),'Ticker'].tolist()\n",
        "print(set(res2))"
      ],
      "execution_count": 0,
      "outputs": [
        {
          "output_type": "stream",
          "text": [
            "{nan, 'B'}\n",
            "{nan, 'ADPT', 'INSY', 'CB', 'JCI', 'SMCI', 'GSHT', 'TW', 'DD', 'LILA', 'BZC', 'MWW', 'TFC', 'TIVO', 'JNP', 'TCF', 'ATAC', 'IQNT', 'CASM', 'LKCO', 'OHGI', 'TFCF', 'ORGO', 'RPTP', 'FTI', 'TFCFA', 'AHPA', 'DOW', 'LILAK', 'GDP'}\n"
          ],
          "name": "stdout"
        }
      ]
    },
    {
      "cell_type": "markdown",
      "metadata": {
        "id": "7KewuBsZ6wpn",
        "colab_type": "text"
      },
      "source": [
        "We also go back to observe the original `returns` dataset. For rows where `Ticker` is empty and for rows where `Ri` labeled as 'C', it's usually where the first few months of the stock, so that these stocks may not have any stock return, and we could not use the mean to substitute those missing values. \n",
        "\n",
        "Therefore, we remove those empty rows. Same reason for removal of rows with `Ri` labaled as 'B', since this situation always happen when `Ticker` is missing. \n",
        "\n",
        "In other words, when rows with `Ri` is labeled as 'B' or 'C' instead of numerical values, `Ri`s of these observations are missing even though these `Ri`s here are not recorded as absolute missing (NaN) by WRDS dataset. Therefore, we need to remove all rows whose `Ri` equals to 'B' or 'C'. "
      ]
    },
    {
      "cell_type": "code",
      "metadata": {
        "id": "fTQiYIuJ6wKX",
        "colab_type": "code",
        "colab": {}
      },
      "source": [
        "#remove missing values\n",
        "df2.dropna(inplace=True)"
      ],
      "execution_count": 0,
      "outputs": []
    },
    {
      "cell_type": "code",
      "metadata": {
        "id": "pI_nT8fE79nL",
        "colab_type": "code",
        "outputId": "b0721420-d5c7-4038-fd5c-61f8f9517863",
        "colab": {
          "base_uri": "https://localhost:8080/",
          "height": 204
        }
      },
      "source": [
        "df2.drop(df2[df2['Ri'] == 'C'].index, inplace=True)\n",
        "df2.info()"
      ],
      "execution_count": 0,
      "outputs": [
        {
          "output_type": "stream",
          "text": [
            "<class 'pandas.core.frame.DataFrame'>\n",
            "Int64Index: 61741 entries, 0 to 62229\n",
            "Data columns (total 4 columns):\n",
            " #   Column  Non-Null Count  Dtype \n",
            "---  ------  --------------  ----- \n",
            " 0   PERMNO  61741 non-null  int64 \n",
            " 1   Date    61741 non-null  int64 \n",
            " 2   Ticker  61741 non-null  object\n",
            " 3   Ri      61741 non-null  object\n",
            "dtypes: int64(2), object(2)\n",
            "memory usage: 2.4+ MB\n"
          ],
          "name": "stdout"
        }
      ]
    },
    {
      "cell_type": "code",
      "metadata": {
        "id": "iG_u9bUknrfj",
        "colab_type": "code",
        "outputId": "d081b0e9-b4f9-4e82-c0fd-68250297e240",
        "colab": {
          "base_uri": "https://localhost:8080/",
          "height": 102
        }
      },
      "source": [
        "df2.isna().sum()"
      ],
      "execution_count": 0,
      "outputs": [
        {
          "output_type": "execute_result",
          "data": {
            "text/plain": [
              "PERMNO    0\n",
              "Date      0\n",
              "Ticker    0\n",
              "Ri        0\n",
              "dtype: int64"
            ]
          },
          "metadata": {
            "tags": []
          },
          "execution_count": 247
        }
      ]
    },
    {
      "cell_type": "markdown",
      "metadata": {
        "id": "FDvhdTmxykDv",
        "colab_type": "text"
      },
      "source": [
        "Check the number of unique `PERMNO` and `Tickers`."
      ]
    },
    {
      "cell_type": "code",
      "metadata": {
        "id": "4oUXGR2LwXP5",
        "colab_type": "code",
        "outputId": "f6b2f490-48a0-45c9-ed57-01117e26847a",
        "colab": {
          "base_uri": "https://localhost:8080/",
          "height": 34
        }
      },
      "source": [
        "len(df2['PERMNO'].unique().tolist())"
      ],
      "execution_count": 0,
      "outputs": [
        {
          "output_type": "execute_result",
          "data": {
            "text/plain": [
              "1395"
            ]
          },
          "metadata": {
            "tags": []
          },
          "execution_count": 248
        }
      ]
    },
    {
      "cell_type": "code",
      "metadata": {
        "id": "Owem2yQmyQ6I",
        "colab_type": "code",
        "outputId": "4007cc5e-cec3-409a-b93b-527d1a1c4e89",
        "colab": {
          "base_uri": "https://localhost:8080/",
          "height": 34
        }
      },
      "source": [
        "len(df2['Ticker'].unique().tolist())"
      ],
      "execution_count": 0,
      "outputs": [
        {
          "output_type": "execute_result",
          "data": {
            "text/plain": [
              "1457"
            ]
          },
          "metadata": {
            "tags": []
          },
          "execution_count": 249
        }
      ]
    },
    {
      "cell_type": "markdown",
      "metadata": {
        "id": "wrvcQj4DqUaY",
        "colab_type": "text"
      },
      "source": [
        "There are **1395** unique PERMNO and **1457** unique Ticker Symbols, so we need to check what happen."
      ]
    },
    {
      "cell_type": "code",
      "metadata": {
        "id": "5-KM8SObraqD",
        "colab_type": "code",
        "outputId": "fac36c3b-fdb0-4a21-c479-c125825e6482",
        "colab": {
          "base_uri": "https://localhost:8080/",
          "height": 221
        }
      },
      "source": [
        "#check each PERMNO Count\n",
        "df2['PERMNO'].value_counts()"
      ],
      "execution_count": 0,
      "outputs": [
        {
          "output_type": "execute_result",
          "data": {
            "text/plain": [
              "22517    48\n",
              "92775    48\n",
              "75694    48\n",
              "34746    48\n",
              "83906    48\n",
              "         ..\n",
              "18961     3\n",
              "19031     2\n",
              "18913     2\n",
              "18968     2\n",
              "19032     2\n",
              "Name: PERMNO, Length: 1395, dtype: int64"
            ]
          },
          "metadata": {
            "tags": []
          },
          "execution_count": 250
        }
      ]
    },
    {
      "cell_type": "markdown",
      "metadata": {
        "id": "BkHkTbfByuvn",
        "colab_type": "text"
      },
      "source": [
        "The maximum `PERMNO` count is 48 which matches with `factors` dataset. Back to the original `returns` dataset, we found that one PERMNO corresponds to more than one Ticker Symbol but keeps the time change. The reason is that because `PERMNO` is a Permanent Identifier while `Ticker` is an identifier that tends to change over time. \n",
        "\n",
        "For example, if a company ceases to exist or bankrupt, its ticker may be reassigned to another company. For these reasons, `Ticker` doesn't work well with our historial anaylsis based upon date. So we want to keep the newest Ticker Symbol up to date."
      ]
    },
    {
      "cell_type": "code",
      "metadata": {
        "id": "F9SmW_RB3gtG",
        "colab_type": "code",
        "colab": {}
      },
      "source": [
        "pt=df2.sort_values('Date').groupby('PERMNO').tail(1)[['Ticker','PERMNO']]"
      ],
      "execution_count": 0,
      "outputs": []
    },
    {
      "cell_type": "code",
      "metadata": {
        "id": "7zC3YTENEIZE",
        "colab_type": "code",
        "colab": {}
      },
      "source": [
        "pt['PERMNO'].astype(int)\n",
        "pt_key=pt['PERMNO'].values.tolist()\n",
        "pt_value=pt['Ticker'].tolist()\n",
        "pt_dict = dict(zip(pt_key, pt_value))"
      ],
      "execution_count": 0,
      "outputs": []
    },
    {
      "cell_type": "code",
      "metadata": {
        "id": "jEe-lf52EMag",
        "colab_type": "code",
        "colab": {}
      },
      "source": [
        "#replace Ticker with newest Ticker Symbol when they have same PERMNO\n",
        "df2['Ticker']= df2['PERMNO'].map(pt_dict)"
      ],
      "execution_count": 0,
      "outputs": []
    },
    {
      "cell_type": "code",
      "metadata": {
        "id": "4ZGHMg0nHq2Q",
        "colab_type": "code",
        "outputId": "7fdf0f45-b7a6-44ec-f357-f94ffe442210",
        "colab": {
          "base_uri": "https://localhost:8080/",
          "height": 34
        }
      },
      "source": [
        "#check Ticker again\n",
        "len(df2['Ticker'].unique().tolist())"
      ],
      "execution_count": 0,
      "outputs": [
        {
          "output_type": "execute_result",
          "data": {
            "text/plain": [
              "1380"
            ]
          },
          "metadata": {
            "tags": []
          },
          "execution_count": 254
        }
      ]
    },
    {
      "cell_type": "markdown",
      "metadata": {
        "id": "w3Sa4rxNH0J4",
        "colab_type": "text"
      },
      "source": [
        "After cleaning `Ticker` Symbol, we need to deal with the situation that why there are more PERMNOs than Ticker Symbols"
      ]
    },
    {
      "cell_type": "code",
      "metadata": {
        "id": "0Z9olImYpObd",
        "colab_type": "code",
        "outputId": "d054f45a-8828-4075-d581-2801bc36e0b1",
        "colab": {
          "base_uri": "https://localhost:8080/",
          "height": 221
        }
      },
      "source": [
        "#check each Ticker Count\n",
        "df2['Ticker'].value_counts()"
      ],
      "execution_count": 0,
      "outputs": [
        {
          "output_type": "execute_result",
          "data": {
            "text/plain": [
              "TAP     96\n",
              "LEN     96\n",
              "MKC     96\n",
              "STZ     96\n",
              "TCF     91\n",
              "        ..\n",
              "SWTX     3\n",
              "PNTG     2\n",
              "PGNY     2\n",
              "VIR      2\n",
              "VIE      2\n",
              "Name: Ticker, Length: 1380, dtype: int64"
            ]
          },
          "metadata": {
            "tags": []
          },
          "execution_count": 255
        }
      ]
    },
    {
      "cell_type": "code",
      "metadata": {
        "id": "W_ixw2R0r1bU",
        "colab_type": "code",
        "outputId": "8ec1c5f7-bbf4-4ba7-fa99-0a9dbfc023bc",
        "colab": {
          "base_uri": "https://localhost:8080/",
          "height": 68
        }
      },
      "source": [
        "#Regularly, each sticker should have 48 rows, so check what happens to TAP as an example since it has 96 counts\n",
        "df2[df2['Ticker'] == 'TAP']['PERMNO'].value_counts()"
      ],
      "execution_count": 0,
      "outputs": [
        {
          "output_type": "execute_result",
          "data": {
            "text/plain": [
              "59248    48\n",
              "90562    48\n",
              "Name: PERMNO, dtype: int64"
            ]
          },
          "metadata": {
            "tags": []
          },
          "execution_count": 256
        }
      ]
    },
    {
      "cell_type": "code",
      "metadata": {
        "id": "tRkdfESHunzI",
        "colab_type": "code",
        "outputId": "466fe331-a40d-4267-eab9-c25237e7a1c0",
        "colab": {
          "base_uri": "https://localhost:8080/",
          "height": 68
        }
      },
      "source": [
        "#Check what happen to TCF\n",
        "df2[df2['Ticker'] == 'TCF']['PERMNO'].value_counts()"
      ],
      "execution_count": 0,
      "outputs": [
        {
          "output_type": "execute_result",
          "data": {
            "text/plain": [
              "11992    48\n",
              "10375    43\n",
              "Name: PERMNO, dtype: int64"
            ]
          },
          "metadata": {
            "tags": []
          },
          "execution_count": 257
        }
      ]
    },
    {
      "cell_type": "code",
      "metadata": {
        "id": "pU4D5HTRIOiw",
        "colab_type": "code",
        "outputId": "c17ef84e-7590-45db-8bef-ecb9b78699ba",
        "colab": {
          "base_uri": "https://localhost:8080/",
          "height": 51
        }
      },
      "source": [
        "#Check what happen to DDOG\n",
        "df2[df2['Ticker'] == 'DDOG']['PERMNO'].value_counts()"
      ],
      "execution_count": 0,
      "outputs": [
        {
          "output_type": "execute_result",
          "data": {
            "text/plain": [
              "18911    3\n",
              "Name: PERMNO, dtype: int64"
            ]
          },
          "metadata": {
            "tags": []
          },
          "execution_count": 258
        }
      ]
    },
    {
      "cell_type": "markdown",
      "metadata": {
        "id": "KWNhwGw6A-uI",
        "colab_type": "text"
      },
      "source": [
        "We drop those duplicate PERMNO rows with same `Date` and `Ticker` Symbol, and keep the first row if there is a duplication since the one with more rows appear first for TCF when we check back to the original dataset"
      ]
    },
    {
      "cell_type": "code",
      "metadata": {
        "id": "uZW9hUm9AxiD",
        "colab_type": "code",
        "colab": {}
      },
      "source": [
        "df3 = df2.drop_duplicates(subset=['Date', 'Ticker'], keep='first')"
      ],
      "execution_count": 0,
      "outputs": []
    },
    {
      "cell_type": "code",
      "metadata": {
        "id": "VAh2bniQBdT6",
        "colab_type": "code",
        "outputId": "e460ba9e-5d2f-463a-9069-70c83f76bd24",
        "colab": {
          "base_uri": "https://localhost:8080/",
          "height": 221
        }
      },
      "source": [
        "df3['Ticker'].value_counts()"
      ],
      "execution_count": 0,
      "outputs": [
        {
          "output_type": "execute_result",
          "data": {
            "text/plain": [
              "ARNA    48\n",
              "EQR     48\n",
              "PPL     48\n",
              "RGLD    48\n",
              "TRUP    48\n",
              "        ..\n",
              "SDC      3\n",
              "VIE      2\n",
              "VIR      2\n",
              "PNTG     2\n",
              "PGNY     2\n",
              "Name: Ticker, Length: 1380, dtype: int64"
            ]
          },
          "metadata": {
            "tags": []
          },
          "execution_count": 260
        }
      ]
    },
    {
      "cell_type": "markdown",
      "metadata": {
        "id": "pcONFNa02t_7",
        "colab_type": "text"
      },
      "source": [
        "Also, for Ticker symbols that less than 4 rows, they do not help us to analyze the stock performance, and their total data records are too less for regression of CAPM or Fama-French, so we want to keep `Ticker` Symbol at least for 6 months (half year) for our analysis since we do not want to remove too many rows but remove outliers."
      ]
    },
    {
      "cell_type": "code",
      "metadata": {
        "id": "bnz2fcWj3Xpy",
        "colab_type": "code",
        "colab": {}
      },
      "source": [
        "Tsize=df3.groupby(['Ticker']).Ticker.size()\n",
        "Tlist=Tsize[Tsize >= 6].index.tolist()"
      ],
      "execution_count": 0,
      "outputs": []
    },
    {
      "cell_type": "code",
      "metadata": {
        "id": "DY-rFJ5wKGQx",
        "colab_type": "code",
        "colab": {}
      },
      "source": [
        "df4=df3[df3.Ticker.isin(Tlist)]"
      ],
      "execution_count": 0,
      "outputs": []
    },
    {
      "cell_type": "code",
      "metadata": {
        "id": "WUB9sqwTKQBD",
        "colab_type": "code",
        "outputId": "62e4bb99-107c-443d-9864-bf8d4e6d02ba",
        "colab": {
          "base_uri": "https://localhost:8080/",
          "height": 221
        }
      },
      "source": [
        "df4['Ticker'].value_counts()"
      ],
      "execution_count": 0,
      "outputs": [
        {
          "output_type": "execute_result",
          "data": {
            "text/plain": [
              "ARNA    48\n",
              "TRUP    48\n",
              "PSX     48\n",
              "C       48\n",
              "HON     48\n",
              "        ..\n",
              "CHNG     6\n",
              "AMCR     6\n",
              "GO       6\n",
              "BBIO     6\n",
              "REAL     6\n",
              "Name: Ticker, Length: 1364, dtype: int64"
            ]
          },
          "metadata": {
            "tags": []
          },
          "execution_count": 263
        }
      ]
    },
    {
      "cell_type": "markdown",
      "metadata": {
        "id": "iJ_Y-KYjyUDg",
        "colab_type": "text"
      },
      "source": [
        "##Estimates the CAPM Beta"
      ]
    },
    {
      "cell_type": "code",
      "metadata": {
        "id": "YKaewihU9paC",
        "colab_type": "code",
        "colab": {}
      },
      "source": [
        "#Import \"Statsmodels\" library for regressions\n",
        "import statsmodels.api as sm"
      ],
      "execution_count": 0,
      "outputs": []
    },
    {
      "cell_type": "markdown",
      "metadata": {
        "id": "YofDrrfV-5sH",
        "colab_type": "text"
      },
      "source": [
        ">#### **CAPM**  \n",
        "(Capital Asset Pricing Model)  \n",
        "\n",
        "1\\. Formula:   \n",
        "\n",
        "$(Ri-Rf) = Alpha + Beta*(Rmkt-Rf) + e$ \n",
        "\n",
        "2\\. Explanation:   \n",
        "\n",
        "$Ri$: Stock Return   \n",
        "\n",
        "$Rf$: Risk-Free Rate of Return  \n",
        "\n",
        "$Rmkt(Rm)$: Market Return  \n",
        "\n",
        "$Alpha$: Differences between the assets' return and the expected return, which measure the reward or penalty for holding idiosyncratic risk.  \n",
        "\n",
        "$Beta$: Assets Systematic risk, which measure the sensitivity of the stock to the movement of the market portfolio. (market risk)  \n",
        "\n",
        "$e$: Idiosyncratic Risk which the firm-specific risk. (unsystematic risk)"
      ]
    },
    {
      "cell_type": "code",
      "metadata": {
        "id": "xH2I7nfeRZ17",
        "colab_type": "code",
        "colab": {}
      },
      "source": [
        "def CAPM(data, r):\n",
        "  X = df[df.Date.isin(data['Date'])]['Rm_minus_Rf'].values\n",
        "  y = (data[r].astype(float).values - df[df.Date.isin(data['Date'])]['Rf'].values).tolist()#df4['Ri']-df['Rf']\n",
        "  X = sm.add_constant(X) # adding a constant\n",
        "  model = sm.OLS(y, X).fit()\n",
        "  return model.params[1]"
      ],
      "execution_count": 0,
      "outputs": []
    },
    {
      "cell_type": "code",
      "metadata": {
        "id": "LOpLREeCTYnJ",
        "colab_type": "code",
        "colab": {}
      },
      "source": [
        "capm=df4.groupby('Ticker').apply(CAPM, 'Ri')"
      ],
      "execution_count": 0,
      "outputs": []
    },
    {
      "cell_type": "markdown",
      "metadata": {
        "id": "UCbpth_8Mpfx",
        "colab_type": "text"
      },
      "source": [
        "## Estimate the Fama-French 3-Factor Betas"
      ]
    },
    {
      "cell_type": "markdown",
      "metadata": {
        "id": "V7rUzUphMwSO",
        "colab_type": "text"
      },
      "source": [
        ">#### **Fama-French Three-Factor Model**   \n",
        "\n",
        "1\\. Formula:   \n",
        "\n",
        "$(Ri-Rf) = Alpha + Beta*(Rmkt-Rf) + s*SMB + h*HML + e$ \n",
        "\n",
        "2\\. Explanation:   \n",
        "\n",
        "$Ri$: Stock Return   \n",
        "\n",
        "$Rf$: Risk-Free Rate of Return  \n",
        "\n",
        "$Rmkt(Rm)$: Market Return  \n",
        "\n",
        "$Alpha$: Differences between the assets' return and the expected return, which measure the reward or penalty for holding idiosyncratic risk.  \n",
        "\n",
        "$Beta$: Assets Systematic risk, which measure the sensitivity of the stock to the movement of the market portfolio. (market risk) beta with respect to market   \n",
        "\n",
        "$e$: Idiosyncratic Risk which the firm-specific risk. (unsystematic risk) \n",
        "\n",
        "$s$: beta with respect to size    \n",
        "\n",
        "$h$: beta with respect to value    \n",
        "\n",
        "$SMB$: Size Factor  \n",
        "\n",
        "$HML$: Distress Factor or Value Factor"
      ]
    },
    {
      "cell_type": "code",
      "metadata": {
        "colab_type": "code",
        "id": "ku7YFkW_WWS9",
        "colab": {}
      },
      "source": [
        "def Fama_French(data, r):\n",
        "  X = df[df.Date.isin(data['Date'])][['Rm_minus_Rf', 'SMB', 'HML']].values\n",
        "  y = (data[r].astype(float).values - df[df.Date.isin(data['Date'])]['Rf'].values).tolist()#df4['Ri']-df['Rf']\n",
        "  X = sm.add_constant(X) # adding a constant\n",
        "  model = sm.OLS(y, X).fit()\n",
        "  return model.params[1:4]"
      ],
      "execution_count": 0,
      "outputs": []
    },
    {
      "cell_type": "code",
      "metadata": {
        "colab_type": "code",
        "id": "70z1at9hWWTC",
        "colab": {}
      },
      "source": [
        "fama_french=df4.groupby('Ticker').apply(Fama_French, 'Ri')"
      ],
      "execution_count": 0,
      "outputs": []
    },
    {
      "cell_type": "markdown",
      "metadata": {
        "id": "RGj4AJorRhNE",
        "colab_type": "text"
      },
      "source": [
        "## Statistics Description"
      ]
    },
    {
      "cell_type": "markdown",
      "metadata": {
        "id": "_upjyqyFRr5u",
        "colab_type": "text"
      },
      "source": [
        "#### CAPM"
      ]
    },
    {
      "cell_type": "code",
      "metadata": {
        "id": "HIcBl8b9U80D",
        "colab_type": "code",
        "outputId": "9547452d-c888-43ce-e37c-e38b1aa10e77",
        "colab": {
          "base_uri": "https://localhost:8080/",
          "height": 238
        }
      },
      "source": [
        "capm"
      ],
      "execution_count": 0,
      "outputs": [
        {
          "output_type": "execute_result",
          "data": {
            "text/plain": [
              "Ticker\n",
              "A       1.249362\n",
              "AAL     1.803727\n",
              "AAON    0.950044\n",
              "AAP     1.006860\n",
              "AAPL    1.172580\n",
              "          ...   \n",
              "ZLAB    1.348280\n",
              "ZM     -0.067142\n",
              "ZNGA    0.504836\n",
              "ZS      1.101106\n",
              "ZTS     0.690075\n",
              "Length: 1364, dtype: float64"
            ]
          },
          "metadata": {
            "tags": []
          },
          "execution_count": 269
        }
      ]
    },
    {
      "cell_type": "code",
      "metadata": {
        "id": "C7uyQ4VWRlKS",
        "colab_type": "code",
        "colab": {}
      },
      "source": [
        "capm=capm.to_frame(name=\"CAPM_Beta\")"
      ],
      "execution_count": 0,
      "outputs": []
    },
    {
      "cell_type": "code",
      "metadata": {
        "id": "gyRzT1_dfT1E",
        "colab_type": "code",
        "outputId": "65bf6861-bcdc-4730-e9cf-18b4a716e989",
        "colab": {
          "base_uri": "https://localhost:8080/",
          "height": 235
        }
      },
      "source": [
        "capm.head()"
      ],
      "execution_count": 0,
      "outputs": [
        {
          "output_type": "execute_result",
          "data": {
            "text/html": [
              "<div>\n",
              "<style scoped>\n",
              "    .dataframe tbody tr th:only-of-type {\n",
              "        vertical-align: middle;\n",
              "    }\n",
              "\n",
              "    .dataframe tbody tr th {\n",
              "        vertical-align: top;\n",
              "    }\n",
              "\n",
              "    .dataframe thead th {\n",
              "        text-align: right;\n",
              "    }\n",
              "</style>\n",
              "<table border=\"1\" class=\"dataframe\">\n",
              "  <thead>\n",
              "    <tr style=\"text-align: right;\">\n",
              "      <th></th>\n",
              "      <th>CAPM_Beta</th>\n",
              "    </tr>\n",
              "    <tr>\n",
              "      <th>Ticker</th>\n",
              "      <th></th>\n",
              "    </tr>\n",
              "  </thead>\n",
              "  <tbody>\n",
              "    <tr>\n",
              "      <th>A</th>\n",
              "      <td>1.249362</td>\n",
              "    </tr>\n",
              "    <tr>\n",
              "      <th>AAL</th>\n",
              "      <td>1.803727</td>\n",
              "    </tr>\n",
              "    <tr>\n",
              "      <th>AAON</th>\n",
              "      <td>0.950044</td>\n",
              "    </tr>\n",
              "    <tr>\n",
              "      <th>AAP</th>\n",
              "      <td>1.006860</td>\n",
              "    </tr>\n",
              "    <tr>\n",
              "      <th>AAPL</th>\n",
              "      <td>1.172580</td>\n",
              "    </tr>\n",
              "  </tbody>\n",
              "</table>\n",
              "</div>"
            ],
            "text/plain": [
              "        CAPM_Beta\n",
              "Ticker           \n",
              "A        1.249362\n",
              "AAL      1.803727\n",
              "AAON     0.950044\n",
              "AAP      1.006860\n",
              "AAPL     1.172580"
            ]
          },
          "metadata": {
            "tags": []
          },
          "execution_count": 271
        }
      ]
    },
    {
      "cell_type": "code",
      "metadata": {
        "id": "5RAxYm3KbFQQ",
        "colab_type": "code",
        "outputId": "ec7d78ba-9d8f-40b0-d6c5-417868258011",
        "colab": {
          "base_uri": "https://localhost:8080/",
          "height": 297
        }
      },
      "source": [
        "capm.describe()"
      ],
      "execution_count": 0,
      "outputs": [
        {
          "output_type": "execute_result",
          "data": {
            "text/html": [
              "<div>\n",
              "<style scoped>\n",
              "    .dataframe tbody tr th:only-of-type {\n",
              "        vertical-align: middle;\n",
              "    }\n",
              "\n",
              "    .dataframe tbody tr th {\n",
              "        vertical-align: top;\n",
              "    }\n",
              "\n",
              "    .dataframe thead th {\n",
              "        text-align: right;\n",
              "    }\n",
              "</style>\n",
              "<table border=\"1\" class=\"dataframe\">\n",
              "  <thead>\n",
              "    <tr style=\"text-align: right;\">\n",
              "      <th></th>\n",
              "      <th>CAPM_Beta</th>\n",
              "    </tr>\n",
              "  </thead>\n",
              "  <tbody>\n",
              "    <tr>\n",
              "      <th>count</th>\n",
              "      <td>1364.000000</td>\n",
              "    </tr>\n",
              "    <tr>\n",
              "      <th>mean</th>\n",
              "      <td>1.243769</td>\n",
              "    </tr>\n",
              "    <tr>\n",
              "      <th>std</th>\n",
              "      <td>1.341235</td>\n",
              "    </tr>\n",
              "    <tr>\n",
              "      <th>min</th>\n",
              "      <td>-5.007425</td>\n",
              "    </tr>\n",
              "    <tr>\n",
              "      <th>25%</th>\n",
              "      <td>0.767604</td>\n",
              "    </tr>\n",
              "    <tr>\n",
              "      <th>50%</th>\n",
              "      <td>1.169672</td>\n",
              "    </tr>\n",
              "    <tr>\n",
              "      <th>75%</th>\n",
              "      <td>1.545689</td>\n",
              "    </tr>\n",
              "    <tr>\n",
              "      <th>max</th>\n",
              "      <td>40.060448</td>\n",
              "    </tr>\n",
              "  </tbody>\n",
              "</table>\n",
              "</div>"
            ],
            "text/plain": [
              "         CAPM_Beta\n",
              "count  1364.000000\n",
              "mean      1.243769\n",
              "std       1.341235\n",
              "min      -5.007425\n",
              "25%       0.767604\n",
              "50%       1.169672\n",
              "75%       1.545689\n",
              "max      40.060448"
            ]
          },
          "metadata": {
            "tags": []
          },
          "execution_count": 272
        }
      ]
    },
    {
      "cell_type": "markdown",
      "metadata": {
        "id": "oignLRJCf9Ct",
        "colab_type": "text"
      },
      "source": [
        "**Summarize**:   \n",
        "i). The average CAPM Beta across all stocks is 1.24  \n",
        "ii). The minimum is -5.01, the 25th percentile is 0.77, the median is 1.17, the 75th percentile is 1.55, and the maximum is 40.06 for CAPM Beta. \n",
        "\n",
        "**There are some outliers since the maximum and minimum are far away the IQR boundary.**"
      ]
    },
    {
      "cell_type": "code",
      "metadata": {
        "id": "wtX_aIuogR3v",
        "colab_type": "code",
        "colab": {}
      },
      "source": [
        "from scipy.stats.mstats import winsorize\n",
        "# Convert variables\n",
        "# Using Winsorize to convert outliers\n",
        "for col in capm.columns:\n",
        "  capm[col] = winsorize(capm[col], limits=[0.05,0.07], inplace=True)\n",
        "  #stats.winsorize(limits = [lower,upper])"
      ],
      "execution_count": 0,
      "outputs": []
    },
    {
      "cell_type": "code",
      "metadata": {
        "id": "hWuo8iCahFDj",
        "colab_type": "code",
        "outputId": "c82b03be-0afb-4096-9435-816f6f93cd77",
        "colab": {
          "base_uri": "https://localhost:8080/",
          "height": 297
        }
      },
      "source": [
        "capm.describe()"
      ],
      "execution_count": 0,
      "outputs": [
        {
          "output_type": "execute_result",
          "data": {
            "text/html": [
              "<div>\n",
              "<style scoped>\n",
              "    .dataframe tbody tr th:only-of-type {\n",
              "        vertical-align: middle;\n",
              "    }\n",
              "\n",
              "    .dataframe tbody tr th {\n",
              "        vertical-align: top;\n",
              "    }\n",
              "\n",
              "    .dataframe thead th {\n",
              "        text-align: right;\n",
              "    }\n",
              "</style>\n",
              "<table border=\"1\" class=\"dataframe\">\n",
              "  <thead>\n",
              "    <tr style=\"text-align: right;\">\n",
              "      <th></th>\n",
              "      <th>CAPM_Beta</th>\n",
              "    </tr>\n",
              "  </thead>\n",
              "  <tbody>\n",
              "    <tr>\n",
              "      <th>count</th>\n",
              "      <td>1364.000000</td>\n",
              "    </tr>\n",
              "    <tr>\n",
              "      <th>mean</th>\n",
              "      <td>1.182811</td>\n",
              "    </tr>\n",
              "    <tr>\n",
              "      <th>std</th>\n",
              "      <td>0.584877</td>\n",
              "    </tr>\n",
              "    <tr>\n",
              "      <th>min</th>\n",
              "      <td>0.164903</td>\n",
              "    </tr>\n",
              "    <tr>\n",
              "      <th>25%</th>\n",
              "      <td>0.767604</td>\n",
              "    </tr>\n",
              "    <tr>\n",
              "      <th>50%</th>\n",
              "      <td>1.169672</td>\n",
              "    </tr>\n",
              "    <tr>\n",
              "      <th>75%</th>\n",
              "      <td>1.545689</td>\n",
              "    </tr>\n",
              "    <tr>\n",
              "      <th>max</th>\n",
              "      <td>2.291931</td>\n",
              "    </tr>\n",
              "  </tbody>\n",
              "</table>\n",
              "</div>"
            ],
            "text/plain": [
              "         CAPM_Beta\n",
              "count  1364.000000\n",
              "mean      1.182811\n",
              "std       0.584877\n",
              "min       0.164903\n",
              "25%       0.767604\n",
              "50%       1.169672\n",
              "75%       1.545689\n",
              "max       2.291931"
            ]
          },
          "metadata": {
            "tags": []
          },
          "execution_count": 274
        }
      ]
    },
    {
      "cell_type": "markdown",
      "metadata": {
        "id": "lwO2ZI5HkaML",
        "colab_type": "text"
      },
      "source": [
        "**Summarize**:   \n",
        "i). The average CAPM Beta across all stocks is 1.18  \n",
        "ii). The minimum is 0.16, the 25th percentile is 0.77, the median is 1.17, the 75th percentile is 1.55, and the maximum is 2.29 for CAPM Beta. \n",
        "\n",
        "**The range is more reasonable now.**"
      ]
    },
    {
      "cell_type": "markdown",
      "metadata": {
        "id": "sT6F1XYBRu4S",
        "colab_type": "text"
      },
      "source": [
        "#### Fama-French Three-Factor Model"
      ]
    },
    {
      "cell_type": "code",
      "metadata": {
        "colab_type": "code",
        "id": "2x8qkq8WWWTE",
        "outputId": "be2d51e8-68d3-4b5f-c19b-c13599a896b3",
        "colab": {
          "base_uri": "https://localhost:8080/",
          "height": 238
        }
      },
      "source": [
        "fama_french"
      ],
      "execution_count": 0,
      "outputs": [
        {
          "output_type": "execute_result",
          "data": {
            "text/plain": [
              "Ticker\n",
              "A       [1.3978103196043847, -0.5402075201203762, -0.3...\n",
              "AAL     [1.7988552604686967, -0.025964565501159498, 0....\n",
              "AAON    [0.9289649934894557, 0.07824942391455628, 0.02...\n",
              "AAP     [0.8759471515070184, 0.45354604370153095, 0.62...\n",
              "AAPL    [1.296142814191379, -0.4161797823140478, -0.77...\n",
              "                              ...                        \n",
              "ZLAB    [1.1893338558144673, 0.7383777230608509, -1.55...\n",
              "ZM      [0.3905902578117175, -0.21208033594696052, -1....\n",
              "ZNGA    [0.15967543299671438, 1.369959842830642, -1.04...\n",
              "ZS      [1.5958078973518302, -1.7286520105709569, -3.4...\n",
              "ZTS     [0.6637505209787407, 0.12204729398811653, -0.3...\n",
              "Length: 1364, dtype: object"
            ]
          },
          "metadata": {
            "tags": []
          },
          "execution_count": 275
        }
      ]
    },
    {
      "cell_type": "code",
      "metadata": {
        "id": "5Ie1ecwrdd-3",
        "colab_type": "code",
        "colab": {}
      },
      "source": [
        "fama_french = pd.DataFrame(fama_french.values.tolist(), columns=['FF-Beta','FF-Size','FF-Value'])"
      ],
      "execution_count": 0,
      "outputs": []
    },
    {
      "cell_type": "code",
      "metadata": {
        "id": "8Yw60WNiR5TJ",
        "colab_type": "code",
        "outputId": "d27042ee-8734-4b96-eb57-54b1feeb7658",
        "colab": {
          "base_uri": "https://localhost:8080/",
          "height": 204
        }
      },
      "source": [
        "fama_french.head()"
      ],
      "execution_count": 0,
      "outputs": [
        {
          "output_type": "execute_result",
          "data": {
            "text/html": [
              "<div>\n",
              "<style scoped>\n",
              "    .dataframe tbody tr th:only-of-type {\n",
              "        vertical-align: middle;\n",
              "    }\n",
              "\n",
              "    .dataframe tbody tr th {\n",
              "        vertical-align: top;\n",
              "    }\n",
              "\n",
              "    .dataframe thead th {\n",
              "        text-align: right;\n",
              "    }\n",
              "</style>\n",
              "<table border=\"1\" class=\"dataframe\">\n",
              "  <thead>\n",
              "    <tr style=\"text-align: right;\">\n",
              "      <th></th>\n",
              "      <th>FF-Beta</th>\n",
              "      <th>FF-Size</th>\n",
              "      <th>FF-Value</th>\n",
              "    </tr>\n",
              "  </thead>\n",
              "  <tbody>\n",
              "    <tr>\n",
              "      <th>0</th>\n",
              "      <td>1.397810</td>\n",
              "      <td>-0.540208</td>\n",
              "      <td>-0.310123</td>\n",
              "    </tr>\n",
              "    <tr>\n",
              "      <th>1</th>\n",
              "      <td>1.798855</td>\n",
              "      <td>-0.025965</td>\n",
              "      <td>0.686844</td>\n",
              "    </tr>\n",
              "    <tr>\n",
              "      <th>2</th>\n",
              "      <td>0.928965</td>\n",
              "      <td>0.078249</td>\n",
              "      <td>0.020157</td>\n",
              "    </tr>\n",
              "    <tr>\n",
              "      <th>3</th>\n",
              "      <td>0.875947</td>\n",
              "      <td>0.453546</td>\n",
              "      <td>0.627367</td>\n",
              "    </tr>\n",
              "    <tr>\n",
              "      <th>4</th>\n",
              "      <td>1.296143</td>\n",
              "      <td>-0.416180</td>\n",
              "      <td>-0.776466</td>\n",
              "    </tr>\n",
              "  </tbody>\n",
              "</table>\n",
              "</div>"
            ],
            "text/plain": [
              "    FF-Beta   FF-Size  FF-Value\n",
              "0  1.397810 -0.540208 -0.310123\n",
              "1  1.798855 -0.025965  0.686844\n",
              "2  0.928965  0.078249  0.020157\n",
              "3  0.875947  0.453546  0.627367\n",
              "4  1.296143 -0.416180 -0.776466"
            ]
          },
          "metadata": {
            "tags": []
          },
          "execution_count": 277
        }
      ]
    },
    {
      "cell_type": "code",
      "metadata": {
        "id": "1iqu5413b8wH",
        "colab_type": "code",
        "outputId": "a898f29a-c592-4f90-f718-6c6bf5c5e5a8",
        "colab": {
          "base_uri": "https://localhost:8080/",
          "height": 297
        }
      },
      "source": [
        "fama_french.describe()"
      ],
      "execution_count": 0,
      "outputs": [
        {
          "output_type": "execute_result",
          "data": {
            "text/html": [
              "<div>\n",
              "<style scoped>\n",
              "    .dataframe tbody tr th:only-of-type {\n",
              "        vertical-align: middle;\n",
              "    }\n",
              "\n",
              "    .dataframe tbody tr th {\n",
              "        vertical-align: top;\n",
              "    }\n",
              "\n",
              "    .dataframe thead th {\n",
              "        text-align: right;\n",
              "    }\n",
              "</style>\n",
              "<table border=\"1\" class=\"dataframe\">\n",
              "  <thead>\n",
              "    <tr style=\"text-align: right;\">\n",
              "      <th></th>\n",
              "      <th>FF-Beta</th>\n",
              "      <th>FF-Size</th>\n",
              "      <th>FF-Value</th>\n",
              "    </tr>\n",
              "  </thead>\n",
              "  <tbody>\n",
              "    <tr>\n",
              "      <th>count</th>\n",
              "      <td>1364.000000</td>\n",
              "      <td>1364.000000</td>\n",
              "      <td>1364.000000</td>\n",
              "    </tr>\n",
              "    <tr>\n",
              "      <th>mean</th>\n",
              "      <td>1.113419</td>\n",
              "      <td>0.575382</td>\n",
              "      <td>-0.034652</td>\n",
              "    </tr>\n",
              "    <tr>\n",
              "      <th>std</th>\n",
              "      <td>2.000123</td>\n",
              "      <td>1.962073</td>\n",
              "      <td>1.286439</td>\n",
              "    </tr>\n",
              "    <tr>\n",
              "      <th>min</th>\n",
              "      <td>-10.567507</td>\n",
              "      <td>-26.685662</td>\n",
              "      <td>-23.102998</td>\n",
              "    </tr>\n",
              "    <tr>\n",
              "      <th>25%</th>\n",
              "      <td>0.642078</td>\n",
              "      <td>-0.070789</td>\n",
              "      <td>-0.475491</td>\n",
              "    </tr>\n",
              "    <tr>\n",
              "      <th>50%</th>\n",
              "      <td>1.027332</td>\n",
              "      <td>0.394918</td>\n",
              "      <td>0.017082</td>\n",
              "    </tr>\n",
              "    <tr>\n",
              "      <th>75%</th>\n",
              "      <td>1.407668</td>\n",
              "      <td>1.026995</td>\n",
              "      <td>0.551794</td>\n",
              "    </tr>\n",
              "    <tr>\n",
              "      <th>max</th>\n",
              "      <td>63.573366</td>\n",
              "      <td>21.228339</td>\n",
              "      <td>10.341841</td>\n",
              "    </tr>\n",
              "  </tbody>\n",
              "</table>\n",
              "</div>"
            ],
            "text/plain": [
              "           FF-Beta      FF-Size     FF-Value\n",
              "count  1364.000000  1364.000000  1364.000000\n",
              "mean      1.113419     0.575382    -0.034652\n",
              "std       2.000123     1.962073     1.286439\n",
              "min     -10.567507   -26.685662   -23.102998\n",
              "25%       0.642078    -0.070789    -0.475491\n",
              "50%       1.027332     0.394918     0.017082\n",
              "75%       1.407668     1.026995     0.551794\n",
              "max      63.573366    21.228339    10.341841"
            ]
          },
          "metadata": {
            "tags": []
          },
          "execution_count": 278
        }
      ]
    },
    {
      "cell_type": "markdown",
      "metadata": {
        "id": "DknCin3RhKA0",
        "colab_type": "text"
      },
      "source": [
        "**Summarize**:     \n",
        "\n",
        ">Fama-French Beta  \n",
        "\n",
        "i). The average Fama-French Beta across all stocks is 1.11  \n",
        "ii). The minimum is -10.57, the 25th percentile is 0.64, the median is 1.03, the 75th percentile is 1.41, and the maximum is 63.57 for Fama-French Beta.   \n",
        "\n",
        ">s coefficient \n",
        "\n",
        "i). The average s coefficient across all stocks is 0.58   \n",
        "ii). The minimum is -26.69, the 25th percentile is -0.07, the median is 0.39, the 75th percentile is 1.03, and the maximum is 21.23 for s coefficient.   \n",
        "\n",
        ">h coefficient  \n",
        "\n",
        "i). The average h coefficient across all stocks is -0.03    \n",
        "ii). The minimum is -23.10, the 25th percentile is -0.48, the median is 0.02, the 75th percentile is 0.55, and the maximum is 10.34 for h coefficient. \n",
        "\n",
        "**There are some outliers since those maximum and minimum are far away those IQR boundaries.**"
      ]
    },
    {
      "cell_type": "code",
      "metadata": {
        "colab_type": "code",
        "id": "I7U8RuvphPn2",
        "colab": {}
      },
      "source": [
        "from scipy.stats.mstats import winsorize\n",
        "# Convert variables\n",
        "# Using winsorise to convert outliers\n",
        "for col in fama_french.columns:\n",
        "  fama_french[col] = winsorize(fama_french[col], limits=[0.06,0.07], inplace=True)\n",
        "  #stats.winsorize(limits = [lower,upper])"
      ],
      "execution_count": 0,
      "outputs": []
    },
    {
      "cell_type": "code",
      "metadata": {
        "colab_type": "code",
        "outputId": "527a38f6-9237-4446-ea7e-65758bd0124a",
        "id": "X9YuAOSQhPn6",
        "colab": {
          "base_uri": "https://localhost:8080/",
          "height": 297
        }
      },
      "source": [
        "fama_french.describe()"
      ],
      "execution_count": 0,
      "outputs": [
        {
          "output_type": "execute_result",
          "data": {
            "text/html": [
              "<div>\n",
              "<style scoped>\n",
              "    .dataframe tbody tr th:only-of-type {\n",
              "        vertical-align: middle;\n",
              "    }\n",
              "\n",
              "    .dataframe tbody tr th {\n",
              "        vertical-align: top;\n",
              "    }\n",
              "\n",
              "    .dataframe thead th {\n",
              "        text-align: right;\n",
              "    }\n",
              "</style>\n",
              "<table border=\"1\" class=\"dataframe\">\n",
              "  <thead>\n",
              "    <tr style=\"text-align: right;\">\n",
              "      <th></th>\n",
              "      <th>FF-Beta</th>\n",
              "      <th>FF-Size</th>\n",
              "      <th>FF-Value</th>\n",
              "    </tr>\n",
              "  </thead>\n",
              "  <tbody>\n",
              "    <tr>\n",
              "      <th>count</th>\n",
              "      <td>1364.000000</td>\n",
              "      <td>1364.000000</td>\n",
              "      <td>1364.000000</td>\n",
              "    </tr>\n",
              "    <tr>\n",
              "      <th>mean</th>\n",
              "      <td>1.043025</td>\n",
              "      <td>0.536846</td>\n",
              "      <td>-0.005222</td>\n",
              "    </tr>\n",
              "    <tr>\n",
              "      <th>std</th>\n",
              "      <td>0.539098</td>\n",
              "      <td>0.820563</td>\n",
              "      <td>0.759214</td>\n",
              "    </tr>\n",
              "    <tr>\n",
              "      <th>min</th>\n",
              "      <td>0.148600</td>\n",
              "      <td>-0.672656</td>\n",
              "      <td>-1.582187</td>\n",
              "    </tr>\n",
              "    <tr>\n",
              "      <th>25%</th>\n",
              "      <td>0.642078</td>\n",
              "      <td>-0.070789</td>\n",
              "      <td>-0.475491</td>\n",
              "    </tr>\n",
              "    <tr>\n",
              "      <th>50%</th>\n",
              "      <td>1.027332</td>\n",
              "      <td>0.394918</td>\n",
              "      <td>0.017082</td>\n",
              "    </tr>\n",
              "    <tr>\n",
              "      <th>75%</th>\n",
              "      <td>1.407668</td>\n",
              "      <td>1.026995</td>\n",
              "      <td>0.551794</td>\n",
              "    </tr>\n",
              "    <tr>\n",
              "      <th>max</th>\n",
              "      <td>2.030379</td>\n",
              "      <td>2.254943</td>\n",
              "      <td>1.193936</td>\n",
              "    </tr>\n",
              "  </tbody>\n",
              "</table>\n",
              "</div>"
            ],
            "text/plain": [
              "           FF-Beta      FF-Size     FF-Value\n",
              "count  1364.000000  1364.000000  1364.000000\n",
              "mean      1.043025     0.536846    -0.005222\n",
              "std       0.539098     0.820563     0.759214\n",
              "min       0.148600    -0.672656    -1.582187\n",
              "25%       0.642078    -0.070789    -0.475491\n",
              "50%       1.027332     0.394918     0.017082\n",
              "75%       1.407668     1.026995     0.551794\n",
              "max       2.030379     2.254943     1.193936"
            ]
          },
          "metadata": {
            "tags": []
          },
          "execution_count": 280
        }
      ]
    },
    {
      "cell_type": "markdown",
      "metadata": {
        "id": "d4SJVWCQjUrI",
        "colab_type": "text"
      },
      "source": [
        "**Summarize**:     \n",
        "\n",
        ">Fama-French Beta  \n",
        "\n",
        "i). The average Fama-French Beta across all stocks is 1.04  \n",
        "ii). The minimum is 0.15, the 25th percentile is 0.64, the median is 1.03, the 75th percentile is 1.41, and the maximum is 2.03 for Fama-French Beta,which now is the normal range for Fama-French Beta (0,2)   \n",
        "\n",
        ">s coefficient \n",
        "\n",
        "i). The average s coefficient across all stocks is 0.54   \n",
        "ii). The minimum is -0.67, the 25th percentile is -0.07, the median is 0.39, the 75th percentile is 1.03, and the maximum is 2.25 for s coefficient.   \n",
        "\n",
        ">h coefficient  \n",
        "\n",
        "i). The average h coefficient across all stocks is -0.01    \n",
        "ii). The minimum is -1.58, the 25th percentile is -0.48, the median is 0.02, the 75th percentile is 0.55, and the maximum is 1.19 for h coefficient. \n",
        "\n",
        "**The ranges are more reasonable after winsorize the outliners**"
      ]
    },
    {
      "cell_type": "markdown",
      "metadata": {
        "id": "En7rQmAd0Neu",
        "colab_type": "text"
      },
      "source": [
        "### Export Data File"
      ]
    },
    {
      "cell_type": "code",
      "metadata": {
        "id": "d_Sk1ygtk-Id",
        "colab_type": "code",
        "outputId": "236d0c7e-550e-4d2b-d9d8-b0880f515df8",
        "colab": {
          "base_uri": "https://localhost:8080/",
          "height": 235
        }
      },
      "source": [
        "ticker = df4['Ticker'].value_counts()\n",
        "ticker = ticker.sort_index(ascending=True).keys().to_frame(name='Ticker')\n",
        "tmp = pd.concat([ticker,capm],axis=1)\n",
        "tmp.head()"
      ],
      "execution_count": 0,
      "outputs": [
        {
          "output_type": "execute_result",
          "data": {
            "text/html": [
              "<div>\n",
              "<style scoped>\n",
              "    .dataframe tbody tr th:only-of-type {\n",
              "        vertical-align: middle;\n",
              "    }\n",
              "\n",
              "    .dataframe tbody tr th {\n",
              "        vertical-align: top;\n",
              "    }\n",
              "\n",
              "    .dataframe thead th {\n",
              "        text-align: right;\n",
              "    }\n",
              "</style>\n",
              "<table border=\"1\" class=\"dataframe\">\n",
              "  <thead>\n",
              "    <tr style=\"text-align: right;\">\n",
              "      <th></th>\n",
              "      <th>Ticker</th>\n",
              "      <th>CAPM_Beta</th>\n",
              "    </tr>\n",
              "    <tr>\n",
              "      <th>Ticker</th>\n",
              "      <th></th>\n",
              "      <th></th>\n",
              "    </tr>\n",
              "  </thead>\n",
              "  <tbody>\n",
              "    <tr>\n",
              "      <th>A</th>\n",
              "      <td>A</td>\n",
              "      <td>1.249362</td>\n",
              "    </tr>\n",
              "    <tr>\n",
              "      <th>AAL</th>\n",
              "      <td>AAL</td>\n",
              "      <td>1.803727</td>\n",
              "    </tr>\n",
              "    <tr>\n",
              "      <th>AAON</th>\n",
              "      <td>AAON</td>\n",
              "      <td>0.950044</td>\n",
              "    </tr>\n",
              "    <tr>\n",
              "      <th>AAP</th>\n",
              "      <td>AAP</td>\n",
              "      <td>1.006860</td>\n",
              "    </tr>\n",
              "    <tr>\n",
              "      <th>AAPL</th>\n",
              "      <td>AAPL</td>\n",
              "      <td>1.172580</td>\n",
              "    </tr>\n",
              "  </tbody>\n",
              "</table>\n",
              "</div>"
            ],
            "text/plain": [
              "       Ticker  CAPM_Beta\n",
              "Ticker                  \n",
              "A           A   1.249362\n",
              "AAL       AAL   1.803727\n",
              "AAON     AAON   0.950044\n",
              "AAP       AAP   1.006860\n",
              "AAPL     AAPL   1.172580"
            ]
          },
          "metadata": {
            "tags": []
          },
          "execution_count": 281
        }
      ]
    },
    {
      "cell_type": "code",
      "metadata": {
        "id": "hqN3E2b50RKu",
        "colab_type": "code",
        "outputId": "92063e78-7221-49f9-f1c4-c3d6960a869e",
        "colab": {
          "base_uri": "https://localhost:8080/",
          "height": 235
        }
      },
      "source": [
        "ticker2 = ticker.sort_index(ascending=True)\n",
        "ticker2\n",
        "fama_french.set_index(ticker2['Ticker'],inplace = True)\n",
        "fama_french.head()"
      ],
      "execution_count": 0,
      "outputs": [
        {
          "output_type": "execute_result",
          "data": {
            "text/html": [
              "<div>\n",
              "<style scoped>\n",
              "    .dataframe tbody tr th:only-of-type {\n",
              "        vertical-align: middle;\n",
              "    }\n",
              "\n",
              "    .dataframe tbody tr th {\n",
              "        vertical-align: top;\n",
              "    }\n",
              "\n",
              "    .dataframe thead th {\n",
              "        text-align: right;\n",
              "    }\n",
              "</style>\n",
              "<table border=\"1\" class=\"dataframe\">\n",
              "  <thead>\n",
              "    <tr style=\"text-align: right;\">\n",
              "      <th></th>\n",
              "      <th>FF-Beta</th>\n",
              "      <th>FF-Size</th>\n",
              "      <th>FF-Value</th>\n",
              "    </tr>\n",
              "    <tr>\n",
              "      <th>Ticker</th>\n",
              "      <th></th>\n",
              "      <th></th>\n",
              "      <th></th>\n",
              "    </tr>\n",
              "  </thead>\n",
              "  <tbody>\n",
              "    <tr>\n",
              "      <th>A</th>\n",
              "      <td>1.397810</td>\n",
              "      <td>-0.540208</td>\n",
              "      <td>-0.310123</td>\n",
              "    </tr>\n",
              "    <tr>\n",
              "      <th>AAL</th>\n",
              "      <td>1.798855</td>\n",
              "      <td>-0.025965</td>\n",
              "      <td>0.686844</td>\n",
              "    </tr>\n",
              "    <tr>\n",
              "      <th>AAON</th>\n",
              "      <td>0.928965</td>\n",
              "      <td>0.078249</td>\n",
              "      <td>0.020157</td>\n",
              "    </tr>\n",
              "    <tr>\n",
              "      <th>AAP</th>\n",
              "      <td>0.875947</td>\n",
              "      <td>0.453546</td>\n",
              "      <td>0.627367</td>\n",
              "    </tr>\n",
              "    <tr>\n",
              "      <th>AAPL</th>\n",
              "      <td>1.296143</td>\n",
              "      <td>-0.416180</td>\n",
              "      <td>-0.776466</td>\n",
              "    </tr>\n",
              "  </tbody>\n",
              "</table>\n",
              "</div>"
            ],
            "text/plain": [
              "         FF-Beta   FF-Size  FF-Value\n",
              "Ticker                              \n",
              "A       1.397810 -0.540208 -0.310123\n",
              "AAL     1.798855 -0.025965  0.686844\n",
              "AAON    0.928965  0.078249  0.020157\n",
              "AAP     0.875947  0.453546  0.627367\n",
              "AAPL    1.296143 -0.416180 -0.776466"
            ]
          },
          "metadata": {
            "tags": []
          },
          "execution_count": 282
        }
      ]
    },
    {
      "cell_type": "code",
      "metadata": {
        "id": "inKNDGVC0YN4",
        "colab_type": "code",
        "colab": {}
      },
      "source": [
        "results = pd.concat([tmp, fama_french], axis=1)"
      ],
      "execution_count": 0,
      "outputs": []
    },
    {
      "cell_type": "code",
      "metadata": {
        "id": "6DJp56zZB1H7",
        "colab_type": "code",
        "colab": {}
      },
      "source": [
        "results.index.name = None"
      ],
      "execution_count": 0,
      "outputs": []
    },
    {
      "cell_type": "code",
      "metadata": {
        "id": "9tlEOWI9EFR5",
        "colab_type": "code",
        "outputId": "7199ef7b-cac1-4a47-b298-b4fe13e737b8",
        "colab": {
          "base_uri": "https://localhost:8080/",
          "height": 419
        }
      },
      "source": [
        "results.reset_index(drop=True, inplace=True)\n",
        "results"
      ],
      "execution_count": 0,
      "outputs": [
        {
          "output_type": "execute_result",
          "data": {
            "text/html": [
              "<div>\n",
              "<style scoped>\n",
              "    .dataframe tbody tr th:only-of-type {\n",
              "        vertical-align: middle;\n",
              "    }\n",
              "\n",
              "    .dataframe tbody tr th {\n",
              "        vertical-align: top;\n",
              "    }\n",
              "\n",
              "    .dataframe thead th {\n",
              "        text-align: right;\n",
              "    }\n",
              "</style>\n",
              "<table border=\"1\" class=\"dataframe\">\n",
              "  <thead>\n",
              "    <tr style=\"text-align: right;\">\n",
              "      <th></th>\n",
              "      <th>Ticker</th>\n",
              "      <th>CAPM_Beta</th>\n",
              "      <th>FF-Beta</th>\n",
              "      <th>FF-Size</th>\n",
              "      <th>FF-Value</th>\n",
              "    </tr>\n",
              "  </thead>\n",
              "  <tbody>\n",
              "    <tr>\n",
              "      <th>0</th>\n",
              "      <td>A</td>\n",
              "      <td>1.249362</td>\n",
              "      <td>1.397810</td>\n",
              "      <td>-0.540208</td>\n",
              "      <td>-0.310123</td>\n",
              "    </tr>\n",
              "    <tr>\n",
              "      <th>1</th>\n",
              "      <td>AAL</td>\n",
              "      <td>1.803727</td>\n",
              "      <td>1.798855</td>\n",
              "      <td>-0.025965</td>\n",
              "      <td>0.686844</td>\n",
              "    </tr>\n",
              "    <tr>\n",
              "      <th>2</th>\n",
              "      <td>AAON</td>\n",
              "      <td>0.950044</td>\n",
              "      <td>0.928965</td>\n",
              "      <td>0.078249</td>\n",
              "      <td>0.020157</td>\n",
              "    </tr>\n",
              "    <tr>\n",
              "      <th>3</th>\n",
              "      <td>AAP</td>\n",
              "      <td>1.006860</td>\n",
              "      <td>0.875947</td>\n",
              "      <td>0.453546</td>\n",
              "      <td>0.627367</td>\n",
              "    </tr>\n",
              "    <tr>\n",
              "      <th>4</th>\n",
              "      <td>AAPL</td>\n",
              "      <td>1.172580</td>\n",
              "      <td>1.296143</td>\n",
              "      <td>-0.416180</td>\n",
              "      <td>-0.776466</td>\n",
              "    </tr>\n",
              "    <tr>\n",
              "      <th>...</th>\n",
              "      <td>...</td>\n",
              "      <td>...</td>\n",
              "      <td>...</td>\n",
              "      <td>...</td>\n",
              "      <td>...</td>\n",
              "    </tr>\n",
              "    <tr>\n",
              "      <th>1359</th>\n",
              "      <td>ZLAB</td>\n",
              "      <td>1.348280</td>\n",
              "      <td>1.189334</td>\n",
              "      <td>0.738378</td>\n",
              "      <td>-1.551609</td>\n",
              "    </tr>\n",
              "    <tr>\n",
              "      <th>1360</th>\n",
              "      <td>ZM</td>\n",
              "      <td>0.164903</td>\n",
              "      <td>0.390590</td>\n",
              "      <td>-0.212080</td>\n",
              "      <td>-1.582187</td>\n",
              "    </tr>\n",
              "    <tr>\n",
              "      <th>1361</th>\n",
              "      <td>ZNGA</td>\n",
              "      <td>0.504836</td>\n",
              "      <td>0.159675</td>\n",
              "      <td>1.369960</td>\n",
              "      <td>-1.042994</td>\n",
              "    </tr>\n",
              "    <tr>\n",
              "      <th>1362</th>\n",
              "      <td>ZS</td>\n",
              "      <td>1.101106</td>\n",
              "      <td>1.595808</td>\n",
              "      <td>-0.672656</td>\n",
              "      <td>-1.582187</td>\n",
              "    </tr>\n",
              "    <tr>\n",
              "      <th>1363</th>\n",
              "      <td>ZTS</td>\n",
              "      <td>0.690075</td>\n",
              "      <td>0.663751</td>\n",
              "      <td>0.122047</td>\n",
              "      <td>-0.351586</td>\n",
              "    </tr>\n",
              "  </tbody>\n",
              "</table>\n",
              "<p>1364 rows × 5 columns</p>\n",
              "</div>"
            ],
            "text/plain": [
              "     Ticker  CAPM_Beta   FF-Beta   FF-Size  FF-Value\n",
              "0         A   1.249362  1.397810 -0.540208 -0.310123\n",
              "1       AAL   1.803727  1.798855 -0.025965  0.686844\n",
              "2      AAON   0.950044  0.928965  0.078249  0.020157\n",
              "3       AAP   1.006860  0.875947  0.453546  0.627367\n",
              "4      AAPL   1.172580  1.296143 -0.416180 -0.776466\n",
              "...     ...        ...       ...       ...       ...\n",
              "1359   ZLAB   1.348280  1.189334  0.738378 -1.551609\n",
              "1360     ZM   0.164903  0.390590 -0.212080 -1.582187\n",
              "1361   ZNGA   0.504836  0.159675  1.369960 -1.042994\n",
              "1362     ZS   1.101106  1.595808 -0.672656 -1.582187\n",
              "1363    ZTS   0.690075  0.663751  0.122047 -0.351586\n",
              "\n",
              "[1364 rows x 5 columns]"
            ]
          },
          "metadata": {
            "tags": []
          },
          "execution_count": 285
        }
      ]
    },
    {
      "cell_type": "code",
      "metadata": {
        "id": "BG5B-udTSPHK",
        "colab_type": "code",
        "outputId": "ae8aabaf-c665-411e-86d4-d70d540cdd3b",
        "colab": {
          "base_uri": "https://localhost:8080/",
          "height": 119
        }
      },
      "source": [
        "results.isna().any()"
      ],
      "execution_count": 0,
      "outputs": [
        {
          "output_type": "execute_result",
          "data": {
            "text/plain": [
              "Ticker       False\n",
              "CAPM_Beta    False\n",
              "FF-Beta      False\n",
              "FF-Size      False\n",
              "FF-Value     False\n",
              "dtype: bool"
            ]
          },
          "metadata": {
            "tags": []
          },
          "execution_count": 286
        }
      ]
    },
    {
      "cell_type": "code",
      "metadata": {
        "id": "SngF2wQx0aVJ",
        "colab_type": "code",
        "colab": {}
      },
      "source": [
        "results.to_excel(\"Assign4-Output.xlsx\",index=False,header=True)"
      ],
      "execution_count": 0,
      "outputs": []
    },
    {
      "cell_type": "markdown",
      "metadata": {
        "id": "kyt-dK061XNf",
        "colab_type": "text"
      },
      "source": [
        "## Bonus"
      ]
    },
    {
      "cell_type": "markdown",
      "metadata": {
        "id": "W5TAwiDZgKAn",
        "colab_type": "text"
      },
      "source": [
        "### Import Data"
      ]
    },
    {
      "cell_type": "code",
      "metadata": {
        "id": "mqMXQBHOYAK1",
        "colab_type": "code",
        "outputId": "37e87848-8b71-4877-ab37-f80a5905414e",
        "colab": {
          "resources": {
            "http://localhost:8080/nbextensions/google.colab/files.js": {
              "data": "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",
              "ok": true,
              "headers": [
                [
                  "content-type",
                  "application/javascript"
                ]
              ],
              "status": 200,
              "status_text": ""
            }
          },
          "base_uri": "https://localhost:8080/",
          "height": 71
        }
      },
      "source": [
        "from google.colab import files\n",
        "uploaded = files.upload()"
      ],
      "execution_count": 0,
      "outputs": [
        {
          "output_type": "display_data",
          "data": {
            "text/html": [
              "\n",
              "     <input type=\"file\" id=\"files-6c7e4296-77b0-410f-9ddb-f11992333134\" name=\"files[]\" multiple disabled />\n",
              "     <output id=\"result-6c7e4296-77b0-410f-9ddb-f11992333134\">\n",
              "      Upload widget is only available when the cell has been executed in the\n",
              "      current browser session. Please rerun this cell to enable.\n",
              "      </output>\n",
              "      <script src=\"/nbextensions/google.colab/files.js\"></script> "
            ],
            "text/plain": [
              "<IPython.core.display.HTML object>"
            ]
          },
          "metadata": {
            "tags": []
          }
        },
        {
          "output_type": "stream",
          "text": [
            "Saving BA870 Project Data 2020.xlsx to BA870 Project Data 2020.xlsx\n"
          ],
          "name": "stdout"
        }
      ]
    },
    {
      "cell_type": "code",
      "metadata": {
        "id": "7rAMHmgKZAd-",
        "colab_type": "code",
        "colab": {}
      },
      "source": [
        "assignoutput = pd.DataFrame(pd.read_excel('Assign4-Output.xlsx'))\n",
        "projectdata = pd.DataFrame(pd.read_excel('BA870 Project Data 2020.xlsx'))\n",
        "projectdata.drop(['Ticker'],axis=1,inplace=True)"
      ],
      "execution_count": 0,
      "outputs": []
    },
    {
      "cell_type": "markdown",
      "metadata": {
        "id": "4Tyj9DtIgU_y",
        "colab_type": "text"
      },
      "source": [
        "### Combine Data and Data Cleaning"
      ]
    },
    {
      "cell_type": "code",
      "metadata": {
        "id": "2Uy2qBeMgPaZ",
        "colab_type": "code",
        "colab": {}
      },
      "source": [
        "combinedfile = pd.merge(assignoutput, projectdata, left_on= 'Ticker', right_on= 'tic').drop('tic',axis=1)\n",
        "combinedfile.to_csv('Assign4-Combine.csv', index=False, header=True)"
      ],
      "execution_count": 0,
      "outputs": []
    },
    {
      "cell_type": "code",
      "metadata": {
        "id": "ND2NdovpZBDF",
        "colab_type": "code",
        "outputId": "0b1c904f-4429-4f92-f2b5-2b9552a438ed",
        "colab": {
          "base_uri": "https://localhost:8080/",
          "height": 419
        }
      },
      "source": [
        "bonus = pd.DataFrame(pd.read_csv('Assign4-Combine.csv')[['YTD Ret', 'CAPM_Beta', 'FF-Beta', 'FF-Size', 'FF-Value']])\n",
        "bonus"
      ],
      "execution_count": 0,
      "outputs": [
        {
          "output_type": "execute_result",
          "data": {
            "text/html": [
              "<div>\n",
              "<style scoped>\n",
              "    .dataframe tbody tr th:only-of-type {\n",
              "        vertical-align: middle;\n",
              "    }\n",
              "\n",
              "    .dataframe tbody tr th {\n",
              "        vertical-align: top;\n",
              "    }\n",
              "\n",
              "    .dataframe thead th {\n",
              "        text-align: right;\n",
              "    }\n",
              "</style>\n",
              "<table border=\"1\" class=\"dataframe\">\n",
              "  <thead>\n",
              "    <tr style=\"text-align: right;\">\n",
              "      <th></th>\n",
              "      <th>YTD Ret</th>\n",
              "      <th>CAPM_Beta</th>\n",
              "      <th>FF-Beta</th>\n",
              "      <th>FF-Size</th>\n",
              "      <th>FF-Value</th>\n",
              "    </tr>\n",
              "  </thead>\n",
              "  <tbody>\n",
              "    <tr>\n",
              "      <th>0</th>\n",
              "      <td>-0.1745</td>\n",
              "      <td>1.249362</td>\n",
              "      <td>1.397810</td>\n",
              "      <td>-0.540208</td>\n",
              "      <td>-0.310123</td>\n",
              "    </tr>\n",
              "    <tr>\n",
              "      <th>1</th>\n",
              "      <td>-0.6726</td>\n",
              "      <td>1.803727</td>\n",
              "      <td>1.798855</td>\n",
              "      <td>-0.025965</td>\n",
              "      <td>0.686844</td>\n",
              "    </tr>\n",
              "    <tr>\n",
              "      <th>2</th>\n",
              "      <td>-0.0911</td>\n",
              "      <td>0.950044</td>\n",
              "      <td>0.928965</td>\n",
              "      <td>0.078249</td>\n",
              "      <td>0.020157</td>\n",
              "    </tr>\n",
              "    <tr>\n",
              "      <th>3</th>\n",
              "      <td>-0.4715</td>\n",
              "      <td>1.006860</td>\n",
              "      <td>0.875947</td>\n",
              "      <td>0.453546</td>\n",
              "      <td>0.627367</td>\n",
              "    </tr>\n",
              "    <tr>\n",
              "      <th>4</th>\n",
              "      <td>-0.1779</td>\n",
              "      <td>1.172580</td>\n",
              "      <td>1.296143</td>\n",
              "      <td>-0.416180</td>\n",
              "      <td>-0.776466</td>\n",
              "    </tr>\n",
              "    <tr>\n",
              "      <th>...</th>\n",
              "      <td>...</td>\n",
              "      <td>...</td>\n",
              "      <td>...</td>\n",
              "      <td>...</td>\n",
              "      <td>...</td>\n",
              "    </tr>\n",
              "    <tr>\n",
              "      <th>1325</th>\n",
              "      <td>0.2395</td>\n",
              "      <td>1.348280</td>\n",
              "      <td>1.189334</td>\n",
              "      <td>0.738378</td>\n",
              "      <td>-1.551609</td>\n",
              "    </tr>\n",
              "    <tr>\n",
              "      <th>1326</th>\n",
              "      <td>0.8842</td>\n",
              "      <td>0.164903</td>\n",
              "      <td>0.390590</td>\n",
              "      <td>-0.212080</td>\n",
              "      <td>-1.582187</td>\n",
              "    </tr>\n",
              "    <tr>\n",
              "      <th>1327</th>\n",
              "      <td>0.0850</td>\n",
              "      <td>0.504836</td>\n",
              "      <td>0.159675</td>\n",
              "      <td>1.369960</td>\n",
              "      <td>-1.042994</td>\n",
              "    </tr>\n",
              "    <tr>\n",
              "      <th>1328</th>\n",
              "      <td>0.3634</td>\n",
              "      <td>1.101106</td>\n",
              "      <td>1.595808</td>\n",
              "      <td>-0.672656</td>\n",
              "      <td>-1.582187</td>\n",
              "    </tr>\n",
              "    <tr>\n",
              "      <th>1329</th>\n",
              "      <td>-0.1340</td>\n",
              "      <td>0.690075</td>\n",
              "      <td>0.663751</td>\n",
              "      <td>0.122047</td>\n",
              "      <td>-0.351586</td>\n",
              "    </tr>\n",
              "  </tbody>\n",
              "</table>\n",
              "<p>1330 rows × 5 columns</p>\n",
              "</div>"
            ],
            "text/plain": [
              "      YTD Ret  CAPM_Beta   FF-Beta   FF-Size  FF-Value\n",
              "0     -0.1745   1.249362  1.397810 -0.540208 -0.310123\n",
              "1     -0.6726   1.803727  1.798855 -0.025965  0.686844\n",
              "2     -0.0911   0.950044  0.928965  0.078249  0.020157\n",
              "3     -0.4715   1.006860  0.875947  0.453546  0.627367\n",
              "4     -0.1779   1.172580  1.296143 -0.416180 -0.776466\n",
              "...       ...        ...       ...       ...       ...\n",
              "1325   0.2395   1.348280  1.189334  0.738378 -1.551609\n",
              "1326   0.8842   0.164903  0.390590 -0.212080 -1.582187\n",
              "1327   0.0850   0.504836  0.159675  1.369960 -1.042994\n",
              "1328   0.3634   1.101106  1.595808 -0.672656 -1.582187\n",
              "1329  -0.1340   0.690075  0.663751  0.122047 -0.351586\n",
              "\n",
              "[1330 rows x 5 columns]"
            ]
          },
          "metadata": {
            "tags": []
          },
          "execution_count": 293
        }
      ]
    },
    {
      "cell_type": "code",
      "metadata": {
        "id": "uL2Ddev5fJ91",
        "colab_type": "code",
        "outputId": "6e0e375e-4c57-4526-d51d-a13c1c6f4e79",
        "colab": {
          "base_uri": "https://localhost:8080/",
          "height": 119
        }
      },
      "source": [
        "#check any NA in each variable in bonus dataset\n",
        "bonus.isna().any()"
      ],
      "execution_count": 0,
      "outputs": [
        {
          "output_type": "execute_result",
          "data": {
            "text/plain": [
              "YTD Ret      False\n",
              "CAPM_Beta    False\n",
              "FF-Beta      False\n",
              "FF-Size      False\n",
              "FF-Value     False\n",
              "dtype: bool"
            ]
          },
          "metadata": {
            "tags": []
          },
          "execution_count": 294
        }
      ]
    },
    {
      "cell_type": "markdown",
      "metadata": {
        "id": "UT-geTtDgmGj",
        "colab_type": "text"
      },
      "source": [
        "### OLS Regression"
      ]
    },
    {
      "cell_type": "code",
      "metadata": {
        "id": "c6BU4UOUZHFy",
        "colab_type": "code",
        "outputId": "cc82d260-0745-4a37-b1d0-00231b5c671b",
        "colab": {
          "base_uri": "https://localhost:8080/",
          "height": 507
        }
      },
      "source": [
        "import statsmodels.api as sm\n",
        "Y = bonus.iloc[:, 0]\n",
        "X = sm.add_constant(bonus.iloc[:, 1 :])\n",
        "model = sm.OLS(Y,X).fit()\n",
        "model.summary()"
      ],
      "execution_count": 0,
      "outputs": [
        {
          "output_type": "execute_result",
          "data": {
            "text/html": [
              "<table class=\"simpletable\">\n",
              "<caption>OLS Regression Results</caption>\n",
              "<tr>\n",
              "  <th>Dep. Variable:</th>         <td>YTD Ret</td>     <th>  R-squared:         </th> <td>   0.140</td>\n",
              "</tr>\n",
              "<tr>\n",
              "  <th>Model:</th>                   <td>OLS</td>       <th>  Adj. R-squared:    </th> <td>   0.138</td>\n",
              "</tr>\n",
              "<tr>\n",
              "  <th>Method:</th>             <td>Least Squares</td>  <th>  F-statistic:       </th> <td>   54.12</td>\n",
              "</tr>\n",
              "<tr>\n",
              "  <th>Date:</th>             <td>Sun, 12 Apr 2020</td> <th>  Prob (F-statistic):</th> <td>2.71e-42</td>\n",
              "</tr>\n",
              "<tr>\n",
              "  <th>Time:</th>                 <td>19:25:56</td>     <th>  Log-Likelihood:    </th> <td>  129.72</td>\n",
              "</tr>\n",
              "<tr>\n",
              "  <th>No. Observations:</th>      <td>  1330</td>      <th>  AIC:               </th> <td>  -249.4</td>\n",
              "</tr>\n",
              "<tr>\n",
              "  <th>Df Residuals:</th>          <td>  1325</td>      <th>  BIC:               </th> <td>  -223.5</td>\n",
              "</tr>\n",
              "<tr>\n",
              "  <th>Df Model:</th>              <td>     4</td>      <th>                     </th>     <td> </td>   \n",
              "</tr>\n",
              "<tr>\n",
              "  <th>Covariance Type:</th>      <td>nonrobust</td>    <th>                     </th>     <td> </td>   \n",
              "</tr>\n",
              "</table>\n",
              "<table class=\"simpletable\">\n",
              "<tr>\n",
              "      <td></td>         <th>coef</th>     <th>std err</th>      <th>t</th>      <th>P>|t|</th>  <th>[0.025</th>    <th>0.975]</th>  \n",
              "</tr>\n",
              "<tr>\n",
              "  <th>const</th>     <td>   -0.2182</td> <td>    0.014</td> <td>  -15.693</td> <td> 0.000</td> <td>   -0.245</td> <td>   -0.191</td>\n",
              "</tr>\n",
              "<tr>\n",
              "  <th>CAPM_Beta</th> <td>   -0.0125</td> <td>    0.037</td> <td>   -0.338</td> <td> 0.736</td> <td>   -0.085</td> <td>    0.060</td>\n",
              "</tr>\n",
              "<tr>\n",
              "  <th>FF-Beta</th>   <td>   -0.0708</td> <td>    0.038</td> <td>   -1.876</td> <td> 0.061</td> <td>   -0.145</td> <td>    0.003</td>\n",
              "</tr>\n",
              "<tr>\n",
              "  <th>FF-Size</th>   <td>   -0.0216</td> <td>    0.012</td> <td>   -1.757</td> <td> 0.079</td> <td>   -0.046</td> <td>    0.003</td>\n",
              "</tr>\n",
              "<tr>\n",
              "  <th>FF-Value</th>  <td>   -0.0976</td> <td>    0.008</td> <td>  -11.983</td> <td> 0.000</td> <td>   -0.114</td> <td>   -0.082</td>\n",
              "</tr>\n",
              "</table>\n",
              "<table class=\"simpletable\">\n",
              "<tr>\n",
              "  <th>Omnibus:</th>       <td>533.124</td> <th>  Durbin-Watson:     </th> <td>   2.006</td>\n",
              "</tr>\n",
              "<tr>\n",
              "  <th>Prob(Omnibus):</th> <td> 0.000</td>  <th>  Jarque-Bera (JB):  </th> <td>7110.509</td>\n",
              "</tr>\n",
              "<tr>\n",
              "  <th>Skew:</th>          <td> 1.483</td>  <th>  Prob(JB):          </th> <td>    0.00</td>\n",
              "</tr>\n",
              "<tr>\n",
              "  <th>Kurtosis:</th>      <td>13.932</td>  <th>  Cond. No.          </th> <td>    18.2</td>\n",
              "</tr>\n",
              "</table><br/><br/>Warnings:<br/>[1] Standard Errors assume that the covariance matrix of the errors is correctly specified."
            ],
            "text/plain": [
              "<class 'statsmodels.iolib.summary.Summary'>\n",
              "\"\"\"\n",
              "                            OLS Regression Results                            \n",
              "==============================================================================\n",
              "Dep. Variable:                YTD Ret   R-squared:                       0.140\n",
              "Model:                            OLS   Adj. R-squared:                  0.138\n",
              "Method:                 Least Squares   F-statistic:                     54.12\n",
              "Date:                Sun, 12 Apr 2020   Prob (F-statistic):           2.71e-42\n",
              "Time:                        19:25:56   Log-Likelihood:                 129.72\n",
              "No. Observations:                1330   AIC:                            -249.4\n",
              "Df Residuals:                    1325   BIC:                            -223.5\n",
              "Df Model:                           4                                         \n",
              "Covariance Type:            nonrobust                                         \n",
              "==============================================================================\n",
              "                 coef    std err          t      P>|t|      [0.025      0.975]\n",
              "------------------------------------------------------------------------------\n",
              "const         -0.2182      0.014    -15.693      0.000      -0.245      -0.191\n",
              "CAPM_Beta     -0.0125      0.037     -0.338      0.736      -0.085       0.060\n",
              "FF-Beta       -0.0708      0.038     -1.876      0.061      -0.145       0.003\n",
              "FF-Size       -0.0216      0.012     -1.757      0.079      -0.046       0.003\n",
              "FF-Value      -0.0976      0.008    -11.983      0.000      -0.114      -0.082\n",
              "==============================================================================\n",
              "Omnibus:                      533.124   Durbin-Watson:                   2.006\n",
              "Prob(Omnibus):                  0.000   Jarque-Bera (JB):             7110.509\n",
              "Skew:                           1.483   Prob(JB):                         0.00\n",
              "Kurtosis:                      13.932   Cond. No.                         18.2\n",
              "==============================================================================\n",
              "\n",
              "Warnings:\n",
              "[1] Standard Errors assume that the covariance matrix of the errors is correctly specified.\n",
              "\"\"\""
            ]
          },
          "metadata": {
            "tags": []
          },
          "execution_count": 295
        }
      ]
    },
    {
      "cell_type": "markdown",
      "metadata": {
        "id": "IB1nKSX9g8dB",
        "colab_type": "text"
      },
      "source": [
        "### Interpretation"
      ]
    },
    {
      "cell_type": "markdown",
      "metadata": {
        "id": "6yF4mrkVKUo6",
        "colab_type": "text"
      },
      "source": [
        "The estimates of CAPM_Beta, FF-Beta, FF-Size, FF-Value are -0.0125, -0.0708, -0.0216, and -0.0976 respectively. Those p-values for those Betas are 0.736, 0.061, 0.079, and 0 which means they are not statistically significant in the multiple linear regression except `FF-Value`.   \n",
        "\n",
        "The R-Square is 0.140, which means 14.0% of 2020 YTD Ret is explained by those Betas. In our opinion, though our model explained a part of variability of 2020 YTD Ret, our multiple regression model is still not a very good fit. \n",
        "\n",
        "Also the Adj.R-squared is only 0.138, a more conservative estimate by penalizing for the number of\n",
        "independent variables in the model. Thus Beta, S and/or h are not explain variable variation in 2020 YTD Ret very well."
      ]
    },
    {
      "cell_type": "markdown",
      "metadata": {
        "id": "iAjBBDo6pvoP",
        "colab_type": "text"
      },
      "source": [
        "#### Check Multicollinear"
      ]
    },
    {
      "cell_type": "code",
      "metadata": {
        "id": "1hCW4VCNnxDc",
        "colab_type": "code",
        "outputId": "0952e77a-7b0c-4b4d-fdce-de1fee3c3aa5",
        "colab": {
          "base_uri": "https://localhost:8080/",
          "height": 204
        }
      },
      "source": [
        "#correlation matrix\n",
        "corr_matrix = bonus.corr().abs()\n",
        "corr_matrix"
      ],
      "execution_count": 0,
      "outputs": [
        {
          "output_type": "execute_result",
          "data": {
            "text/html": [
              "<div>\n",
              "<style scoped>\n",
              "    .dataframe tbody tr th:only-of-type {\n",
              "        vertical-align: middle;\n",
              "    }\n",
              "\n",
              "    .dataframe tbody tr th {\n",
              "        vertical-align: top;\n",
              "    }\n",
              "\n",
              "    .dataframe thead th {\n",
              "        text-align: right;\n",
              "    }\n",
              "</style>\n",
              "<table border=\"1\" class=\"dataframe\">\n",
              "  <thead>\n",
              "    <tr style=\"text-align: right;\">\n",
              "      <th></th>\n",
              "      <th>YTD Ret</th>\n",
              "      <th>CAPM_Beta</th>\n",
              "      <th>FF-Beta</th>\n",
              "      <th>FF-Size</th>\n",
              "      <th>FF-Value</th>\n",
              "    </tr>\n",
              "  </thead>\n",
              "  <tbody>\n",
              "    <tr>\n",
              "      <th>YTD Ret</th>\n",
              "      <td>1.000000</td>\n",
              "      <td>0.217250</td>\n",
              "      <td>0.190986</td>\n",
              "      <td>0.069194</td>\n",
              "      <td>0.314551</td>\n",
              "    </tr>\n",
              "    <tr>\n",
              "      <th>CAPM_Beta</th>\n",
              "      <td>0.217250</td>\n",
              "      <td>1.000000</td>\n",
              "      <td>0.883581</td>\n",
              "      <td>0.337122</td>\n",
              "      <td>0.063696</td>\n",
              "    </tr>\n",
              "    <tr>\n",
              "      <th>FF-Beta</th>\n",
              "      <td>0.190986</td>\n",
              "      <td>0.883581</td>\n",
              "      <td>1.000000</td>\n",
              "      <td>0.037949</td>\n",
              "      <td>0.020724</td>\n",
              "    </tr>\n",
              "    <tr>\n",
              "      <th>FF-Size</th>\n",
              "      <td>0.069194</td>\n",
              "      <td>0.337122</td>\n",
              "      <td>0.037949</td>\n",
              "      <td>1.000000</td>\n",
              "      <td>0.030830</td>\n",
              "    </tr>\n",
              "    <tr>\n",
              "      <th>FF-Value</th>\n",
              "      <td>0.314551</td>\n",
              "      <td>0.063696</td>\n",
              "      <td>0.020724</td>\n",
              "      <td>0.030830</td>\n",
              "      <td>1.000000</td>\n",
              "    </tr>\n",
              "  </tbody>\n",
              "</table>\n",
              "</div>"
            ],
            "text/plain": [
              "            YTD Ret  CAPM_Beta   FF-Beta   FF-Size  FF-Value\n",
              "YTD Ret    1.000000   0.217250  0.190986  0.069194  0.314551\n",
              "CAPM_Beta  0.217250   1.000000  0.883581  0.337122  0.063696\n",
              "FF-Beta    0.190986   0.883581  1.000000  0.037949  0.020724\n",
              "FF-Size    0.069194   0.337122  0.037949  1.000000  0.030830\n",
              "FF-Value   0.314551   0.063696  0.020724  0.030830  1.000000"
            ]
          },
          "metadata": {
            "tags": []
          },
          "execution_count": 296
        }
      ]
    },
    {
      "cell_type": "markdown",
      "metadata": {
        "id": "pZy-bekgp8g3",
        "colab_type": "text"
      },
      "source": [
        "According to the correlation matrix,  the CAPM_Beta and FF-Beta are highly correlated (0.88), so we need to remove `CAPM_BETA` from model."
      ]
    },
    {
      "cell_type": "markdown",
      "metadata": {
        "id": "38Awofdo3LsX",
        "colab_type": "text"
      },
      "source": [
        "#### New OLS Regression"
      ]
    },
    {
      "cell_type": "code",
      "metadata": {
        "id": "1wOHNoITpXAV",
        "colab_type": "code",
        "outputId": "f0e2c8ed-0455-43d2-9d4f-b166a0c75cec",
        "colab": {
          "base_uri": "https://localhost:8080/",
          "height": 486
        }
      },
      "source": [
        "Y1 = bonus.iloc[:, 0]\n",
        "X1 = sm.add_constant(bonus.iloc[:, 2 :])\n",
        "model1 = sm.OLS(Y1,X1).fit()\n",
        "model1.summary()"
      ],
      "execution_count": 0,
      "outputs": [
        {
          "output_type": "execute_result",
          "data": {
            "text/html": [
              "<table class=\"simpletable\">\n",
              "<caption>OLS Regression Results</caption>\n",
              "<tr>\n",
              "  <th>Dep. Variable:</th>         <td>YTD Ret</td>     <th>  R-squared:         </th> <td>   0.140</td>\n",
              "</tr>\n",
              "<tr>\n",
              "  <th>Model:</th>                   <td>OLS</td>       <th>  Adj. R-squared:    </th> <td>   0.138</td>\n",
              "</tr>\n",
              "<tr>\n",
              "  <th>Method:</th>             <td>Least Squares</td>  <th>  F-statistic:       </th> <td>   72.17</td>\n",
              "</tr>\n",
              "<tr>\n",
              "  <th>Date:</th>             <td>Sun, 12 Apr 2020</td> <th>  Prob (F-statistic):</th> <td>3.10e-43</td>\n",
              "</tr>\n",
              "<tr>\n",
              "  <th>Time:</th>                 <td>19:25:56</td>     <th>  Log-Likelihood:    </th> <td>  129.66</td>\n",
              "</tr>\n",
              "<tr>\n",
              "  <th>No. Observations:</th>      <td>  1330</td>      <th>  AIC:               </th> <td>  -251.3</td>\n",
              "</tr>\n",
              "<tr>\n",
              "  <th>Df Residuals:</th>          <td>  1326</td>      <th>  BIC:               </th> <td>  -230.5</td>\n",
              "</tr>\n",
              "<tr>\n",
              "  <th>Df Model:</th>              <td>     3</td>      <th>                     </th>     <td> </td>   \n",
              "</tr>\n",
              "<tr>\n",
              "  <th>Covariance Type:</th>      <td>nonrobust</td>    <th>                     </th>     <td> </td>   \n",
              "</tr>\n",
              "</table>\n",
              "<table class=\"simpletable\">\n",
              "<tr>\n",
              "      <td></td>        <th>coef</th>     <th>std err</th>      <th>t</th>      <th>P>|t|</th>  <th>[0.025</th>    <th>0.975]</th>  \n",
              "</tr>\n",
              "<tr>\n",
              "  <th>const</th>    <td>   -0.2185</td> <td>    0.014</td> <td>  -15.751</td> <td> 0.000</td> <td>   -0.246</td> <td>   -0.191</td>\n",
              "</tr>\n",
              "<tr>\n",
              "  <th>FF-Beta</th>  <td>   -0.0829</td> <td>    0.011</td> <td>   -7.367</td> <td> 0.000</td> <td>   -0.105</td> <td>   -0.061</td>\n",
              "</tr>\n",
              "<tr>\n",
              "  <th>FF-Size</th>  <td>   -0.0250</td> <td>    0.007</td> <td>   -3.373</td> <td> 0.001</td> <td>   -0.040</td> <td>   -0.010</td>\n",
              "</tr>\n",
              "<tr>\n",
              "  <th>FF-Value</th> <td>   -0.0982</td> <td>    0.008</td> <td>  -12.297</td> <td> 0.000</td> <td>   -0.114</td> <td>   -0.083</td>\n",
              "</tr>\n",
              "</table>\n",
              "<table class=\"simpletable\">\n",
              "<tr>\n",
              "  <th>Omnibus:</th>       <td>529.563</td> <th>  Durbin-Watson:     </th> <td>   2.006</td>\n",
              "</tr>\n",
              "<tr>\n",
              "  <th>Prob(Omnibus):</th> <td> 0.000</td>  <th>  Jarque-Bera (JB):  </th> <td>6994.460</td>\n",
              "</tr>\n",
              "<tr>\n",
              "  <th>Skew:</th>          <td> 1.473</td>  <th>  Prob(JB):          </th> <td>    0.00</td>\n",
              "</tr>\n",
              "<tr>\n",
              "  <th>Kurtosis:</th>      <td>13.842</td>  <th>  Cond. No.          </th> <td>    4.62</td>\n",
              "</tr>\n",
              "</table><br/><br/>Warnings:<br/>[1] Standard Errors assume that the covariance matrix of the errors is correctly specified."
            ],
            "text/plain": [
              "<class 'statsmodels.iolib.summary.Summary'>\n",
              "\"\"\"\n",
              "                            OLS Regression Results                            \n",
              "==============================================================================\n",
              "Dep. Variable:                YTD Ret   R-squared:                       0.140\n",
              "Model:                            OLS   Adj. R-squared:                  0.138\n",
              "Method:                 Least Squares   F-statistic:                     72.17\n",
              "Date:                Sun, 12 Apr 2020   Prob (F-statistic):           3.10e-43\n",
              "Time:                        19:25:56   Log-Likelihood:                 129.66\n",
              "No. Observations:                1330   AIC:                            -251.3\n",
              "Df Residuals:                    1326   BIC:                            -230.5\n",
              "Df Model:                           3                                         \n",
              "Covariance Type:            nonrobust                                         \n",
              "==============================================================================\n",
              "                 coef    std err          t      P>|t|      [0.025      0.975]\n",
              "------------------------------------------------------------------------------\n",
              "const         -0.2185      0.014    -15.751      0.000      -0.246      -0.191\n",
              "FF-Beta       -0.0829      0.011     -7.367      0.000      -0.105      -0.061\n",
              "FF-Size       -0.0250      0.007     -3.373      0.001      -0.040      -0.010\n",
              "FF-Value      -0.0982      0.008    -12.297      0.000      -0.114      -0.083\n",
              "==============================================================================\n",
              "Omnibus:                      529.563   Durbin-Watson:                   2.006\n",
              "Prob(Omnibus):                  0.000   Jarque-Bera (JB):             6994.460\n",
              "Skew:                           1.473   Prob(JB):                         0.00\n",
              "Kurtosis:                      13.842   Cond. No.                         4.62\n",
              "==============================================================================\n",
              "\n",
              "Warnings:\n",
              "[1] Standard Errors assume that the covariance matrix of the errors is correctly specified.\n",
              "\"\"\""
            ]
          },
          "metadata": {
            "tags": []
          },
          "execution_count": 297
        }
      ]
    },
    {
      "cell_type": "markdown",
      "metadata": {
        "id": "_HOpJHv8qfUe",
        "colab_type": "text"
      },
      "source": [
        "#### Reinterpretation\n",
        "Now, every variabel is statistically significant in the multiple linear regression since all of their p-values are less than 0.05.   \n",
        "The R-Square is still **0.140**, which means **14.0%** of 2020 YTD Ret is explained by those Betas, so it's not a good fit of multiple linear regression. And the Adj.R-squared is still only 0.138 which adjusts for the number of independent variables in the model, considered the\n",
        "more conservative estimate. **Thus Beta, S and/or h are not explain variable variation in 2020 YTD Ret very well.**"
      ]
    }
  ]
}