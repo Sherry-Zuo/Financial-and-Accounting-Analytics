{
  "nbformat": 4,
  "nbformat_minor": 0,
  "metadata": {
    "colab": {
      "name": "assign1.ipynb",
      "provenance": [],
      "collapsed_sections": []
    },
    "kernelspec": {
      "name": "python3",
      "display_name": "Python 3"
    }
  },
  "cells": [
    {
      "cell_type": "markdown",
      "metadata": {
        "id": "YW0Q28S-NkU9",
        "colab_type": "text"
      },
      "source": [
        "# **BA 870 – Assignment 1**\n",
        "\n",
        "**Shangkun(Sherry) Zuo**  \n",
        "Cohort B  \n",
        "March 23, 2020"
      ]
    },
    {
      "cell_type": "markdown",
      "metadata": {
        "id": "XkeEdp2nO50T",
        "colab_type": "text"
      },
      "source": [
        "##Upload data to Pandas Dataframes"
      ]
    },
    {
      "cell_type": "code",
      "metadata": {
        "id": "Gx742ovPMHUM",
        "colab_type": "code",
        "outputId": "a7ed141d-a24c-49c1-836c-87951ebd6601",
        "colab": {
          "resources": {
            "http://localhost:8080/nbextensions/google.colab/files.js": {
              "data": "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",
              "ok": true,
              "headers": [
                [
                  "content-type",
                  "application/javascript"
                ]
              ],
              "status": 200,
              "status_text": ""
            }
          },
          "base_uri": "https://localhost:8080/",
          "height": 71
        }
      },
      "source": [
        "from google.colab import files\n",
        "uploaded = files.upload()"
      ],
      "execution_count": 29,
      "outputs": [
        {
          "output_type": "display_data",
          "data": {
            "text/html": [
              "\n",
              "     <input type=\"file\" id=\"files-1c530db2-0292-43f7-b748-133e16716e44\" name=\"files[]\" multiple disabled />\n",
              "     <output id=\"result-1c530db2-0292-43f7-b748-133e16716e44\">\n",
              "      Upload widget is only available when the cell has been executed in the\n",
              "      current browser session. Please rerun this cell to enable.\n",
              "      </output>\n",
              "      <script src=\"/nbextensions/google.colab/files.js\"></script> "
            ],
            "text/plain": [
              "<IPython.core.display.HTML object>"
            ]
          },
          "metadata": {
            "tags": []
          }
        },
        {
          "output_type": "stream",
          "text": [
            "Saving assign1.csv to assign1.csv\n"
          ],
          "name": "stdout"
        }
      ]
    },
    {
      "cell_type": "code",
      "metadata": {
        "id": "NjsXitQkRa9K",
        "colab_type": "code",
        "outputId": "ca9063fe-d15f-4238-9e08-821a444be856",
        "colab": {
          "base_uri": "https://localhost:8080/",
          "height": 547
        }
      },
      "source": [
        "import pandas as pd\n",
        "df = pd.read_csv('assign1.csv')\n",
        "pd.DataFrame.from_records(df)\n",
        "df.head()"
      ],
      "execution_count": 0,
      "outputs": [
        {
          "output_type": "execute_result",
          "data": {
            "text/html": [
              "<div>\n",
              "<style scoped>\n",
              "    .dataframe tbody tr th:only-of-type {\n",
              "        vertical-align: middle;\n",
              "    }\n",
              "\n",
              "    .dataframe tbody tr th {\n",
              "        vertical-align: top;\n",
              "    }\n",
              "\n",
              "    .dataframe thead th {\n",
              "        text-align: right;\n",
              "    }\n",
              "</style>\n",
              "<table border=\"1\" class=\"dataframe\">\n",
              "  <thead>\n",
              "    <tr style=\"text-align: right;\">\n",
              "      <th></th>\n",
              "      <th>Global Company Key</th>\n",
              "      <th>Data Date</th>\n",
              "      <th>Data Year - Fiscal</th>\n",
              "      <th>Industry Format</th>\n",
              "      <th>Level of Consolidation - Company Annual Descriptor</th>\n",
              "      <th>Population Source</th>\n",
              "      <th>Data Format</th>\n",
              "      <th>Ticker Symbol</th>\n",
              "      <th>Company Name</th>\n",
              "      <th>ISO Currency Code</th>\n",
              "      <th>Fiscal Year-end Month</th>\n",
              "      <th>Assets - Total</th>\n",
              "      <th>Net Income (Loss)</th>\n",
              "      <th>Sales/Turnover (Net)</th>\n",
              "      <th>Active/Inactive Status Marker</th>\n",
              "      <th>ROA</th>\n",
              "      <th>ATR</th>\n",
              "      <th>PMR</th>\n",
              "    </tr>\n",
              "  </thead>\n",
              "  <tbody>\n",
              "    <tr>\n",
              "      <th>0</th>\n",
              "      <td>3851</td>\n",
              "      <td>20101231</td>\n",
              "      <td>2010</td>\n",
              "      <td>INDL</td>\n",
              "      <td>C</td>\n",
              "      <td>D</td>\n",
              "      <td>STD</td>\n",
              "      <td>DAL</td>\n",
              "      <td>DELTA AIR LINES INC</td>\n",
              "      <td>USD</td>\n",
              "      <td>12</td>\n",
              "      <td>43188.0</td>\n",
              "      <td>593.0</td>\n",
              "      <td>31755.0</td>\n",
              "      <td>A</td>\n",
              "      <td>0.013731</td>\n",
              "      <td>0.735274</td>\n",
              "      <td>0.018674</td>\n",
              "    </tr>\n",
              "    <tr>\n",
              "      <th>1</th>\n",
              "      <td>3851</td>\n",
              "      <td>20111231</td>\n",
              "      <td>2011</td>\n",
              "      <td>INDL</td>\n",
              "      <td>C</td>\n",
              "      <td>D</td>\n",
              "      <td>STD</td>\n",
              "      <td>DAL</td>\n",
              "      <td>DELTA AIR LINES INC</td>\n",
              "      <td>USD</td>\n",
              "      <td>12</td>\n",
              "      <td>43499.0</td>\n",
              "      <td>854.0</td>\n",
              "      <td>35115.0</td>\n",
              "      <td>A</td>\n",
              "      <td>0.019633</td>\n",
              "      <td>0.807260</td>\n",
              "      <td>0.024320</td>\n",
              "    </tr>\n",
              "    <tr>\n",
              "      <th>2</th>\n",
              "      <td>3851</td>\n",
              "      <td>20121231</td>\n",
              "      <td>2012</td>\n",
              "      <td>INDL</td>\n",
              "      <td>C</td>\n",
              "      <td>D</td>\n",
              "      <td>STD</td>\n",
              "      <td>DAL</td>\n",
              "      <td>DELTA AIR LINES INC</td>\n",
              "      <td>USD</td>\n",
              "      <td>12</td>\n",
              "      <td>44550.0</td>\n",
              "      <td>1009.0</td>\n",
              "      <td>36670.0</td>\n",
              "      <td>A</td>\n",
              "      <td>0.022649</td>\n",
              "      <td>0.823120</td>\n",
              "      <td>0.027516</td>\n",
              "    </tr>\n",
              "    <tr>\n",
              "      <th>3</th>\n",
              "      <td>3851</td>\n",
              "      <td>20131231</td>\n",
              "      <td>2013</td>\n",
              "      <td>INDL</td>\n",
              "      <td>C</td>\n",
              "      <td>D</td>\n",
              "      <td>STD</td>\n",
              "      <td>DAL</td>\n",
              "      <td>DELTA AIR LINES INC</td>\n",
              "      <td>USD</td>\n",
              "      <td>12</td>\n",
              "      <td>52252.0</td>\n",
              "      <td>10540.0</td>\n",
              "      <td>37773.0</td>\n",
              "      <td>A</td>\n",
              "      <td>0.201715</td>\n",
              "      <td>0.722901</td>\n",
              "      <td>0.279035</td>\n",
              "    </tr>\n",
              "    <tr>\n",
              "      <th>4</th>\n",
              "      <td>3851</td>\n",
              "      <td>20141231</td>\n",
              "      <td>2014</td>\n",
              "      <td>INDL</td>\n",
              "      <td>C</td>\n",
              "      <td>D</td>\n",
              "      <td>STD</td>\n",
              "      <td>DAL</td>\n",
              "      <td>DELTA AIR LINES INC</td>\n",
              "      <td>USD</td>\n",
              "      <td>12</td>\n",
              "      <td>54121.0</td>\n",
              "      <td>659.0</td>\n",
              "      <td>40362.0</td>\n",
              "      <td>A</td>\n",
              "      <td>0.012176</td>\n",
              "      <td>0.745773</td>\n",
              "      <td>0.016327</td>\n",
              "    </tr>\n",
              "  </tbody>\n",
              "</table>\n",
              "</div>"
            ],
            "text/plain": [
              "   Global Company Key  Data Date  ...       ATR       PMR\n",
              "0                3851   20101231  ...  0.735274  0.018674\n",
              "1                3851   20111231  ...  0.807260  0.024320\n",
              "2                3851   20121231  ...  0.823120  0.027516\n",
              "3                3851   20131231  ...  0.722901  0.279035\n",
              "4                3851   20141231  ...  0.745773  0.016327\n",
              "\n",
              "[5 rows x 18 columns]"
            ]
          },
          "metadata": {
            "tags": []
          },
          "execution_count": 53
        }
      ]
    },
    {
      "cell_type": "markdown",
      "metadata": {
        "id": "ESwnpg-4kh8S",
        "colab_type": "text"
      },
      "source": [
        "## Data Cleaning"
      ]
    },
    {
      "cell_type": "code",
      "metadata": {
        "id": "rXK8MwHxhe7W",
        "colab_type": "code",
        "outputId": "df36d97d-3da5-4b72-ecd1-80132ed6a0e9",
        "colab": {
          "base_uri": "https://localhost:8080/",
          "height": 204
        }
      },
      "source": [
        "# Drop unuseful columns\n",
        "cols = [0,1,3,4,5,6,8,9,10,14]\n",
        "df.drop(df.columns[cols],axis=1, inplace=True)\n",
        "# Rename Columns\n",
        "renamed_columns = ['FYear', \"Ticker_Symbol\", \"Assets\", \"NI\", \"Sales\", \"ROA\", \"ATR\", \"PMR\"]\n",
        "df.columns = renamed_columns\n",
        "df.head()"
      ],
      "execution_count": 0,
      "outputs": [
        {
          "output_type": "execute_result",
          "data": {
            "text/html": [
              "<div>\n",
              "<style scoped>\n",
              "    .dataframe tbody tr th:only-of-type {\n",
              "        vertical-align: middle;\n",
              "    }\n",
              "\n",
              "    .dataframe tbody tr th {\n",
              "        vertical-align: top;\n",
              "    }\n",
              "\n",
              "    .dataframe thead th {\n",
              "        text-align: right;\n",
              "    }\n",
              "</style>\n",
              "<table border=\"1\" class=\"dataframe\">\n",
              "  <thead>\n",
              "    <tr style=\"text-align: right;\">\n",
              "      <th></th>\n",
              "      <th>FYear</th>\n",
              "      <th>Ticker_Symbol</th>\n",
              "      <th>Assets</th>\n",
              "      <th>NI</th>\n",
              "      <th>Sales</th>\n",
              "      <th>ROA</th>\n",
              "      <th>ATR</th>\n",
              "      <th>PMR</th>\n",
              "    </tr>\n",
              "  </thead>\n",
              "  <tbody>\n",
              "    <tr>\n",
              "      <th>0</th>\n",
              "      <td>2010</td>\n",
              "      <td>DAL</td>\n",
              "      <td>43188.0</td>\n",
              "      <td>593.0</td>\n",
              "      <td>31755.0</td>\n",
              "      <td>0.013731</td>\n",
              "      <td>0.735274</td>\n",
              "      <td>0.018674</td>\n",
              "    </tr>\n",
              "    <tr>\n",
              "      <th>1</th>\n",
              "      <td>2011</td>\n",
              "      <td>DAL</td>\n",
              "      <td>43499.0</td>\n",
              "      <td>854.0</td>\n",
              "      <td>35115.0</td>\n",
              "      <td>0.019633</td>\n",
              "      <td>0.807260</td>\n",
              "      <td>0.024320</td>\n",
              "    </tr>\n",
              "    <tr>\n",
              "      <th>2</th>\n",
              "      <td>2012</td>\n",
              "      <td>DAL</td>\n",
              "      <td>44550.0</td>\n",
              "      <td>1009.0</td>\n",
              "      <td>36670.0</td>\n",
              "      <td>0.022649</td>\n",
              "      <td>0.823120</td>\n",
              "      <td>0.027516</td>\n",
              "    </tr>\n",
              "    <tr>\n",
              "      <th>3</th>\n",
              "      <td>2013</td>\n",
              "      <td>DAL</td>\n",
              "      <td>52252.0</td>\n",
              "      <td>10540.0</td>\n",
              "      <td>37773.0</td>\n",
              "      <td>0.201715</td>\n",
              "      <td>0.722901</td>\n",
              "      <td>0.279035</td>\n",
              "    </tr>\n",
              "    <tr>\n",
              "      <th>4</th>\n",
              "      <td>2014</td>\n",
              "      <td>DAL</td>\n",
              "      <td>54121.0</td>\n",
              "      <td>659.0</td>\n",
              "      <td>40362.0</td>\n",
              "      <td>0.012176</td>\n",
              "      <td>0.745773</td>\n",
              "      <td>0.016327</td>\n",
              "    </tr>\n",
              "  </tbody>\n",
              "</table>\n",
              "</div>"
            ],
            "text/plain": [
              "   FYear Ticker_Symbol   Assets       NI    Sales       ROA       ATR       PMR\n",
              "0   2010           DAL  43188.0    593.0  31755.0  0.013731  0.735274  0.018674\n",
              "1   2011           DAL  43499.0    854.0  35115.0  0.019633  0.807260  0.024320\n",
              "2   2012           DAL  44550.0   1009.0  36670.0  0.022649  0.823120  0.027516\n",
              "3   2013           DAL  52252.0  10540.0  37773.0  0.201715  0.722901  0.279035\n",
              "4   2014           DAL  54121.0    659.0  40362.0  0.012176  0.745773  0.016327"
            ]
          },
          "metadata": {
            "tags": []
          },
          "execution_count": 54
        }
      ]
    },
    {
      "cell_type": "markdown",
      "metadata": {
        "id": "YA933LSfSW9S",
        "colab_type": "text"
      },
      "source": [
        "## ROA \n",
        "#### （Return on Assets)\n"
      ]
    },
    {
      "cell_type": "markdown",
      "metadata": {
        "id": "wQiksjb5WPMa",
        "colab_type": "text"
      },
      "source": [
        "### Pivot Table"
      ]
    },
    {
      "cell_type": "code",
      "metadata": {
        "id": "Ysrj4rh0khaD",
        "colab_type": "code",
        "outputId": "dfaf79c6-9b8d-4349-8cd4-4e16d66e4f39",
        "colab": {
          "base_uri": "https://localhost:8080/",
          "height": 359
        }
      },
      "source": [
        "# Create a pivot table\n",
        "df1=df.pivot(index=\"FYear\", columns=\"Ticker_Symbol\", values=\"ROA\").reset_index()\n",
        "df1"
      ],
      "execution_count": 0,
      "outputs": [
        {
          "output_type": "execute_result",
          "data": {
            "text/html": [
              "<div>\n",
              "<style scoped>\n",
              "    .dataframe tbody tr th:only-of-type {\n",
              "        vertical-align: middle;\n",
              "    }\n",
              "\n",
              "    .dataframe tbody tr th {\n",
              "        vertical-align: top;\n",
              "    }\n",
              "\n",
              "    .dataframe thead th {\n",
              "        text-align: right;\n",
              "    }\n",
              "</style>\n",
              "<table border=\"1\" class=\"dataframe\">\n",
              "  <thead>\n",
              "    <tr style=\"text-align: right;\">\n",
              "      <th>Ticker_Symbol</th>\n",
              "      <th>FYear</th>\n",
              "      <th>AMZN</th>\n",
              "      <th>DAL</th>\n",
              "      <th>KR</th>\n",
              "      <th>MSFT</th>\n",
              "      <th>SBUX</th>\n",
              "    </tr>\n",
              "  </thead>\n",
              "  <tbody>\n",
              "    <tr>\n",
              "      <th>0</th>\n",
              "      <td>2009</td>\n",
              "      <td>NaN</td>\n",
              "      <td>NaN</td>\n",
              "      <td>0.003031</td>\n",
              "      <td>NaN</td>\n",
              "      <td>NaN</td>\n",
              "    </tr>\n",
              "    <tr>\n",
              "      <th>1</th>\n",
              "      <td>2010</td>\n",
              "      <td>0.061286</td>\n",
              "      <td>0.013731</td>\n",
              "      <td>0.047479</td>\n",
              "      <td>0.217853</td>\n",
              "      <td>0.148076</td>\n",
              "    </tr>\n",
              "    <tr>\n",
              "      <th>2</th>\n",
              "      <td>2011</td>\n",
              "      <td>0.024962</td>\n",
              "      <td>0.019633</td>\n",
              "      <td>0.025643</td>\n",
              "      <td>0.212964</td>\n",
              "      <td>0.169244</td>\n",
              "    </tr>\n",
              "    <tr>\n",
              "      <th>3</th>\n",
              "      <td>2012</td>\n",
              "      <td>-0.001198</td>\n",
              "      <td>0.022649</td>\n",
              "      <td>0.060725</td>\n",
              "      <td>0.140000</td>\n",
              "      <td>0.168362</td>\n",
              "    </tr>\n",
              "    <tr>\n",
              "      <th>4</th>\n",
              "      <td>2013</td>\n",
              "      <td>0.006823</td>\n",
              "      <td>0.201715</td>\n",
              "      <td>0.051877</td>\n",
              "      <td>0.153499</td>\n",
              "      <td>0.000721</td>\n",
              "    </tr>\n",
              "    <tr>\n",
              "      <th>5</th>\n",
              "      <td>2014</td>\n",
              "      <td>-0.004422</td>\n",
              "      <td>0.012176</td>\n",
              "      <td>0.056552</td>\n",
              "      <td>0.128051</td>\n",
              "      <td>0.192330</td>\n",
              "    </tr>\n",
              "    <tr>\n",
              "      <th>6</th>\n",
              "      <td>2015</td>\n",
              "      <td>0.009107</td>\n",
              "      <td>0.085181</td>\n",
              "      <td>0.060153</td>\n",
              "      <td>0.069191</td>\n",
              "      <td>0.221547</td>\n",
              "    </tr>\n",
              "    <tr>\n",
              "      <th>7</th>\n",
              "      <td>2016</td>\n",
              "      <td>0.028429</td>\n",
              "      <td>0.085309</td>\n",
              "      <td>0.054102</td>\n",
              "      <td>0.086724</td>\n",
              "      <td>0.196636</td>\n",
              "    </tr>\n",
              "    <tr>\n",
              "      <th>8</th>\n",
              "      <td>2017</td>\n",
              "      <td>0.023098</td>\n",
              "      <td>0.067121</td>\n",
              "      <td>0.051268</td>\n",
              "      <td>0.087952</td>\n",
              "      <td>0.200806</td>\n",
              "    </tr>\n",
              "    <tr>\n",
              "      <th>9</th>\n",
              "      <td>2018</td>\n",
              "      <td>0.061931</td>\n",
              "      <td>0.065294</td>\n",
              "      <td>NaN</td>\n",
              "      <td>0.064018</td>\n",
              "      <td>0.187044</td>\n",
              "    </tr>\n",
              "  </tbody>\n",
              "</table>\n",
              "</div>"
            ],
            "text/plain": [
              "Ticker_Symbol  FYear      AMZN       DAL        KR      MSFT      SBUX\n",
              "0               2009       NaN       NaN  0.003031       NaN       NaN\n",
              "1               2010  0.061286  0.013731  0.047479  0.217853  0.148076\n",
              "2               2011  0.024962  0.019633  0.025643  0.212964  0.169244\n",
              "3               2012 -0.001198  0.022649  0.060725  0.140000  0.168362\n",
              "4               2013  0.006823  0.201715  0.051877  0.153499  0.000721\n",
              "5               2014 -0.004422  0.012176  0.056552  0.128051  0.192330\n",
              "6               2015  0.009107  0.085181  0.060153  0.069191  0.221547\n",
              "7               2016  0.028429  0.085309  0.054102  0.086724  0.196636\n",
              "8               2017  0.023098  0.067121  0.051268  0.087952  0.200806\n",
              "9               2018  0.061931  0.065294       NaN  0.064018  0.187044"
            ]
          },
          "metadata": {
            "tags": []
          },
          "execution_count": 55
        }
      ]
    },
    {
      "cell_type": "code",
      "metadata": {
        "id": "g5Yc94E8VOX7",
        "colab_type": "code",
        "colab": {}
      },
      "source": [
        "AMZN = df1[\"AMZN\"]\n",
        "DAL = df1[\"DAL\"]\n",
        "KR = df1[\"KR\"]\n",
        "MSFT = df1[\"MSFT\"]\n",
        "SBUX =df1[\"SBUX\"]\n",
        "FYear = df1[\"FYear\"]"
      ],
      "execution_count": 0,
      "outputs": []
    },
    {
      "cell_type": "markdown",
      "metadata": {
        "id": "rI9jy3bfHNLz",
        "colab_type": "text"
      },
      "source": [
        "### Time Series Plots\n"
      ]
    },
    {
      "cell_type": "code",
      "metadata": {
        "id": "mOzuLZ5BNX-d",
        "colab_type": "code",
        "outputId": "7f8c88a6-76a2-487d-d81e-df965d1d5741",
        "colab": {
          "base_uri": "https://localhost:8080/",
          "height": 316
        }
      },
      "source": [
        "import matplotlib.pyplot as plt\n",
        "# Microsoft\n",
        "# Plotting\n",
        "plt.plot(FYear, MSFT, label='MSFT', color= \"c\")\n",
        "plt.xticks(rotation=90)\n",
        "\n",
        "# Legend\n",
        "plt.xlabel(\"Fiscal Year\", fontsize = \"12\")\n",
        "plt.ylabel(\"ROA\")\n",
        "plt.title(\"Dynamics of Microsoft ROA\", fontsize = \"16\")\n",
        "plt.legend()\n",
        "plt.show()"
      ],
      "execution_count": 0,
      "outputs": [
        {
          "output_type": "display_data",
          "data": {
            "image/png": "[encoded data removed]",
            "text/plain": [
              "<Figure size 432x288 with 1 Axes>"
            ]
          },
          "metadata": {
            "tags": []
          }
        }
      ]
    },
    {
      "cell_type": "code",
      "metadata": {
        "id": "AGThceX7JM_w",
        "colab_type": "code",
        "outputId": "a21009c4-6ed4-4881-ddf9-eafbce740055",
        "colab": {
          "base_uri": "https://localhost:8080/",
          "height": 316
        }
      },
      "source": [
        "# Starbucks\n",
        "# Plotting\n",
        "plt.plot(FYear, SBUX, label='SBUX', color= \"g\")\n",
        "plt.xticks(rotation=90)\n",
        "\n",
        "# Legend\n",
        "plt.xlabel(\"Fiscal Year\", fontsize = \"12\")\n",
        "plt.ylabel(\"ROA\")\n",
        "plt.title(\"Dynamics of Starbucks ROA\", fontsize = \"16\")\n",
        "plt.legend()\n",
        "plt.show()"
      ],
      "execution_count": 0,
      "outputs": [
        {
          "output_type": "display_data",
          "data": {
            "image/png": "[encoded data removed]",
            "text/plain": [
              "<Figure size 432x288 with 1 Axes>"
            ]
          },
          "metadata": {
            "tags": []
          }
        }
      ]
    },
    {
      "cell_type": "code",
      "metadata": {
        "id": "CA1fo8mjJnIl",
        "colab_type": "code",
        "outputId": "83e1fdd6-ac2b-4c37-8a2d-bb6e28099d3e",
        "colab": {
          "base_uri": "https://localhost:8080/",
          "height": 316
        }
      },
      "source": [
        "# Kroger\n",
        "# Plotting\n",
        "plt.plot(FYear, KR, label='KR', color= \"b\")\n",
        "plt.xticks(rotation=90)\n",
        "\n",
        "# Legend\n",
        "plt.xlabel(\"Fiscal Year\", fontsize = \"12\")\n",
        "plt.ylabel(\"ROA\")\n",
        "plt.title(\"Dynamics of Kroger ROA\", fontsize = \"16\")\n",
        "plt.legend()\n",
        "plt.show()"
      ],
      "execution_count": 0,
      "outputs": [
        {
          "output_type": "display_data",
          "data": {
            "image/png": "[encoded data removed]",
            "text/plain": [
              "<Figure size 432x288 with 1 Axes>"
            ]
          },
          "metadata": {
            "tags": []
          }
        }
      ]
    },
    {
      "cell_type": "code",
      "metadata": {
        "id": "6s0gYEEeJyWS",
        "colab_type": "code",
        "outputId": "0913e863-af4a-4813-8c28-964f27a2ddb5",
        "colab": {
          "base_uri": "https://localhost:8080/",
          "height": 316
        }
      },
      "source": [
        "# Delta Airlines\n",
        "# Plotting\n",
        "plt.plot(FYear, DAL, label='DAL', color= \"r\")\n",
        "plt.xticks(rotation=90)\n",
        "\n",
        "# Legend\n",
        "plt.xlabel(\"Fiscal Year\", fontsize = \"12\")\n",
        "plt.ylabel(\"ROA\")\n",
        "plt.title(\"Dynamics of Delta Airlines ROA\", fontsize = \"16\")\n",
        "plt.legend()\n",
        "plt.show()"
      ],
      "execution_count": 0,
      "outputs": [
        {
          "output_type": "display_data",
          "data": {
            "image/png": "[encoded data removed]",
            "text/plain": [
              "<Figure size 432x288 with 1 Axes>"
            ]
          },
          "metadata": {
            "tags": []
          }
        }
      ]
    },
    {
      "cell_type": "code",
      "metadata": {
        "id": "W77PrrofHZU9",
        "colab_type": "code",
        "outputId": "1c34bca5-ad76-4080-f884-9cc44b705fe8",
        "colab": {
          "base_uri": "https://localhost:8080/",
          "height": 316
        }
      },
      "source": [
        "# Amazon\n",
        "# Plotting\n",
        "plt.plot(FYear, AMZN, label='AMZN', color= \"y\")\n",
        "plt.xticks(rotation=90)\n",
        "\n",
        "# Legend\n",
        "plt.xlabel(\"Fiscal Year\", fontsize = \"12\")\n",
        "plt.ylabel(\"ROA\")\n",
        "plt.title(\"Dynamics of Amazon ROA\", fontsize = \"16\")\n",
        "plt.legend()\n",
        "plt.show()"
      ],
      "execution_count": 0,
      "outputs": [
        {
          "output_type": "display_data",
          "data": {
            "image/png": "[encoded data removed]",
            "text/plain": [
              "<Figure size 432x288 with 1 Axes>"
            ]
          },
          "metadata": {
            "tags": []
          }
        }
      ]
    },
    {
      "cell_type": "code",
      "metadata": {
        "id": "8i0154bjUcj4",
        "colab_type": "code",
        "outputId": "a739fb61-2efa-4eb0-afa9-1b74d7b8692c",
        "colab": {
          "base_uri": "https://localhost:8080/",
          "height": 316
        }
      },
      "source": [
        "# Combined Graph that plots the ROA for the 5 companies from 2010-2018.\n",
        "# Plotting\n",
        "plt.plot(FYear, MSFT, label='MSFT', color= \"c\")\n",
        "plt.plot(FYear, SBUX, label='SBUX', color= \"g\")\n",
        "plt.plot(FYear, KR, label='KR', color= \"b\")\n",
        "plt.plot(FYear, DAL, label='DAL', color= \"r\")\n",
        "plt.plot(FYear, AMZN, label='AMZN', color= \"y\")\n",
        "\n",
        "plt.xticks(rotation=90)\n",
        "\n",
        "# Legend\n",
        "plt.xlabel(\"Fiscal Year\", fontsize = \"12\")\n",
        "plt.ylabel(\"ROA\")\n",
        "plt.title(\"Dynamics of MSFT, SBUX, KR, DAL, AMZN ROA\", fontsize = \"16\")\n",
        "plt.legend()\n",
        "plt.show()"
      ],
      "execution_count": 0,
      "outputs": [
        {
          "output_type": "display_data",
          "data": {
            "image/png": "[encoded data removed]",
            "text/plain": [
              "<Figure size 432x288 with 1 Axes>"
            ]
          },
          "metadata": {
            "tags": []
          }
        }
      ]
    },
    {
      "cell_type": "markdown",
      "metadata": {
        "id": "XK8GLRu0XRvP",
        "colab_type": "text"
      },
      "source": [
        "### Dupont Analysis\n",
        " \n",
        "1\\. formula: \n",
        ">$ROA = \\frac {Net Income}{Total Assets} = \\frac {Revenues}{Total Assets} \\times \\frac {Net Incomes}{Revenues} = \\frac {Sales}{Total Assets} \\times \\frac {Net Income}{Sales} = ATR \\times PMR$    \n",
        "\n",
        "2\\. Overview:   \n",
        "The\thigher\tthis\tnumber(**ROA**),\tthe\tmore\tprofit\tis\tbeing\tgenerated\tfrom each dollar\tinvested\tin assets, the company wants **efficiency**.   \n",
        "\n",
        "3\\. Analysis:  \n",
        "The Assets Turnover ratio (**ATR**)\tmeasures the\tvolume\tof\tsales\trevenues that\ta company\thas\tcreated,\tstandardized\tby\tthe\tsize\tof\tthe\tcompany\tmeasured\tin\tassets.\tThe\thigher\tthis\tnumber,\tthe\tmore\teffective\tthe\tfirm\tis\tin\tgenerating revenue\tfrom\teach\tdollar\tof\tassets.   \n",
        "The\tProfit Margin Ratio\t(**PMR**) reflects the company’s\tability\tto\toperate\tefficiently\tby\tcontrolling\tits\texpenses and/or\tcharging\ta\tpremium\tprice.\t Improving\tthe\tPMR\tcould\tlead to\timprovements\tin ROA\t– or\tin\tbusiness\tterms,\tif\tthe\tmanagement\tcan\tbe\tmore\tefficient\tin\ttheir\tincurrences of\texpenses,\twithout\tlosing\trevenues,\tthen\tthat\twill\tincrease\tthe\tPMR\tand\tconsequently ROA.  \n",
        "\n",
        "\n",
        "4\\. The **management** has two methods to\tincrease return\ton\tassets:   \n",
        "1)\tGenerate\ta\thigher volume\tof\tsales\tgiven\tthe\tassets in\tplace\t(ATR).  \n",
        "2)\tManage\texpenses and\tselling\tprice\tand\tfocus\ton increasing\tthe\tprofit\tmargin(PMR).\n",
        "\n"
      ]
    },
    {
      "cell_type": "markdown",
      "metadata": {
        "id": "j7Vvo6oOSvbs",
        "colab_type": "text"
      },
      "source": [
        "## ATR  \n",
        "#### (Asset Turnover Ratio)\n",
        "\n"
      ]
    },
    {
      "cell_type": "markdown",
      "metadata": {
        "id": "wy7hOC-FWZXR",
        "colab_type": "text"
      },
      "source": [
        "### Pivot Table"
      ]
    },
    {
      "cell_type": "code",
      "metadata": {
        "id": "7fxTAPjcS1Ce",
        "colab_type": "code",
        "outputId": "9fa3a816-55eb-4667-e59d-064b9848fe08",
        "colab": {
          "base_uri": "https://localhost:8080/",
          "height": 359
        }
      },
      "source": [
        "# Create a pivot table\n",
        "df2=df.pivot(index=\"FYear\", columns=\"Ticker_Symbol\", values=\"ATR\").reset_index()\n",
        "df2"
      ],
      "execution_count": 0,
      "outputs": [
        {
          "output_type": "execute_result",
          "data": {
            "text/html": [
              "<div>\n",
              "<style scoped>\n",
              "    .dataframe tbody tr th:only-of-type {\n",
              "        vertical-align: middle;\n",
              "    }\n",
              "\n",
              "    .dataframe tbody tr th {\n",
              "        vertical-align: top;\n",
              "    }\n",
              "\n",
              "    .dataframe thead th {\n",
              "        text-align: right;\n",
              "    }\n",
              "</style>\n",
              "<table border=\"1\" class=\"dataframe\">\n",
              "  <thead>\n",
              "    <tr style=\"text-align: right;\">\n",
              "      <th>Ticker_Symbol</th>\n",
              "      <th>FYear</th>\n",
              "      <th>AMZN</th>\n",
              "      <th>DAL</th>\n",
              "      <th>KR</th>\n",
              "      <th>MSFT</th>\n",
              "      <th>SBUX</th>\n",
              "    </tr>\n",
              "  </thead>\n",
              "  <tbody>\n",
              "    <tr>\n",
              "      <th>0</th>\n",
              "      <td>2009</td>\n",
              "      <td>NaN</td>\n",
              "      <td>NaN</td>\n",
              "      <td>3.322782</td>\n",
              "      <td>NaN</td>\n",
              "      <td>NaN</td>\n",
              "    </tr>\n",
              "    <tr>\n",
              "      <th>1</th>\n",
              "      <td>2010</td>\n",
              "      <td>1.819652</td>\n",
              "      <td>0.735274</td>\n",
              "      <td>3.496660</td>\n",
              "      <td>0.725605</td>\n",
              "      <td>1.676725</td>\n",
              "    </tr>\n",
              "    <tr>\n",
              "      <th>2</th>\n",
              "      <td>2011</td>\n",
              "      <td>1.901931</td>\n",
              "      <td>0.807260</td>\n",
              "      <td>3.849634</td>\n",
              "      <td>0.643426</td>\n",
              "      <td>1.589642</td>\n",
              "    </tr>\n",
              "    <tr>\n",
              "      <th>3</th>\n",
              "      <td>2012</td>\n",
              "      <td>1.876609</td>\n",
              "      <td>0.823120</td>\n",
              "      <td>3.924671</td>\n",
              "      <td>0.607919</td>\n",
              "      <td>1.618102</td>\n",
              "    </tr>\n",
              "    <tr>\n",
              "      <th>4</th>\n",
              "      <td>2013</td>\n",
              "      <td>1.853931</td>\n",
              "      <td>0.722901</td>\n",
              "      <td>3.359687</td>\n",
              "      <td>0.546573</td>\n",
              "      <td>1.293096</td>\n",
              "    </tr>\n",
              "    <tr>\n",
              "      <th>5</th>\n",
              "      <td>2014</td>\n",
              "      <td>1.632658</td>\n",
              "      <td>0.745773</td>\n",
              "      <td>3.549712</td>\n",
              "      <td>0.501502</td>\n",
              "      <td>1.529615</td>\n",
              "    </tr>\n",
              "    <tr>\n",
              "      <th>6</th>\n",
              "      <td>2015</td>\n",
              "      <td>1.635077</td>\n",
              "      <td>0.766063</td>\n",
              "      <td>3.240110</td>\n",
              "      <td>0.531032</td>\n",
              "      <td>1.539655</td>\n",
              "    </tr>\n",
              "    <tr>\n",
              "      <th>7</th>\n",
              "      <td>2016</td>\n",
              "      <td>1.630500</td>\n",
              "      <td>0.773278</td>\n",
              "      <td>3.159485</td>\n",
              "      <td>0.440489</td>\n",
              "      <td>1.487554</td>\n",
              "    </tr>\n",
              "    <tr>\n",
              "      <th>8</th>\n",
              "      <td>2017</td>\n",
              "      <td>1.354550</td>\n",
              "      <td>0.773925</td>\n",
              "      <td>3.297632</td>\n",
              "      <td>0.373103</td>\n",
              "      <td>1.558362</td>\n",
              "    </tr>\n",
              "    <tr>\n",
              "      <th>9</th>\n",
              "      <td>2018</td>\n",
              "      <td>1.431847</td>\n",
              "      <td>0.737364</td>\n",
              "      <td>NaN</td>\n",
              "      <td>0.426351</td>\n",
              "      <td>1.023311</td>\n",
              "    </tr>\n",
              "  </tbody>\n",
              "</table>\n",
              "</div>"
            ],
            "text/plain": [
              "Ticker_Symbol  FYear      AMZN       DAL        KR      MSFT      SBUX\n",
              "0               2009       NaN       NaN  3.322782       NaN       NaN\n",
              "1               2010  1.819652  0.735274  3.496660  0.725605  1.676725\n",
              "2               2011  1.901931  0.807260  3.849634  0.643426  1.589642\n",
              "3               2012  1.876609  0.823120  3.924671  0.607919  1.618102\n",
              "4               2013  1.853931  0.722901  3.359687  0.546573  1.293096\n",
              "5               2014  1.632658  0.745773  3.549712  0.501502  1.529615\n",
              "6               2015  1.635077  0.766063  3.240110  0.531032  1.539655\n",
              "7               2016  1.630500  0.773278  3.159485  0.440489  1.487554\n",
              "8               2017  1.354550  0.773925  3.297632  0.373103  1.558362\n",
              "9               2018  1.431847  0.737364       NaN  0.426351  1.023311"
            ]
          },
          "metadata": {
            "tags": []
          },
          "execution_count": 64
        }
      ]
    },
    {
      "cell_type": "code",
      "metadata": {
        "id": "gwU7RtFgUECY",
        "colab_type": "code",
        "colab": {}
      },
      "source": [
        "AMZN2 = df2[\"AMZN\"]\n",
        "DAL2 = df2[\"DAL\"]\n",
        "KR2 = df2[\"KR\"]\n",
        "MSFT2 = df2[\"MSFT\"]\n",
        "SBUX2 =df2[\"SBUX\"]\n",
        "FYear2 = df2[\"FYear\"]"
      ],
      "execution_count": 0,
      "outputs": []
    },
    {
      "cell_type": "markdown",
      "metadata": {
        "id": "Km02yqXzWsnQ",
        "colab_type": "text"
      },
      "source": [
        "### Time Series Plots"
      ]
    },
    {
      "cell_type": "code",
      "metadata": {
        "id": "6LOW7pCJUtEW",
        "colab_type": "code",
        "outputId": "1d546340-b65d-4685-e05c-41f4650f70fe",
        "colab": {
          "base_uri": "https://localhost:8080/",
          "height": 316
        }
      },
      "source": [
        "# Combined Graph that plots the ATR for the 5 companies from 2010-2018.\n",
        "# Plotting\n",
        "plt.plot(FYear2, MSFT2, label='MSFT', color= \"c\")\n",
        "plt.plot(FYear2, SBUX2, label='SBUX', color= \"g\")\n",
        "plt.plot(FYear2, KR2, label='KR', color= \"b\")\n",
        "plt.plot(FYear2, DAL2, label='DAL', color= \"r\")\n",
        "plt.plot(FYear2, AMZN2, label='AMZN', color= \"y\")\n",
        "\n",
        "plt.xticks(rotation=90)\n",
        "\n",
        "# Legend\n",
        "plt.xlabel(\"Fiscal Year\", fontsize = \"12\")\n",
        "plt.ylabel(\"Asset Turnover Ratio\")\n",
        "plt.title(\"Dynamics of MSFT, SBUX, KR, DAL, AMZN ATR\", fontsize = \"16\")\n",
        "plt.legend()\n",
        "plt.show()"
      ],
      "execution_count": 0,
      "outputs": [
        {
          "output_type": "display_data",
          "data": {
            "image/png": "[encoded data removed]",
            "text/plain": [
              "<Figure size 432x288 with 1 Axes>"
            ]
          },
          "metadata": {
            "tags": []
          }
        }
      ]
    },
    {
      "cell_type": "markdown",
      "metadata": {
        "id": "S7tAx3XnS3-N",
        "colab_type": "text"
      },
      "source": [
        "## PMR   \n",
        "#### (Profit Margin Ratio)"
      ]
    },
    {
      "cell_type": "markdown",
      "metadata": {
        "id": "HzazxTVEWkIW",
        "colab_type": "text"
      },
      "source": [
        "### Pivot Table"
      ]
    },
    {
      "cell_type": "code",
      "metadata": {
        "id": "jnk8Th4wS6_X",
        "colab_type": "code",
        "outputId": "881c1899-2a28-4701-8bfa-547d0aae8b93",
        "colab": {
          "base_uri": "https://localhost:8080/",
          "height": 359
        }
      },
      "source": [
        "# Create a pivot table\n",
        "df3=df.pivot(index=\"FYear\", columns=\"Ticker_Symbol\", values=\"PMR\").reset_index()\n",
        "df3"
      ],
      "execution_count": 0,
      "outputs": [
        {
          "output_type": "execute_result",
          "data": {
            "text/html": [
              "<div>\n",
              "<style scoped>\n",
              "    .dataframe tbody tr th:only-of-type {\n",
              "        vertical-align: middle;\n",
              "    }\n",
              "\n",
              "    .dataframe tbody tr th {\n",
              "        vertical-align: top;\n",
              "    }\n",
              "\n",
              "    .dataframe thead th {\n",
              "        text-align: right;\n",
              "    }\n",
              "</style>\n",
              "<table border=\"1\" class=\"dataframe\">\n",
              "  <thead>\n",
              "    <tr style=\"text-align: right;\">\n",
              "      <th>Ticker_Symbol</th>\n",
              "      <th>FYear</th>\n",
              "      <th>AMZN</th>\n",
              "      <th>DAL</th>\n",
              "      <th>KR</th>\n",
              "      <th>MSFT</th>\n",
              "      <th>SBUX</th>\n",
              "    </tr>\n",
              "  </thead>\n",
              "  <tbody>\n",
              "    <tr>\n",
              "      <th>0</th>\n",
              "      <td>2009</td>\n",
              "      <td>NaN</td>\n",
              "      <td>NaN</td>\n",
              "      <td>0.000912</td>\n",
              "      <td>NaN</td>\n",
              "      <td>NaN</td>\n",
              "    </tr>\n",
              "    <tr>\n",
              "      <th>1</th>\n",
              "      <td>2010</td>\n",
              "      <td>0.033680</td>\n",
              "      <td>0.018674</td>\n",
              "      <td>0.013578</td>\n",
              "      <td>0.300237</td>\n",
              "      <td>0.088313</td>\n",
              "    </tr>\n",
              "    <tr>\n",
              "      <th>2</th>\n",
              "      <td>2011</td>\n",
              "      <td>0.013125</td>\n",
              "      <td>0.024320</td>\n",
              "      <td>0.006661</td>\n",
              "      <td>0.330984</td>\n",
              "      <td>0.106466</td>\n",
              "    </tr>\n",
              "    <tr>\n",
              "      <th>3</th>\n",
              "      <td>2012</td>\n",
              "      <td>-0.000638</td>\n",
              "      <td>0.027516</td>\n",
              "      <td>0.015473</td>\n",
              "      <td>0.230294</td>\n",
              "      <td>0.104049</td>\n",
              "    </tr>\n",
              "    <tr>\n",
              "      <th>4</th>\n",
              "      <td>2013</td>\n",
              "      <td>0.003680</td>\n",
              "      <td>0.279035</td>\n",
              "      <td>0.015441</td>\n",
              "      <td>0.280839</td>\n",
              "      <td>0.000557</td>\n",
              "    </tr>\n",
              "    <tr>\n",
              "      <th>5</th>\n",
              "      <td>2014</td>\n",
              "      <td>-0.002708</td>\n",
              "      <td>0.016327</td>\n",
              "      <td>0.015931</td>\n",
              "      <td>0.255335</td>\n",
              "      <td>0.125737</td>\n",
              "    </tr>\n",
              "    <tr>\n",
              "      <th>6</th>\n",
              "      <td>2015</td>\n",
              "      <td>0.005570</td>\n",
              "      <td>0.111193</td>\n",
              "      <td>0.018565</td>\n",
              "      <td>0.130295</td>\n",
              "      <td>0.143894</td>\n",
              "    </tr>\n",
              "    <tr>\n",
              "      <th>7</th>\n",
              "      <td>2016</td>\n",
              "      <td>0.017435</td>\n",
              "      <td>0.110321</td>\n",
              "      <td>0.017124</td>\n",
              "      <td>0.196882</td>\n",
              "      <td>0.132188</td>\n",
              "    </tr>\n",
              "    <tr>\n",
              "      <th>8</th>\n",
              "      <td>2017</td>\n",
              "      <td>0.017052</td>\n",
              "      <td>0.086728</td>\n",
              "      <td>0.015547</td>\n",
              "      <td>0.235731</td>\n",
              "      <td>0.128857</td>\n",
              "    </tr>\n",
              "    <tr>\n",
              "      <th>9</th>\n",
              "      <td>2018</td>\n",
              "      <td>0.043253</td>\n",
              "      <td>0.088550</td>\n",
              "      <td>NaN</td>\n",
              "      <td>0.150154</td>\n",
              "      <td>0.182783</td>\n",
              "    </tr>\n",
              "  </tbody>\n",
              "</table>\n",
              "</div>"
            ],
            "text/plain": [
              "Ticker_Symbol  FYear      AMZN       DAL        KR      MSFT      SBUX\n",
              "0               2009       NaN       NaN  0.000912       NaN       NaN\n",
              "1               2010  0.033680  0.018674  0.013578  0.300237  0.088313\n",
              "2               2011  0.013125  0.024320  0.006661  0.330984  0.106466\n",
              "3               2012 -0.000638  0.027516  0.015473  0.230294  0.104049\n",
              "4               2013  0.003680  0.279035  0.015441  0.280839  0.000557\n",
              "5               2014 -0.002708  0.016327  0.015931  0.255335  0.125737\n",
              "6               2015  0.005570  0.111193  0.018565  0.130295  0.143894\n",
              "7               2016  0.017435  0.110321  0.017124  0.196882  0.132188\n",
              "8               2017  0.017052  0.086728  0.015547  0.235731  0.128857\n",
              "9               2018  0.043253  0.088550       NaN  0.150154  0.182783"
            ]
          },
          "metadata": {
            "tags": []
          },
          "execution_count": 67
        }
      ]
    },
    {
      "cell_type": "code",
      "metadata": {
        "id": "JuJ3zUl4UFbx",
        "colab_type": "code",
        "colab": {}
      },
      "source": [
        "AMZN3 = df3[\"AMZN\"]\n",
        "DAL3 = df3[\"DAL\"]\n",
        "KR3 = df3[\"KR\"]\n",
        "MSFT3 = df3[\"MSFT\"]\n",
        "SBUX3 =df3[\"SBUX\"]\n",
        "FYear3 = df3[\"FYear\"]"
      ],
      "execution_count": 0,
      "outputs": []
    },
    {
      "cell_type": "markdown",
      "metadata": {
        "id": "A3clDkFgWv0Z",
        "colab_type": "text"
      },
      "source": [
        "### Time Series Plots"
      ]
    },
    {
      "cell_type": "code",
      "metadata": {
        "id": "RKqZg9X4Uufn",
        "colab_type": "code",
        "outputId": "28175fb1-30b2-4bb7-e502-c6e120df8deb",
        "colab": {
          "base_uri": "https://localhost:8080/",
          "height": 316
        }
      },
      "source": [
        "# Combined Graph that plots the PMR for the 5 companies from 2010-2018.\n",
        "# Plotting\n",
        "plt.plot(FYear3, MSFT3, label='MSFT', color= \"c\")\n",
        "plt.plot(FYear3, SBUX3, label='SBUX', color= \"g\")\n",
        "plt.plot(FYear3, KR3, label='KR', color= \"b\")\n",
        "plt.plot(FYear3, DAL3, label='DAL', color= \"r\")\n",
        "plt.plot(FYear3, AMZN3, label='AMZN', color= \"y\")\n",
        "\n",
        "plt.xticks(rotation=90)\n",
        "\n",
        "# Legend\n",
        "plt.xlabel(\"Fiscal Year\", fontsize = \"12\")\n",
        "plt.ylabel(\"Profit Margin Ratio\")\n",
        "plt.title(\"Dynamics of MSFT, SBUX, KR, DAL, AMZN PMR\", fontsize = \"16\")\n",
        "plt.legend()\n",
        "plt.show()"
      ],
      "execution_count": 0,
      "outputs": [
        {
          "output_type": "display_data",
          "data": {
            "image/png": "[encoded data removed]",
            "text/plain": [
              "<Figure size 432x288 with 1 Axes>"
            ]
          },
          "metadata": {
            "tags": []
          }
        }
      ]
    },
    {
      "cell_type": "markdown",
      "metadata": {
        "id": "JTSIRWst4fJX",
        "colab_type": "text"
      },
      "source": [
        "## Explanation   "
      ]
    },
    {
      "cell_type": "markdown",
      "metadata": {
        "id": "YAlnfkxdBQof",
        "colab_type": "text"
      },
      "source": [
        "*Question:*   \n",
        "Why **ROA** changed from 2016 to 2017 to 2018 for each of the 5 companies?  \n",
        "*Answer:*  \n",
        "\\* Because their ATR and PMR changed, since ROA equals to the product of ATR and PMR, so ROA changed when ATR and PMR changed.    \n",
        "\n",
        "*Based on Graphs:*  \n",
        "\\* For the company Microsoft(**MSFT**), the PMR increase first from 2016 to 2017 then decrease from 2017 to 2018; and the ATR slightly decrease from 2016 to 2017 then slightly increase from 2017 to 2018 but overall around the same around 0.5; so the ROA of MSFT slightly increase then decrease from 2016 to 2017 to 2018.   \n",
        "\\* For the company Starbucks(**SBUX**), the PMR slightly decrease (almost non-change) from 2016 to 2017 but increase sharply from 2017 to 2018;  and the ATR slightly increase from 2016 to 2017 then decrease sharply from 2017 to 2018; so the ROA of SBUX slightly increase then decrease from 2016 to 2017 to 2018.  \n",
        "\\* For the company Kroger(**KR**), since its Data Date recorded from each Jan 31st, which actually the Fiscal year of previous year, so the time range of KR maybe a little different with others, but that does not affect the total time trend, here I just look through the 2015 to 2017 instead for KR; the PMR almost flatten (but slightly decrease) and close to 0; and the ATR slightly decrease then increase; so the ROA of KR shrank and slightly decreasing. If really need to look the changes from 2016 to 2018, I recommend to go back to look through the fiscal year 2016 to 2018 data.      \n",
        "\\* For the company Delta Airlines(**DAL**), the PMR decrease from 2016 to 2017, then slightly increase from 2017 to 2018; and the ATR almost flatten and close to 1; so the ROA of DAL decrease then almost flatten and similar with its PRM from 2016 to 2017 to 2018.  \n",
        "\\* For the company Amazon(**AMZN**), the PMR almost flatten (bust slightly decrease) form 2016 to 2017, then increase from 2017 to 2018; and the ATR decrease from 2016 to 2017, the increase from 2017 to 2018; so the ROA of AMZN decrease then increase sharply from 2016 to 2017 to 2018. "
      ]
    },
    {
      "cell_type": "markdown",
      "metadata": {
        "id": "nkRF7O5SA5e3",
        "colab_type": "text"
      },
      "source": [
        "---\n",
        "## **Bonus**"
      ]
    },
    {
      "cell_type": "markdown",
      "metadata": {
        "id": "FkLYGQqmBXk6",
        "colab_type": "text"
      },
      "source": [
        "Using **Common Size Ratios** from the Income Statements, provide more detailed analysis why the Profit Margin Ratio (**PMR**) changed from 2016 to 2017 to 2018 for each of the 5 companies"
      ]
    },
    {
      "cell_type": "markdown",
      "metadata": {
        "id": "wFF68xKSU44W",
        "colab_type": "text"
      },
      "source": [
        "### MSFT\n"
      ]
    },
    {
      "cell_type": "code",
      "metadata": {
        "id": "c2IWFnzdSepl",
        "colab_type": "code",
        "colab": {
          "resources": {
            "http://localhost:8080/nbextensions/google.colab/files.js": {
              "data": "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",
              "ok": true,
              "headers": [
                [
                  "content-type",
                  "application/javascript"
                ]
              ],
              "status": 200,
              "status_text": ""
            }
          },
          "base_uri": "https://localhost:8080/",
          "height": 71
        },
        "outputId": "a073bdd8-2e9e-453c-e48d-89ab9b328831"
      },
      "source": [
        "from google.colab import files\n",
        "uploaded = files.upload()"
      ],
      "execution_count": 8,
      "outputs": [
        {
          "output_type": "display_data",
          "data": {
            "text/html": [
              "\n",
              "     <input type=\"file\" id=\"files-350fb0c6-6973-4b1f-8123-1dceeb3b51e6\" name=\"files[]\" multiple disabled />\n",
              "     <output id=\"result-350fb0c6-6973-4b1f-8123-1dceeb3b51e6\">\n",
              "      Upload widget is only available when the cell has been executed in the\n",
              "      current browser session. Please rerun this cell to enable.\n",
              "      </output>\n",
              "      <script src=\"/nbextensions/google.colab/files.js\"></script> "
            ],
            "text/plain": [
              "<IPython.core.display.HTML object>"
            ]
          },
          "metadata": {
            "tags": []
          }
        },
        {
          "output_type": "stream",
          "text": [
            "Saving MSFT_Common Size Ratio.csv to MSFT_Common Size Ratio.csv\n"
          ],
          "name": "stdout"
        }
      ]
    },
    {
      "cell_type": "code",
      "metadata": {
        "id": "erPbcchsSl4_",
        "colab_type": "code",
        "colab": {
          "base_uri": "https://localhost:8080/",
          "height": 576
        },
        "outputId": "104267dc-924b-4027-bcb6-c81d93dae54b"
      },
      "source": [
        "import pandas as pd\n",
        "msft = pd.read_csv('MSFT_Common Size Ratio.csv')\n",
        "pd.DataFrame.from_records(msft)\n",
        "msft"
      ],
      "execution_count": 9,
      "outputs": [
        {
          "output_type": "execute_result",
          "data": {
            "text/html": [
              "<div>\n",
              "<style scoped>\n",
              "    .dataframe tbody tr th:only-of-type {\n",
              "        vertical-align: middle;\n",
              "    }\n",
              "\n",
              "    .dataframe tbody tr th {\n",
              "        vertical-align: top;\n",
              "    }\n",
              "\n",
              "    .dataframe thead th {\n",
              "        text-align: right;\n",
              "    }\n",
              "</style>\n",
              "<table border=\"1\" class=\"dataframe\">\n",
              "  <thead>\n",
              "    <tr style=\"text-align: right;\">\n",
              "      <th></th>\n",
              "      <th>Fiscal Year:</th>\n",
              "      <th>2016</th>\n",
              "      <th>2017</th>\n",
              "      <th>2018</th>\n",
              "      <th>2016.1</th>\n",
              "      <th>2017.1</th>\n",
              "      <th>2018.1</th>\n",
              "    </tr>\n",
              "  </thead>\n",
              "  <tbody>\n",
              "    <tr>\n",
              "      <th>0</th>\n",
              "      <td>Sales (Net)</td>\n",
              "      <td>85,320.00</td>\n",
              "      <td>89,950.00</td>\n",
              "      <td>110,360.00</td>\n",
              "      <td>100.00%</td>\n",
              "      <td>100.00%</td>\n",
              "      <td>100.00%</td>\n",
              "    </tr>\n",
              "    <tr>\n",
              "      <th>1</th>\n",
              "      <td>Cost of Goods Sold</td>\n",
              "      <td>26,902.00</td>\n",
              "      <td>26,461.00</td>\n",
              "      <td>28,453.00</td>\n",
              "      <td>31.50%</td>\n",
              "      <td>29.40%</td>\n",
              "      <td>25.80%</td>\n",
              "    </tr>\n",
              "    <tr>\n",
              "      <th>2</th>\n",
              "      <td>Gross Profit</td>\n",
              "      <td>58,418.00</td>\n",
              "      <td>63,489.00</td>\n",
              "      <td>81,907.00</td>\n",
              "      <td>68.50%</td>\n",
              "      <td>70.60%</td>\n",
              "      <td>74.20%</td>\n",
              "    </tr>\n",
              "    <tr>\n",
              "      <th>3</th>\n",
              "      <td>Selling, General, &amp; Admin Expenses</td>\n",
              "      <td>31,248.00</td>\n",
              "      <td>33,057.00</td>\n",
              "      <td>36,949.00</td>\n",
              "      <td>36.60%</td>\n",
              "      <td>36.80%</td>\n",
              "      <td>33.50%</td>\n",
              "    </tr>\n",
              "    <tr>\n",
              "      <th>4</th>\n",
              "      <td>Operating Income Before Depreciation</td>\n",
              "      <td>27,170.00</td>\n",
              "      <td>30,432.00</td>\n",
              "      <td>44,958.00</td>\n",
              "      <td>31.80%</td>\n",
              "      <td>33.80%</td>\n",
              "      <td>40.70%</td>\n",
              "    </tr>\n",
              "    <tr>\n",
              "      <th>5</th>\n",
              "      <td>Depreciation, Depletion, &amp; Amortiz</td>\n",
              "      <td>5,878.00</td>\n",
              "      <td>7,800.00</td>\n",
              "      <td>9,900.00</td>\n",
              "      <td>6.90%</td>\n",
              "      <td>8.70%</td>\n",
              "      <td>9.00%</td>\n",
              "    </tr>\n",
              "    <tr>\n",
              "      <th>6</th>\n",
              "      <td>Operating Income After Depreciation</td>\n",
              "      <td>21,292.00</td>\n",
              "      <td>22,632.00</td>\n",
              "      <td>35,058.00</td>\n",
              "      <td>25.00%</td>\n",
              "      <td>25.20%</td>\n",
              "      <td>31.80%</td>\n",
              "    </tr>\n",
              "    <tr>\n",
              "      <th>7</th>\n",
              "      <td>Interest Expense</td>\n",
              "      <td>1,301.00</td>\n",
              "      <td>2,303.00</td>\n",
              "      <td>2,733.00</td>\n",
              "      <td>1.50%</td>\n",
              "      <td>2.60%</td>\n",
              "      <td>2.50%</td>\n",
              "    </tr>\n",
              "    <tr>\n",
              "      <th>8</th>\n",
              "      <td>Non-Operating Income/Expense</td>\n",
              "      <td>870</td>\n",
              "      <td>3,126.00</td>\n",
              "      <td>4,149.00</td>\n",
              "      <td>1.00%</td>\n",
              "      <td>3.50%</td>\n",
              "      <td>3.80%</td>\n",
              "    </tr>\n",
              "    <tr>\n",
              "      <th>9</th>\n",
              "      <td>Special Items</td>\n",
              "      <td>-1,110.00</td>\n",
              "      <td>-306</td>\n",
              "      <td>0</td>\n",
              "      <td>-1.30%</td>\n",
              "      <td>-0.30%</td>\n",
              "      <td>0.00%</td>\n",
              "    </tr>\n",
              "    <tr>\n",
              "      <th>10</th>\n",
              "      <td>Pretax Income</td>\n",
              "      <td>19,751.00</td>\n",
              "      <td>23,149.00</td>\n",
              "      <td>36,474.00</td>\n",
              "      <td>23.10%</td>\n",
              "      <td>25.70%</td>\n",
              "      <td>33.10%</td>\n",
              "    </tr>\n",
              "    <tr>\n",
              "      <th>11</th>\n",
              "      <td>Income Taxes - Total</td>\n",
              "      <td>2,953.00</td>\n",
              "      <td>1,945.00</td>\n",
              "      <td>19,903.00</td>\n",
              "      <td>3.50%</td>\n",
              "      <td>2.20%</td>\n",
              "      <td>18.00%</td>\n",
              "    </tr>\n",
              "    <tr>\n",
              "      <th>12</th>\n",
              "      <td>Minority Interest</td>\n",
              "      <td>0</td>\n",
              "      <td>0</td>\n",
              "      <td>0</td>\n",
              "      <td>0.00%</td>\n",
              "      <td>0.00%</td>\n",
              "      <td>0.00%</td>\n",
              "    </tr>\n",
              "    <tr>\n",
              "      <th>13</th>\n",
              "      <td>Income Before EI&amp;DO</td>\n",
              "      <td>16,798.00</td>\n",
              "      <td>21,204.00</td>\n",
              "      <td>16,571.00</td>\n",
              "      <td>19.70%</td>\n",
              "      <td>23.60%</td>\n",
              "      <td>15.00%</td>\n",
              "    </tr>\n",
              "    <tr>\n",
              "      <th>14</th>\n",
              "      <td>Extraordinary Items</td>\n",
              "      <td>0</td>\n",
              "      <td>0</td>\n",
              "      <td>0</td>\n",
              "      <td>0.00%</td>\n",
              "      <td>0.00%</td>\n",
              "      <td>0.00%</td>\n",
              "    </tr>\n",
              "    <tr>\n",
              "      <th>15</th>\n",
              "      <td>Discontinued Operations</td>\n",
              "      <td>0</td>\n",
              "      <td>0</td>\n",
              "      <td>0</td>\n",
              "      <td>0.00%</td>\n",
              "      <td>0.00%</td>\n",
              "      <td>0.00%</td>\n",
              "    </tr>\n",
              "    <tr>\n",
              "      <th>16</th>\n",
              "      <td>Net Income (Loss)</td>\n",
              "      <td>16,798.00</td>\n",
              "      <td>21,204.00</td>\n",
              "      <td>16,571.00</td>\n",
              "      <td>19.70%</td>\n",
              "      <td>23.60%</td>\n",
              "      <td>15.00%</td>\n",
              "    </tr>\n",
              "  </tbody>\n",
              "</table>\n",
              "</div>"
            ],
            "text/plain": [
              "                            Fiscal Year:       2016  ...   2017.1   2018.1\n",
              "0                            Sales (Net)  85,320.00  ...  100.00%  100.00%\n",
              "1                     Cost of Goods Sold  26,902.00  ...   29.40%   25.80%\n",
              "2                           Gross Profit  58,418.00  ...   70.60%   74.20%\n",
              "3     Selling, General, & Admin Expenses  31,248.00  ...   36.80%   33.50%\n",
              "4   Operating Income Before Depreciation  27,170.00  ...   33.80%   40.70%\n",
              "5     Depreciation, Depletion, & Amortiz   5,878.00  ...    8.70%    9.00%\n",
              "6    Operating Income After Depreciation  21,292.00  ...   25.20%   31.80%\n",
              "7                       Interest Expense   1,301.00  ...    2.60%    2.50%\n",
              "8           Non-Operating Income/Expense        870  ...    3.50%    3.80%\n",
              "9                          Special Items  -1,110.00  ...   -0.30%    0.00%\n",
              "10                         Pretax Income  19,751.00  ...   25.70%   33.10%\n",
              "11                  Income Taxes - Total   2,953.00  ...    2.20%   18.00%\n",
              "12                     Minority Interest          0  ...    0.00%    0.00%\n",
              "13                   Income Before EI&DO  16,798.00  ...   23.60%   15.00%\n",
              "14                   Extraordinary Items          0  ...    0.00%    0.00%\n",
              "15               Discontinued Operations          0  ...    0.00%    0.00%\n",
              "16                     Net Income (Loss)  16,798.00  ...   23.60%   15.00%\n",
              "\n",
              "[17 rows x 7 columns]"
            ]
          },
          "metadata": {
            "tags": []
          },
          "execution_count": 9
        }
      ]
    },
    {
      "cell_type": "markdown",
      "metadata": {
        "id": "3FewrXh0W7Yx",
        "colab_type": "text"
      },
      "source": [
        "**Overview:** the PMR for **MSFT** increase first from 19.7% in 2016 to 23.6% in 2017 then decrease to 15% in 2018. "
      ]
    },
    {
      "cell_type": "code",
      "metadata": {
        "id": "0naI9pfztAA1",
        "colab_type": "code",
        "colab": {
          "base_uri": "https://localhost:8080/",
          "height": 295
        },
        "outputId": "e9149d70-020b-4a6e-cd51-bbbf7ceb17b4"
      },
      "source": [
        "import matplotlib.pyplot as plt\n",
        "x1 = [2016, 2017, 2018]\n",
        "y1 = [100,100,100]\n",
        "\n",
        "x2 = [2016, 2017, 2018]\n",
        "y2 = [31.5, 29.4, 25.8]\n",
        "\n",
        "x3 = [2016, 2017, 2018]\n",
        "y3 = [68.50, 70.60, 74.20]\n",
        "\n",
        "x4 = [2016, 2017, 2018]\n",
        "y4 = [36.60, 36.80,\t33.50]\n",
        "\n",
        "x5 = [2016, 2017, 2018]\n",
        "y5 = [6.9, 8.7, 9]\n",
        "\n",
        "x6 = [2016, 2017, 2018]\n",
        "y6 = [19.7, 23.6, 15]\n",
        "\n",
        "plt.bar(x1,y1, label = \"Revenues\", color = \"b\")\n",
        "plt.bar(x3,y3, label = \"Gross Profit\", color = \"r\")\n",
        "plt.bar(x4,y4, label = \"General Expenses\", color = \"c\")\n",
        "plt.bar(x2,y2, label = \"COGS\", color = \"y\")\n",
        "plt.bar(x6,y6, label = \"NI\", color = \"g\")\n",
        "plt.bar(x5,y5, label = \"Depreciation\", color = \"m\")\n",
        "\n",
        "plt.plot()\n",
        "\n",
        "\n",
        "plt.xlabel(\"Year\")\n",
        "plt.ylabel(\"Ratios\")\n",
        "plt.title(\"Common Size Ratios' Comparison for MSFT\")\n",
        "plt.legend()\n",
        "plt.show()"
      ],
      "execution_count": 13,
      "outputs": [
        {
          "output_type": "display_data",
          "data": {
            "image/png": "[encoded data removed]",
            "text/plain": [
              "<Figure size 432x288 with 1 Axes>"
            ]
          },
          "metadata": {
            "tags": []
          }
        }
      ]
    },
    {
      "cell_type": "markdown",
      "metadata": {
        "id": "8x3AfwmxYLXJ",
        "colab_type": "text"
      },
      "source": [
        "**Analysis:** The table numbers and stacked bar charts area changes above could see some changes: The Cost of Goods Sold percentages of Assets decreasing from 2016 to 2018, so the Gross Profit percentages of Assets increasing from 2016 to 2018. The Selling, General, & Admin Expenses percentages of Assets increase slightly then decrease. The Operating Income Before Depreciation percentages of Assets increasing. Depreciation, Depletion, & Amortiz percentages of Assets increasing. The Operating Income After Depreciation percentages of Assets increasing. The Pretax Income percentages of Assets increasing. All of those changes above causes the changes of PMR for MSFT from 2016 to 2017 to 2018. "
      ]
    },
    {
      "cell_type": "markdown",
      "metadata": {
        "id": "LEc8G66vVYl_",
        "colab_type": "text"
      },
      "source": [
        "### SBUX"
      ]
    },
    {
      "cell_type": "code",
      "metadata": {
        "id": "Aha0J3IzUm9c",
        "colab_type": "code",
        "colab": {
          "resources": {
            "http://localhost:8080/nbextensions/google.colab/files.js": {
              "data": "Ly8gQ29weXJpZ2h0IDIwMTcgR29vZ2xlIExMQwovLwovLyBMaWNlbnNlZCB1bmRlciB0aGUgQXBhY2hlIExpY2Vuc2UsIFZlcnNpb24gMi4wICh0aGUgIkxpY2Vuc2UiKTsKLy8geW91IG1heSBub3QgdXNlIHRoaXMgZmlsZSBleGNlcHQgaW4gY29tcGxpYW5jZSB3aXRoIHRoZSBMaWNlbnNlLgovLyBZb3UgbWF5IG9idGFpbiBhIGNvcHkgb2YgdGhlIExpY2Vuc2UgYXQKLy8KLy8gICAgICBodHRwOi8vd3d3LmFwYWNoZS5vcmcvbGljZW5zZXMvTElDRU5TRS0yLjAKLy8KLy8gVW5sZXNzIHJlcXVpcmVkIGJ5IGFwcGxpY2FibGUgbGF3IG9yIGFncmVlZCB0byBpbiB3cml0aW5nLCBzb2Z0d2FyZQovLyBkaXN0cmlidXRlZCB1bmRlciB0aGUgTGljZW5zZSBpcyBkaXN0cmlidXRlZCBvbiBhbiAiQVMgSVMiIEJBU0lTLAovLyBXSVRIT1VUIFdBUlJBTlRJRVMgT1IgQ09ORElUSU9OUyBPRiBBTlkgS0lORCwgZWl0aGVyIGV4cHJlc3Mgb3IgaW1wbGllZC4KLy8gU2VlIHRoZSBMaWNlbnNlIGZvciB0aGUgc3BlY2lmaWMgbGFuZ3VhZ2UgZ292ZXJuaW5nIHBlcm1pc3Npb25zIGFuZAovLyBsaW1pdGF0aW9ucyB1bmRlciB0aGUgTGljZW5zZS4KCi8qKgogKiBAZmlsZW92ZXJ2aWV3IEhlbHBlcnMgZm9yIGdvb2dsZS5jb2xhYiBQeXRob24gbW9kdWxlLgogKi8KKGZ1bmN0aW9uKHNjb3BlKSB7CmZ1bmN0aW9uIHNwYW4odGV4dCwgc3R5bGVBdHRyaWJ1dGVzID0ge30pIHsKICBjb25zdCBlbGVtZW50ID0gZG9jdW1lbnQuY3JlYXRlRWxlbWVudCgnc3BhbicpOwogIGVsZW1lbnQudGV4dENvbnRlbnQgPSB0ZXh0OwogIGZvciAoY29uc3Qga2V5IG9mIE9iamVjdC5rZXlzKHN0eWxlQXR0cmlidXRlcykpIHsKICAgIGVsZW1lbnQuc3R5bGVba2V5XSA9IHN0eWxlQXR0cmlidXRlc1trZXldOwogIH0KICByZXR1cm4gZWxlbWVudDsKfQoKLy8gTWF4IG51bWJlciBvZiBieXRlcyB3aGljaCB3aWxsIGJlIHVwbG9hZGVkIGF0IGEgdGltZS4KY29uc3QgTUFYX1BBWUxPQURfU0laRSA9IDEwMCAqIDEwMjQ7Ci8vIE1heCBhbW91bnQgb2YgdGltZSB0byBibG9jayB3YWl0aW5nIGZvciB0aGUgdXNlci4KY29uc3QgRklMRV9DSEFOR0VfVElNRU9VVF9NUyA9IDMwICogMTAwMDsKCmZ1bmN0aW9uIF91cGxvYWRGaWxlcyhpbnB1dElkLCBvdXRwdXRJZCkgewogIGNvbnN0IHN0ZXBzID0gdXBsb2FkRmlsZXNTdGVwKGlucHV0SWQsIG91dHB1dElkKTsKICBjb25zdCBvdXRwdXRFbGVtZW50ID0gZG9jdW1lbnQuZ2V0RWxlbWVudEJ5SWQob3V0cHV0SWQpOwogIC8vIENhY2hlIHN0ZXBzIG9uIHRoZSBvdXRwdXRFbGVtZW50IHRvIG1ha2UgaXQgYXZhaWxhYmxlIGZvciB0aGUgbmV4dCBjYWxsCiAgLy8gdG8gdXBsb2FkRmlsZXNDb250aW51ZSBmcm9tIFB5dGhvbi4KICBvdXRwdXRFbGVtZW50LnN0ZXBzID0gc3RlcHM7CgogIHJldHVybiBfdXBsb2FkRmlsZXNDb250aW51ZShvdXRwdXRJZCk7Cn0KCi8vIFRoaXMgaXMgcm91Z2hseSBhbiBhc3luYyBnZW5lcmF0b3IgKG5vdCBzdXBwb3J0ZWQgaW4gdGhlIGJyb3dzZXIgeWV0KSwKLy8gd2hlcmUgdGhlcmUgYXJlIG11bHRpcGxlIGFzeW5jaHJvbm91cyBzdGVwcyBhbmQgdGhlIFB5dGhvbiBzaWRlIGlzIGdvaW5nCi8vIHRvIHBvbGwgZm9yIGNvbXBsZXRpb24gb2YgZWFjaCBzdGVwLgovLyBUaGlzIHVzZXMgYSBQcm9taXNlIHRvIGJsb2NrIHRoZSBweXRob24gc2lkZSBvbiBjb21wbGV0aW9uIG9mIGVhY2ggc3RlcCwKLy8gdGhlbiBwYXNzZXMgdGhlIHJlc3VsdCBvZiB0aGUgcHJldmlvdXMgc3RlcCBhcyB0aGUgaW5wdXQgdG8gdGhlIG5leHQgc3RlcC4KZnVuY3Rpb24gX3VwbG9hZEZpbGVzQ29udGludWUob3V0cHV0SWQpIHsKICBjb25zdCBvdXRwdXRFbGVtZW50ID0gZG9jdW1lbnQuZ2V0RWxlbWVudEJ5SWQob3V0cHV0SWQpOwogIGNvbnN0IHN0ZXBzID0gb3V0cHV0RWxlbWVudC5zdGVwczsKCiAgY29uc3QgbmV4dCA9IHN0ZXBzLm5leHQob3V0cHV0RWxlbWVudC5sYXN0UHJvbWlzZVZhbHVlKTsKICByZXR1cm4gUHJvbWlzZS5yZXNvbHZlKG5leHQudmFsdWUucHJvbWlzZSkudGhlbigodmFsdWUpID0+IHsKICAgIC8vIENhY2hlIHRoZSBsYXN0IHByb21pc2UgdmFsdWUgdG8gbWFrZSBpdCBhdmFpbGFibGUgdG8gdGhlIG5leHQKICAgIC8vIHN0ZXAgb2YgdGhlIGdlbmVyYXRvci4KICAgIG91dHB1dEVsZW1lbnQubGFzdFByb21pc2VWYWx1ZSA9IHZhbHVlOwogICAgcmV0dXJuIG5leHQudmFsdWUucmVzcG9uc2U7CiAgfSk7Cn0KCi8qKgogKiBHZW5lcmF0b3IgZnVuY3Rpb24gd2hpY2ggaXMgY2FsbGVkIGJldHdlZW4gZWFjaCBhc3luYyBzdGVwIG9mIHRoZSB1cGxvYWQKICogcHJvY2Vzcy4KICogQHBhcmFtIHtzdHJpbmd9IGlucHV0SWQgRWxlbWVudCBJRCBvZiB0aGUgaW5wdXQgZmlsZSBwaWNrZXIgZWxlbWVudC4KICogQHBhcmFtIHtzdHJpbmd9IG91dHB1dElkIEVsZW1lbnQgSUQgb2YgdGhlIG91dHB1dCBkaXNwbGF5LgogKiBAcmV0dXJuIHshSXRlcmFibGU8IU9iamVjdD59IEl0ZXJhYmxlIG9mIG5leHQgc3RlcHMuCiAqLwpmdW5jdGlvbiogdXBsb2FkRmlsZXNTdGVwKGlucHV0SWQsIG91dHB1dElkKSB7CiAgY29uc3QgaW5wdXRFbGVtZW50ID0gZG9jdW1lbnQuZ2V0RWxlbWVudEJ5SWQoaW5wdXRJZCk7CiAgaW5wdXRFbGVtZW50LmRpc2FibGVkID0gZmFsc2U7CgogIGNvbnN0IG91dHB1dEVsZW1lbnQgPSBkb2N1bWVudC5nZXRFbGVtZW50QnlJZChvdXRwdXRJZCk7CiAgb3V0cHV0RWxlbWVudC5pbm5lckhUTUwgPSAnJzsKCiAgY29uc3QgcGlja2VkUHJvbWlzZSA9IG5ldyBQcm9taXNlKChyZXNvbHZlKSA9PiB7CiAgICBpbnB1dEVsZW1lbnQuYWRkRXZlbnRMaXN0ZW5lcignY2hhbmdlJywgKGUpID0+IHsKICAgICAgcmVzb2x2ZShlLnRhcmdldC5maWxlcyk7CiAgICB9KTsKICB9KTsKCiAgY29uc3QgY2FuY2VsID0gZG9jdW1lbnQuY3JlYXRlRWxlbWVudCgnYnV0dG9uJyk7CiAgaW5wdXRFbGVtZW50LnBhcmVudEVsZW1lbnQuYXBwZW5kQ2hpbGQoY2FuY2VsKTsKICBjYW5jZWwudGV4dENvbnRlbnQgPSAnQ2FuY2VsIHVwbG9hZCc7CiAgY29uc3QgY2FuY2VsUHJvbWlzZSA9IG5ldyBQcm9taXNlKChyZXNvbHZlKSA9PiB7CiAgICBjYW5jZWwub25jbGljayA9ICgpID0+IHsKICAgICAgcmVzb2x2ZShudWxsKTsKICAgIH07CiAgfSk7CgogIC8vIENhbmNlbCB1cGxvYWQgaWYgdXNlciBoYXNuJ3QgcGlja2VkIGFueXRoaW5nIGluIHRpbWVvdXQuCiAgY29uc3QgdGltZW91dFByb21pc2UgPSBuZXcgUHJvbWlzZSgocmVzb2x2ZSkgPT4gewogICAgc2V0VGltZW91dCgoKSA9PiB7CiAgICAgIHJlc29sdmUobnVsbCk7CiAgICB9LCBGSUxFX0NIQU5HRV9USU1FT1VUX01TKTsKICB9KTsKCiAgLy8gV2FpdCBmb3IgdGhlIHVzZXIgdG8gcGljayB0aGUgZmlsZXMuCiAgY29uc3QgZmlsZXMgPSB5aWVsZCB7CiAgICBwcm9taXNlOiBQcm9taXNlLnJhY2UoW3BpY2tlZFByb21pc2UsIHRpbWVvdXRQcm9taXNlLCBjYW5jZWxQcm9taXNlXSksCiAgICByZXNwb25zZTogewogICAgICBhY3Rpb246ICdzdGFydGluZycsCiAgICB9CiAgfTsKCiAgaWYgKCFmaWxlcykgewogICAgcmV0dXJuIHsKICAgICAgcmVzcG9uc2U6IHsKICAgICAgICBhY3Rpb246ICdjb21wbGV0ZScsCiAgICAgIH0KICAgIH07CiAgfQoKICBjYW5jZWwucmVtb3ZlKCk7CgogIC8vIERpc2FibGUgdGhlIGlucHV0IGVsZW1lbnQgc2luY2UgZnVydGhlciBwaWNrcyBhcmUgbm90IGFsbG93ZWQuCiAgaW5wdXRFbGVtZW50LmRpc2FibGVkID0gdHJ1ZTsKCiAgZm9yIChjb25zdCBmaWxlIG9mIGZpbGVzKSB7CiAgICBjb25zdCBsaSA9IGRvY3VtZW50LmNyZWF0ZUVsZW1lbnQoJ2xpJyk7CiAgICBsaS5hcHBlbmQoc3BhbihmaWxlLm5hbWUsIHtmb250V2VpZ2h0OiAnYm9sZCd9KSk7CiAgICBsaS5hcHBlbmQoc3BhbigKICAgICAgICBgKCR7ZmlsZS50eXBlIHx8ICduL2EnfSkgLSAke2ZpbGUuc2l6ZX0gYnl0ZXMsIGAgKwogICAgICAgIGBsYXN0IG1vZGlmaWVkOiAkewogICAgICAgICAgICBmaWxlLmxhc3RNb2RpZmllZERhdGUgPyBmaWxlLmxhc3RNb2RpZmllZERhdGUudG9Mb2NhbGVEYXRlU3RyaW5nKCkgOgogICAgICAgICAgICAgICAgICAgICAgICAgICAgICAgICAgICAnbi9hJ30gLSBgKSk7CiAgICBjb25zdCBwZXJjZW50ID0gc3BhbignMCUgZG9uZScpOwogICAgbGkuYXBwZW5kQ2hpbGQocGVyY2VudCk7CgogICAgb3V0cHV0RWxlbWVudC5hcHBlbmRDaGlsZChsaSk7CgogICAgY29uc3QgZmlsZURhdGFQcm9taXNlID0gbmV3IFByb21pc2UoKHJlc29sdmUpID0+IHsKICAgICAgY29uc3QgcmVhZGVyID0gbmV3IEZpbGVSZWFkZXIoKTsKICAgICAgcmVhZGVyLm9ubG9hZCA9IChlKSA9PiB7CiAgICAgICAgcmVzb2x2ZShlLnRhcmdldC5yZXN1bHQpOwogICAgICB9OwogICAgICByZWFkZXIucmVhZEFzQXJyYXlCdWZmZXIoZmlsZSk7CiAgICB9KTsKICAgIC8vIFdhaXQgZm9yIHRoZSBkYXRhIHRvIGJlIHJlYWR5LgogICAgbGV0IGZpbGVEYXRhID0geWllbGQgewogICAgICBwcm9taXNlOiBmaWxlRGF0YVByb21pc2UsCiAgICAgIHJlc3BvbnNlOiB7CiAgICAgICAgYWN0aW9uOiAnY29udGludWUnLAogICAgICB9CiAgICB9OwoKICAgIC8vIFVzZSBhIGNodW5rZWQgc2VuZGluZyB0byBhdm9pZCBtZXNzYWdlIHNpemUgbGltaXRzLiBTZWUgYi82MjExNTY2MC4KICAgIGxldCBwb3NpdGlvbiA9IDA7CiAgICB3aGlsZSAocG9zaXRpb24gPCBmaWxlRGF0YS5ieXRlTGVuZ3RoKSB7CiAgICAgIGNvbnN0IGxlbmd0aCA9IE1hdGgubWluKGZpbGVEYXRhLmJ5dGVMZW5ndGggLSBwb3NpdGlvbiwgTUFYX1BBWUxPQURfU0laRSk7CiAgICAgIGNvbnN0IGNodW5rID0gbmV3IFVpbnQ4QXJyYXkoZmlsZURhdGEsIHBvc2l0aW9uLCBsZW5ndGgpOwogICAgICBwb3NpdGlvbiArPSBsZW5ndGg7CgogICAgICBjb25zdCBiYXNlNjQgPSBidG9hKFN0cmluZy5mcm9tQ2hhckNvZGUuYXBwbHkobnVsbCwgY2h1bmspKTsKICAgICAgeWllbGQgewogICAgICAgIHJlc3BvbnNlOiB7CiAgICAgICAgICBhY3Rpb246ICdhcHBlbmQnLAogICAgICAgICAgZmlsZTogZmlsZS5uYW1lLAogICAgICAgICAgZGF0YTogYmFzZTY0LAogICAgICAgIH0sCiAgICAgIH07CiAgICAgIHBlcmNlbnQudGV4dENvbnRlbnQgPQogICAgICAgICAgYCR7TWF0aC5yb3VuZCgocG9zaXRpb24gLyBmaWxlRGF0YS5ieXRlTGVuZ3RoKSAqIDEwMCl9JSBkb25lYDsKICAgIH0KICB9CgogIC8vIEFsbCBkb25lLgogIHlpZWxkIHsKICAgIHJlc3BvbnNlOiB7CiAgICAgIGFjdGlvbjogJ2NvbXBsZXRlJywKICAgIH0KICB9Owp9CgpzY29wZS5nb29nbGUgPSBzY29wZS5nb29nbGUgfHwge307CnNjb3BlLmdvb2dsZS5jb2xhYiA9IHNjb3BlLmdvb2dsZS5jb2xhYiB8fCB7fTsKc2NvcGUuZ29vZ2xlLmNvbGFiLl9maWxlcyA9IHsKICBfdXBsb2FkRmlsZXMsCiAgX3VwbG9hZEZpbGVzQ29udGludWUsCn07Cn0pKHNlbGYpOwo=",
              "ok": true,
              "headers": [
                [
                  "content-type",
                  "application/javascript"
                ]
              ],
              "status": 200,
              "status_text": ""
            }
          },
          "base_uri": "https://localhost:8080/",
          "height": 71
        },
        "outputId": "8f4daadf-3c96-4a1a-d990-0dfdc07765ae"
      },
      "source": [
        "from google.colab import files\n",
        "uploaded = files.upload()"
      ],
      "execution_count": 10,
      "outputs": [
        {
          "output_type": "display_data",
          "data": {
            "text/html": [
              "\n",
              "     <input type=\"file\" id=\"files-6b770c5a-be96-48a7-8abb-6ec55edbc0b4\" name=\"files[]\" multiple disabled />\n",
              "     <output id=\"result-6b770c5a-be96-48a7-8abb-6ec55edbc0b4\">\n",
              "      Upload widget is only available when the cell has been executed in the\n",
              "      current browser session. Please rerun this cell to enable.\n",
              "      </output>\n",
              "      <script src=\"/nbextensions/google.colab/files.js\"></script> "
            ],
            "text/plain": [
              "<IPython.core.display.HTML object>"
            ]
          },
          "metadata": {
            "tags": []
          }
        },
        {
          "output_type": "stream",
          "text": [
            "Saving SBUX_Common Size Ratio.csv to SBUX_Common Size Ratio.csv\n"
          ],
          "name": "stdout"
        }
      ]
    },
    {
      "cell_type": "code",
      "metadata": {
        "id": "l_FXo4koUoow",
        "colab_type": "code",
        "colab": {
          "base_uri": "https://localhost:8080/",
          "height": 576
        },
        "outputId": "6190f13b-5542-4595-98b6-dc7ae9f8bf08"
      },
      "source": [
        "import pandas as pd\n",
        "sbux = pd.read_csv('SBUX_Common Size Ratio.csv')\n",
        "pd.DataFrame.from_records(sbux)\n",
        "sbux"
      ],
      "execution_count": 11,
      "outputs": [
        {
          "output_type": "execute_result",
          "data": {
            "text/html": [
              "<div>\n",
              "<style scoped>\n",
              "    .dataframe tbody tr th:only-of-type {\n",
              "        vertical-align: middle;\n",
              "    }\n",
              "\n",
              "    .dataframe tbody tr th {\n",
              "        vertical-align: top;\n",
              "    }\n",
              "\n",
              "    .dataframe thead th {\n",
              "        text-align: right;\n",
              "    }\n",
              "</style>\n",
              "<table border=\"1\" class=\"dataframe\">\n",
              "  <thead>\n",
              "    <tr style=\"text-align: right;\">\n",
              "      <th></th>\n",
              "      <th>Fiscal Year:</th>\n",
              "      <th>2016</th>\n",
              "      <th>2017</th>\n",
              "      <th>2018</th>\n",
              "      <th>2016.1</th>\n",
              "      <th>2017.1</th>\n",
              "      <th>2018.1</th>\n",
              "    </tr>\n",
              "  </thead>\n",
              "  <tbody>\n",
              "    <tr>\n",
              "      <th>0</th>\n",
              "      <td>Sales (Net)</td>\n",
              "      <td>21,315.900</td>\n",
              "      <td>22,386.800</td>\n",
              "      <td>24,719.500</td>\n",
              "      <td>100.00%</td>\n",
              "      <td>100.00%</td>\n",
              "      <td>100.00%</td>\n",
              "    </tr>\n",
              "    <tr>\n",
              "      <th>1</th>\n",
              "      <td>Cost of Goods Sold</td>\n",
              "      <td>15,120.800</td>\n",
              "      <td>16,074.000</td>\n",
              "      <td>17,843.600</td>\n",
              "      <td>70.94%</td>\n",
              "      <td>71.80%</td>\n",
              "      <td>72.18%</td>\n",
              "    </tr>\n",
              "    <tr>\n",
              "      <th>2</th>\n",
              "      <td>Gross Profit</td>\n",
              "      <td>6,195.100</td>\n",
              "      <td>6,312.800</td>\n",
              "      <td>6,875.900</td>\n",
              "      <td>29.06%</td>\n",
              "      <td>28.20%</td>\n",
              "      <td>27.82%</td>\n",
              "    </tr>\n",
              "    <tr>\n",
              "      <th>3</th>\n",
              "      <td>Selling, General, &amp; Admin Expenses</td>\n",
              "      <td>1,360.600</td>\n",
              "      <td>1,393.300</td>\n",
              "      <td>1,755.400</td>\n",
              "      <td>6.38%</td>\n",
              "      <td>6.22%</td>\n",
              "      <td>7.10%</td>\n",
              "    </tr>\n",
              "    <tr>\n",
              "      <th>4</th>\n",
              "      <td>Operating Income Before Depreciation</td>\n",
              "      <td>4,834.500</td>\n",
              "      <td>4,919.500</td>\n",
              "      <td>5,120.500</td>\n",
              "      <td>22.68%</td>\n",
              "      <td>21.98%</td>\n",
              "      <td>20.71%</td>\n",
              "    </tr>\n",
              "    <tr>\n",
              "      <th>5</th>\n",
              "      <td>Depreciation, Depletion, &amp; Amortiz</td>\n",
              "      <td>980.800</td>\n",
              "      <td>1,011.400</td>\n",
              "      <td>1,247.000</td>\n",
              "      <td>4.60%</td>\n",
              "      <td>4.52%</td>\n",
              "      <td>5.04%</td>\n",
              "    </tr>\n",
              "    <tr>\n",
              "      <th>6</th>\n",
              "      <td>Operating Income After Depreciation</td>\n",
              "      <td>3,853.700</td>\n",
              "      <td>3,908.100</td>\n",
              "      <td>3,873.500</td>\n",
              "      <td>18.08%</td>\n",
              "      <td>17.46%</td>\n",
              "      <td>15.67%</td>\n",
              "    </tr>\n",
              "    <tr>\n",
              "      <th>7</th>\n",
              "      <td>Interest Expense</td>\n",
              "      <td>82.200</td>\n",
              "      <td>93.600</td>\n",
              "      <td>170.300</td>\n",
              "      <td>0.39%</td>\n",
              "      <td>0.42%</td>\n",
              "      <td>0.69%</td>\n",
              "    </tr>\n",
              "    <tr>\n",
              "      <th>8</th>\n",
              "      <td>Non-Operating Income/Expense</td>\n",
              "      <td>426.500</td>\n",
              "      <td>667.800</td>\n",
              "      <td>487.000</td>\n",
              "      <td>2.00%</td>\n",
              "      <td>2.98%</td>\n",
              "      <td>1.97%</td>\n",
              "    </tr>\n",
              "    <tr>\n",
              "      <th>9</th>\n",
              "      <td>Special Items</td>\n",
              "      <td>.600</td>\n",
              "      <td>-164.800</td>\n",
              "      <td>1,589.800</td>\n",
              "      <td>0.00%</td>\n",
              "      <td>-0.74%</td>\n",
              "      <td>6.43%</td>\n",
              "    </tr>\n",
              "    <tr>\n",
              "      <th>10</th>\n",
              "      <td>Pretax Income</td>\n",
              "      <td>4,198.600</td>\n",
              "      <td>4,317.500</td>\n",
              "      <td>5,780.000</td>\n",
              "      <td>19.70%</td>\n",
              "      <td>19.29%</td>\n",
              "      <td>23.38%</td>\n",
              "    </tr>\n",
              "    <tr>\n",
              "      <th>11</th>\n",
              "      <td>Income Taxes - Total</td>\n",
              "      <td>1,379.700</td>\n",
              "      <td>1,432.600</td>\n",
              "      <td>1,262.000</td>\n",
              "      <td>6.47%</td>\n",
              "      <td>6.40%</td>\n",
              "      <td>5.11%</td>\n",
              "    </tr>\n",
              "    <tr>\n",
              "      <th>12</th>\n",
              "      <td>Minority Interest</td>\n",
              "      <td>1.200</td>\n",
              "      <td>.200</td>\n",
              "      <td>-.300</td>\n",
              "      <td>0.01%</td>\n",
              "      <td>0.00%</td>\n",
              "      <td>0.00%</td>\n",
              "    </tr>\n",
              "    <tr>\n",
              "      <th>13</th>\n",
              "      <td>Income Before EI&amp;DO</td>\n",
              "      <td>2,817.700</td>\n",
              "      <td>2,884.700</td>\n",
              "      <td>4,518.300</td>\n",
              "      <td>13.22%</td>\n",
              "      <td>12.89%</td>\n",
              "      <td>18.28%</td>\n",
              "    </tr>\n",
              "    <tr>\n",
              "      <th>14</th>\n",
              "      <td>Extraordinary Items</td>\n",
              "      <td>.000</td>\n",
              "      <td>.000</td>\n",
              "      <td>.000</td>\n",
              "      <td>0.00%</td>\n",
              "      <td>0.00%</td>\n",
              "      <td>0.00%</td>\n",
              "    </tr>\n",
              "    <tr>\n",
              "      <th>15</th>\n",
              "      <td>Discontinued Operations</td>\n",
              "      <td>.000</td>\n",
              "      <td>.000</td>\n",
              "      <td>.000</td>\n",
              "      <td>0.00%</td>\n",
              "      <td>0.00%</td>\n",
              "      <td>0.00%</td>\n",
              "    </tr>\n",
              "    <tr>\n",
              "      <th>16</th>\n",
              "      <td>Net Income (Loss)</td>\n",
              "      <td>2,817.700</td>\n",
              "      <td>2,884.700</td>\n",
              "      <td>4,518.300</td>\n",
              "      <td>13.22%</td>\n",
              "      <td>12.89%</td>\n",
              "      <td>18.28%</td>\n",
              "    </tr>\n",
              "  </tbody>\n",
              "</table>\n",
              "</div>"
            ],
            "text/plain": [
              "                            Fiscal Year:        2016  ...   2017.1   2018.1\n",
              "0                            Sales (Net)  21,315.900  ...  100.00%  100.00%\n",
              "1                     Cost of Goods Sold  15,120.800  ...   71.80%   72.18%\n",
              "2                           Gross Profit   6,195.100  ...   28.20%   27.82%\n",
              "3     Selling, General, & Admin Expenses   1,360.600  ...    6.22%    7.10%\n",
              "4   Operating Income Before Depreciation   4,834.500  ...   21.98%   20.71%\n",
              "5     Depreciation, Depletion, & Amortiz     980.800  ...    4.52%    5.04%\n",
              "6    Operating Income After Depreciation   3,853.700  ...   17.46%   15.67%\n",
              "7                       Interest Expense      82.200  ...    0.42%    0.69%\n",
              "8           Non-Operating Income/Expense     426.500  ...    2.98%    1.97%\n",
              "9                          Special Items        .600  ...   -0.74%    6.43%\n",
              "10                         Pretax Income   4,198.600  ...   19.29%   23.38%\n",
              "11                  Income Taxes - Total   1,379.700  ...    6.40%    5.11%\n",
              "12                     Minority Interest       1.200  ...    0.00%    0.00%\n",
              "13                   Income Before EI&DO   2,817.700  ...   12.89%   18.28%\n",
              "14                   Extraordinary Items        .000  ...    0.00%    0.00%\n",
              "15               Discontinued Operations        .000  ...    0.00%    0.00%\n",
              "16                     Net Income (Loss)   2,817.700  ...   12.89%   18.28%\n",
              "\n",
              "[17 rows x 7 columns]"
            ]
          },
          "metadata": {
            "tags": []
          },
          "execution_count": 11
        }
      ]
    },
    {
      "cell_type": "markdown",
      "metadata": {
        "id": "kQQatclzbmIh",
        "colab_type": "text"
      },
      "source": [
        "**Overview:** the PMR for **SBUX** slightly decrease (almost non-change) from 13.22% in 2016 to 12.89% in 2017 but increase sharply to 18.28% in 2018."
      ]
    },
    {
      "cell_type": "code",
      "metadata": {
        "id": "k8FMj1-Xs91a",
        "colab_type": "code",
        "colab": {
          "base_uri": "https://localhost:8080/",
          "height": 295
        },
        "outputId": "7b0df477-48ee-463c-a022-0d74ae04b620"
      },
      "source": [
        "x1 = [2016, 2017, 2018]\n",
        "y1 = [100,100,100]\n",
        "\n",
        "x2 = [2016, 2017, 2018]\n",
        "y2 = [70.94, 71.8, 72.18]\n",
        "\n",
        "x3 = [2016, 2017, 2018]\n",
        "y3 = [29.06, 28.2, 27.82]\n",
        "\n",
        "x4 = [2016, 2017, 2018]\n",
        "y4 = [6.38, 6.22, 7.1]\n",
        "\n",
        "x5 = [2016, 2017, 2018]\n",
        "y5 = [4.6, 4.52, 5.04]\n",
        "\n",
        "x6 = [2016, 2017, 2018]\n",
        "y6 = [13.22, 12.89, 18.28]\n",
        "\n",
        "plt.bar(x1,y1, label = \"Revenues\", color = \"b\")\n",
        "plt.bar(x2,y2, label = \"COGS\", color = \"y\")\n",
        "plt.bar(x3,y3, label = \"Gross Profit\", color = \"r\")\n",
        "plt.bar(x6,y6, label = \"NI\", color = \"g\")\n",
        "plt.bar(x4,y4, label = \"General Expenses\", color = \"c\")\n",
        "plt.bar(x5,y5, label = \"Depreciation\", color = \"m\")\n",
        "\n",
        "plt.plot()\n",
        "\n",
        "\n",
        "plt.xlabel(\"Year\")\n",
        "plt.ylabel(\"Ratios\")\n",
        "plt.title(\"Common Size Ratios' Comparison for SBUX\")\n",
        "plt.legend()\n",
        "plt.show()"
      ],
      "execution_count": 12,
      "outputs": [
        {
          "output_type": "display_data",
          "data": {
            "image/png": "[encoded data removed]",
            "text/plain": [
              "<Figure size 432x288 with 1 Axes>"
            ]
          },
          "metadata": {
            "tags": []
          }
        }
      ]
    },
    {
      "cell_type": "markdown",
      "metadata": {
        "id": "JXd9ihoSbecw",
        "colab_type": "text"
      },
      "source": [
        "**Analysis:** The table numbers and stacked bar charts area changes above could see some changes: The Cost of Goods Sold percentages of Assets increasing from 2016 to 2018, so the Gross Profit percentages of Assets decreasing from 2016 to 2018. The Selling, General, & Admin Expenses percentages of Assets decrease slightly then increase. The Operating Income Before Depreciation percentages of Assets decreasing. Depreciation, Depletion, & Amortiz percentages of Assets slightly decrease then increase. The Operating Income After Depreciation percentages of Assets decreasing. The Pretax Income percentages of Assets slightly decrese then increase. All of those changes above causes the changes of PMR for SBUX from 2016 to 2017 to 2018. "
      ]
    },
    {
      "cell_type": "markdown",
      "metadata": {
        "id": "ZSHJs4klVclx",
        "colab_type": "text"
      },
      "source": [
        "### KR"
      ]
    },
    {
      "cell_type": "code",
      "metadata": {
        "id": "XPkCm_VDU1SG",
        "colab_type": "code",
        "colab": {
          "resources": {
            "http://localhost:8080/nbextensions/google.colab/files.js": {
              "data": "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",
              "ok": true,
              "headers": [
                [
                  "content-type",
                  "application/javascript"
                ]
              ],
              "status": 200,
              "status_text": ""
            }
          },
          "base_uri": "https://localhost:8080/",
          "height": 71
        },
        "outputId": "4c690d6d-3f39-4e28-ef04-2d323778a3b5"
      },
      "source": [
        "from google.colab import files\n",
        "uploaded = files.upload()"
      ],
      "execution_count": 4,
      "outputs": [
        {
          "output_type": "display_data",
          "data": {
            "text/html": [
              "\n",
              "     <input type=\"file\" id=\"files-3ce97a62-8546-4aa6-94c1-03c77f5d1ef0\" name=\"files[]\" multiple disabled />\n",
              "     <output id=\"result-3ce97a62-8546-4aa6-94c1-03c77f5d1ef0\">\n",
              "      Upload widget is only available when the cell has been executed in the\n",
              "      current browser session. Please rerun this cell to enable.\n",
              "      </output>\n",
              "      <script src=\"/nbextensions/google.colab/files.js\"></script> "
            ],
            "text/plain": [
              "<IPython.core.display.HTML object>"
            ]
          },
          "metadata": {
            "tags": []
          }
        },
        {
          "output_type": "stream",
          "text": [
            "Saving KR_Common Size Ratio.csv to KR_Common Size Ratio.csv\n"
          ],
          "name": "stdout"
        }
      ]
    },
    {
      "cell_type": "code",
      "metadata": {
        "id": "gIfR6WhAUpNI",
        "colab_type": "code",
        "colab": {
          "base_uri": "https://localhost:8080/",
          "height": 576
        },
        "outputId": "1ef82fe8-bf49-4dfb-8ede-8e9cc069ee1b"
      },
      "source": [
        "import pandas as pd\n",
        "kr = pd.read_csv('KR_Common Size Ratio.csv')\n",
        "pd.DataFrame.from_records(kr)\n",
        "kr"
      ],
      "execution_count": 5,
      "outputs": [
        {
          "output_type": "execute_result",
          "data": {
            "text/html": [
              "<div>\n",
              "<style scoped>\n",
              "    .dataframe tbody tr th:only-of-type {\n",
              "        vertical-align: middle;\n",
              "    }\n",
              "\n",
              "    .dataframe tbody tr th {\n",
              "        vertical-align: top;\n",
              "    }\n",
              "\n",
              "    .dataframe thead th {\n",
              "        text-align: right;\n",
              "    }\n",
              "</style>\n",
              "<table border=\"1\" class=\"dataframe\">\n",
              "  <thead>\n",
              "    <tr style=\"text-align: right;\">\n",
              "      <th></th>\n",
              "      <th>Fiscal Year:</th>\n",
              "      <th>2015</th>\n",
              "      <th>2016</th>\n",
              "      <th>2017</th>\n",
              "      <th>2018</th>\n",
              "      <th>2015.1</th>\n",
              "      <th>2016.1</th>\n",
              "      <th>2017.1</th>\n",
              "      <th>2018.1</th>\n",
              "    </tr>\n",
              "  </thead>\n",
              "  <tbody>\n",
              "    <tr>\n",
              "      <th>0</th>\n",
              "      <td>Sales (Net)</td>\n",
              "      <td>109,830.00</td>\n",
              "      <td>115,337.00</td>\n",
              "      <td>122,662.00</td>\n",
              "      <td>121,162.00</td>\n",
              "      <td>100.00%</td>\n",
              "      <td>100.00%</td>\n",
              "      <td>100.00%</td>\n",
              "      <td>100.00%</td>\n",
              "    </tr>\n",
              "    <tr>\n",
              "      <th>1</th>\n",
              "      <td>Cost of Goods Sold</td>\n",
              "      <td>85,496.00</td>\n",
              "      <td>89,502.00</td>\n",
              "      <td>95,662.00</td>\n",
              "      <td>94,894.00</td>\n",
              "      <td>77.84%</td>\n",
              "      <td>77.60%</td>\n",
              "      <td>77.99%</td>\n",
              "      <td>78.32%</td>\n",
              "    </tr>\n",
              "    <tr>\n",
              "      <th>2</th>\n",
              "      <td>Gross Profit</td>\n",
              "      <td>24,334.00</td>\n",
              "      <td>25,835.00</td>\n",
              "      <td>27,000.00</td>\n",
              "      <td>26,268.00</td>\n",
              "      <td>22.16%</td>\n",
              "      <td>22.40%</td>\n",
              "      <td>22.01%</td>\n",
              "      <td>21.68%</td>\n",
              "    </tr>\n",
              "    <tr>\n",
              "      <th>3</th>\n",
              "      <td>Selling, General, &amp; Admin Expenses</td>\n",
              "      <td>18,669.00</td>\n",
              "      <td>20,059.00</td>\n",
              "      <td>21,683.00</td>\n",
              "      <td>21,156.00</td>\n",
              "      <td>17.00%</td>\n",
              "      <td>17.39%</td>\n",
              "      <td>17.68%</td>\n",
              "      <td>17.46%</td>\n",
              "    </tr>\n",
              "    <tr>\n",
              "      <th>4</th>\n",
              "      <td>Operating Income Before Depreciation</td>\n",
              "      <td>5,665.00</td>\n",
              "      <td>5,776.00</td>\n",
              "      <td>5,317.00</td>\n",
              "      <td>5,112.00</td>\n",
              "      <td>5.16%</td>\n",
              "      <td>5.01%</td>\n",
              "      <td>4.33%</td>\n",
              "      <td>4.22%</td>\n",
              "    </tr>\n",
              "    <tr>\n",
              "      <th>5</th>\n",
              "      <td>Depreciation, Depletion, &amp; Amortiz</td>\n",
              "      <td>2,089.00</td>\n",
              "      <td>2,340.00</td>\n",
              "      <td>2,436.00</td>\n",
              "      <td>2,465.00</td>\n",
              "      <td>1.90%</td>\n",
              "      <td>2.03%</td>\n",
              "      <td>1.99%</td>\n",
              "      <td>2.03%</td>\n",
              "    </tr>\n",
              "    <tr>\n",
              "      <th>6</th>\n",
              "      <td>Operating Income After Depreciation</td>\n",
              "      <td>3,576.00</td>\n",
              "      <td>3,436.00</td>\n",
              "      <td>2,881.00</td>\n",
              "      <td>2,647.00</td>\n",
              "      <td>3.26%</td>\n",
              "      <td>2.98%</td>\n",
              "      <td>2.35%</td>\n",
              "      <td>2.18%</td>\n",
              "    </tr>\n",
              "    <tr>\n",
              "      <th>7</th>\n",
              "      <td>Interest Expense</td>\n",
              "      <td>491</td>\n",
              "      <td>535</td>\n",
              "      <td>613</td>\n",
              "      <td>620</td>\n",
              "      <td>0.45%</td>\n",
              "      <td>0.46%</td>\n",
              "      <td>0.50%</td>\n",
              "      <td>0.51%</td>\n",
              "    </tr>\n",
              "    <tr>\n",
              "      <th>8</th>\n",
              "      <td>Non-Operating Income/Expense</td>\n",
              "      <td>9</td>\n",
              "      <td>13</td>\n",
              "      <td>12</td>\n",
              "      <td>202</td>\n",
              "      <td>0.01%</td>\n",
              "      <td>0.01%</td>\n",
              "      <td>0.01%</td>\n",
              "      <td>0.17%</td>\n",
              "    </tr>\n",
              "    <tr>\n",
              "      <th>9</th>\n",
              "      <td>Special Items</td>\n",
              "      <td>0</td>\n",
              "      <td>0</td>\n",
              "      <td>-796</td>\n",
              "      <td>1,749.00</td>\n",
              "      <td>0.00%</td>\n",
              "      <td>0.00%</td>\n",
              "      <td>-0.65%</td>\n",
              "      <td>1.44%</td>\n",
              "    </tr>\n",
              "    <tr>\n",
              "      <th>10</th>\n",
              "      <td>Pretax Income</td>\n",
              "      <td>3,094.00</td>\n",
              "      <td>2,914.00</td>\n",
              "      <td>1,484.00</td>\n",
              "      <td>3,978.00</td>\n",
              "      <td>2.82%</td>\n",
              "      <td>2.53%</td>\n",
              "      <td>1.21%</td>\n",
              "      <td>3.28%</td>\n",
              "    </tr>\n",
              "    <tr>\n",
              "      <th>11</th>\n",
              "      <td>Income Taxes - Total</td>\n",
              "      <td>1,045.00</td>\n",
              "      <td>957</td>\n",
              "      <td>-405</td>\n",
              "      <td>900</td>\n",
              "      <td>0.95%</td>\n",
              "      <td>0.83%</td>\n",
              "      <td>-0.33%</td>\n",
              "      <td>0.74%</td>\n",
              "    </tr>\n",
              "    <tr>\n",
              "      <th>12</th>\n",
              "      <td>Minority Interest</td>\n",
              "      <td>10</td>\n",
              "      <td>-18</td>\n",
              "      <td>-18</td>\n",
              "      <td>-32</td>\n",
              "      <td>0.01%</td>\n",
              "      <td>-0.02%</td>\n",
              "      <td>-0.01%</td>\n",
              "      <td>-0.03%</td>\n",
              "    </tr>\n",
              "    <tr>\n",
              "      <th>13</th>\n",
              "      <td>Income Before EI&amp;DO</td>\n",
              "      <td>2,039.00</td>\n",
              "      <td>1,975.00</td>\n",
              "      <td>1,907.00</td>\n",
              "      <td>3,110.00</td>\n",
              "      <td>1.86%</td>\n",
              "      <td>1.71%</td>\n",
              "      <td>1.55%</td>\n",
              "      <td>2.57%</td>\n",
              "    </tr>\n",
              "    <tr>\n",
              "      <th>14</th>\n",
              "      <td>Extraordinary Items</td>\n",
              "      <td>0</td>\n",
              "      <td>0</td>\n",
              "      <td>0</td>\n",
              "      <td>0</td>\n",
              "      <td>0.00%</td>\n",
              "      <td>0.00%</td>\n",
              "      <td>0.00%</td>\n",
              "      <td>0.00%</td>\n",
              "    </tr>\n",
              "    <tr>\n",
              "      <th>15</th>\n",
              "      <td>Discontinued Operations</td>\n",
              "      <td>0</td>\n",
              "      <td>0</td>\n",
              "      <td>0</td>\n",
              "      <td>0</td>\n",
              "      <td>0.00%</td>\n",
              "      <td>0.00%</td>\n",
              "      <td>0.00%</td>\n",
              "      <td>0.00%</td>\n",
              "    </tr>\n",
              "    <tr>\n",
              "      <th>16</th>\n",
              "      <td>Net Income (Loss)</td>\n",
              "      <td>2,039.00</td>\n",
              "      <td>1,975.00</td>\n",
              "      <td>1,907.00</td>\n",
              "      <td>3,110.00</td>\n",
              "      <td>1.86%</td>\n",
              "      <td>1.71%</td>\n",
              "      <td>1.55%</td>\n",
              "      <td>2.57%</td>\n",
              "    </tr>\n",
              "  </tbody>\n",
              "</table>\n",
              "</div>"
            ],
            "text/plain": [
              "                            Fiscal Year:        2015  ...   2017.1   2018.1\n",
              "0                            Sales (Net)  109,830.00  ...  100.00%  100.00%\n",
              "1                     Cost of Goods Sold   85,496.00  ...   77.99%   78.32%\n",
              "2                           Gross Profit   24,334.00  ...   22.01%   21.68%\n",
              "3     Selling, General, & Admin Expenses   18,669.00  ...   17.68%   17.46%\n",
              "4   Operating Income Before Depreciation    5,665.00  ...    4.33%    4.22%\n",
              "5     Depreciation, Depletion, & Amortiz    2,089.00  ...    1.99%    2.03%\n",
              "6    Operating Income After Depreciation    3,576.00  ...    2.35%    2.18%\n",
              "7                       Interest Expense         491  ...    0.50%    0.51%\n",
              "8           Non-Operating Income/Expense           9  ...    0.01%    0.17%\n",
              "9                          Special Items           0  ...   -0.65%    1.44%\n",
              "10                         Pretax Income    3,094.00  ...    1.21%    3.28%\n",
              "11                  Income Taxes - Total    1,045.00  ...   -0.33%    0.74%\n",
              "12                     Minority Interest          10  ...   -0.01%   -0.03%\n",
              "13                   Income Before EI&DO    2,039.00  ...    1.55%    2.57%\n",
              "14                   Extraordinary Items           0  ...    0.00%    0.00%\n",
              "15               Discontinued Operations           0  ...    0.00%    0.00%\n",
              "16                     Net Income (Loss)    2,039.00  ...    1.55%    2.57%\n",
              "\n",
              "[17 rows x 9 columns]"
            ]
          },
          "metadata": {
            "tags": []
          },
          "execution_count": 5
        }
      ]
    },
    {
      "cell_type": "markdown",
      "metadata": {
        "id": "rjfvwIoTbnRJ",
        "colab_type": "text"
      },
      "source": [
        "**Overview:** the PMR for **KR** almost flatten (but slightly decrease) from 1.86% in 2015 to 1.7% in 2016 to 1.6% in 2017, then increase to 2.6% in 2018. For here, I collect the data with fiscal year not data date. However, to follow up above for a deeper analysis, we focus on the fiscal year 2015 to 2017 specially for Kroger."
      ]
    },
    {
      "cell_type": "code",
      "metadata": {
        "id": "0b2BO0MEs73Q",
        "colab_type": "code",
        "colab": {
          "base_uri": "https://localhost:8080/",
          "height": 295
        },
        "outputId": "ce14cb40-d165-4ed7-e58b-92dec44333b6"
      },
      "source": [
        "x1 = [2015, 2016, 2017, 2018]\n",
        "y1 = [100, 100, 100, 100]\n",
        "\n",
        "x2 = [2015, 2016, 2017, 2018]\n",
        "y2 = [77.84, 77.6, 77.99, 78.32]\n",
        "\n",
        "x3 = [2015, 2016, 2017, 2018]\n",
        "y3 = [22.16, 22.4, 22.01, 21.68]\n",
        "\n",
        "x4 = [2015, 2016, 2017, 2018]\n",
        "y4 = [17, 17.39, 17.68, 17.46]\n",
        "\n",
        "x5 = [2015, 2016, 2017, 2018]\n",
        "y5 = [1.90,\t2.03,\t1.99, 2.03]\n",
        "\n",
        "x6 = [2015, 2016, 2017, 2018]\n",
        "y6 = [1.86, 1.71, 1.55, 2.57]\n",
        "\n",
        "plt.bar(x1,y1, label = \"Revenues\", color = \"b\")\n",
        "plt.bar(x2,y2, label = \"COGS\", color = \"y\")\n",
        "plt.bar(x3,y3, label = \"Gross Profit\", color = \"r\")\n",
        "plt.bar(x4,y4, label = \"General Expenses\", color = \"c\")\n",
        "plt.bar(x5,y5, label = \"Depreciation\", color = \"m\")\n",
        "plt.bar(x6,y6, label = \"NI\", color = \"g\")\n",
        "plt.plot()\n",
        "\n",
        "\n",
        "plt.xlabel(\"Year\")\n",
        "plt.ylabel(\"Ratios\")\n",
        "plt.title(\"Common Size Ratios' Comparison for KR\")\n",
        "plt.legend()\n",
        "plt.show()"
      ],
      "execution_count": 14,
      "outputs": [
        {
          "output_type": "display_data",
          "data": {
            "image/png": "[encoded data removed]",
            "text/plain": [
              "<Figure size 432x288 with 1 Axes>"
            ]
          },
          "metadata": {
            "tags": []
          }
        }
      ]
    },
    {
      "cell_type": "markdown",
      "metadata": {
        "id": "ppX9naftbfyd",
        "colab_type": "text"
      },
      "source": [
        "**Analysis:** The table numbers and stacked bar charts area changes above could see some changes: The Cost of Goods Sold percentages of Assets slightly decrease then slightly increase from 2015 to 2017, so the Gross Profit percentages of Assets slightly increase then slightly decrease from 2015 to 2017. The Selling, General, & Admin Expenses percentages of Assets increasing slightly. The Operating Income Before Depreciation percentages of Assets decreasing. Depreciation, Depletion, & Amortiz percentages of Assets slightly increase then slightly decrease but almost non-changing. The Operating Income After Depreciation percentages of Assets decreasing. The Pretax Income percentages of Assets decreasing. All of those changes above causes the changes of PMR for KR from 2015 to 2016 to 2017. "
      ]
    },
    {
      "cell_type": "markdown",
      "metadata": {
        "id": "5zALBSn3Vflw",
        "colab_type": "text"
      },
      "source": [
        "### DAL"
      ]
    },
    {
      "cell_type": "code",
      "metadata": {
        "id": "fTEJ5ZJYUmSg",
        "colab_type": "code",
        "colab": {
          "resources": {
            "http://localhost:8080/nbextensions/google.colab/files.js": {
              "data": "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",
              "ok": true,
              "headers": [
                [
                  "content-type",
                  "application/javascript"
                ]
              ],
              "status": 200,
              "status_text": ""
            }
          },
          "base_uri": "https://localhost:8080/",
          "height": 71
        },
        "outputId": "e5863442-4c96-4f7a-dc25-29ef1f48ec18"
      },
      "source": [
        "from google.colab import files\n",
        "uploaded = files.upload()"
      ],
      "execution_count": 23,
      "outputs": [
        {
          "output_type": "display_data",
          "data": {
            "text/html": [
              "\n",
              "     <input type=\"file\" id=\"files-b9524923-cdd7-48c0-b565-28092594e83d\" name=\"files[]\" multiple disabled />\n",
              "     <output id=\"result-b9524923-cdd7-48c0-b565-28092594e83d\">\n",
              "      Upload widget is only available when the cell has been executed in the\n",
              "      current browser session. Please rerun this cell to enable.\n",
              "      </output>\n",
              "      <script src=\"/nbextensions/google.colab/files.js\"></script> "
            ],
            "text/plain": [
              "<IPython.core.display.HTML object>"
            ]
          },
          "metadata": {
            "tags": []
          }
        },
        {
          "output_type": "stream",
          "text": [
            "Saving DAL_Common Size Ratio.csv to DAL_Common Size Ratio.csv\n"
          ],
          "name": "stdout"
        }
      ]
    },
    {
      "cell_type": "code",
      "metadata": {
        "id": "9Ebkq5eaUpfS",
        "colab_type": "code",
        "colab": {
          "base_uri": "https://localhost:8080/",
          "height": 576
        },
        "outputId": "8cd9011f-a3a2-4593-d22e-dfe1afee6d05"
      },
      "source": [
        "import pandas as pd\n",
        "dal = pd.read_csv('DAL_Common Size Ratio.csv')\n",
        "pd.DataFrame.from_records(dal)\n",
        "dal"
      ],
      "execution_count": 24,
      "outputs": [
        {
          "output_type": "execute_result",
          "data": {
            "text/html": [
              "<div>\n",
              "<style scoped>\n",
              "    .dataframe tbody tr th:only-of-type {\n",
              "        vertical-align: middle;\n",
              "    }\n",
              "\n",
              "    .dataframe tbody tr th {\n",
              "        vertical-align: top;\n",
              "    }\n",
              "\n",
              "    .dataframe thead th {\n",
              "        text-align: right;\n",
              "    }\n",
              "</style>\n",
              "<table border=\"1\" class=\"dataframe\">\n",
              "  <thead>\n",
              "    <tr style=\"text-align: right;\">\n",
              "      <th></th>\n",
              "      <th>Fiscal Year:</th>\n",
              "      <th>2016</th>\n",
              "      <th>2017</th>\n",
              "      <th>2018</th>\n",
              "      <th>2016.1</th>\n",
              "      <th>2017.1</th>\n",
              "      <th>2018.1</th>\n",
              "    </tr>\n",
              "  </thead>\n",
              "  <tbody>\n",
              "    <tr>\n",
              "      <th>0</th>\n",
              "      <td>Sales (Net)</td>\n",
              "      <td>39,639.00</td>\n",
              "      <td>41,244.00</td>\n",
              "      <td>44,438.00</td>\n",
              "      <td>100.00%</td>\n",
              "      <td>100.00%</td>\n",
              "      <td>100.00%</td>\n",
              "    </tr>\n",
              "    <tr>\n",
              "      <th>1</th>\n",
              "      <td>Cost of Goods Sold</td>\n",
              "      <td>27,089.00</td>\n",
              "      <td>28,859.00</td>\n",
              "      <td>33,181.00</td>\n",
              "      <td>68.30%</td>\n",
              "      <td>70.00%</td>\n",
              "      <td>74.70%</td>\n",
              "    </tr>\n",
              "    <tr>\n",
              "      <th>2</th>\n",
              "      <td>Gross Profit</td>\n",
              "      <td>12,550.00</td>\n",
              "      <td>12,385.00</td>\n",
              "      <td>11,257.00</td>\n",
              "      <td>31.70%</td>\n",
              "      <td>30.00%</td>\n",
              "      <td>25.30%</td>\n",
              "    </tr>\n",
              "    <tr>\n",
              "      <th>3</th>\n",
              "      <td>Selling, General, &amp; Admin Expenses</td>\n",
              "      <td>3,696.00</td>\n",
              "      <td>4,036.00</td>\n",
              "      <td>3,664.00</td>\n",
              "      <td>9.30%</td>\n",
              "      <td>9.80%</td>\n",
              "      <td>8.20%</td>\n",
              "    </tr>\n",
              "    <tr>\n",
              "      <th>4</th>\n",
              "      <td>Operating Income Before Depreciation</td>\n",
              "      <td>8,854.00</td>\n",
              "      <td>8,349.00</td>\n",
              "      <td>7,593.00</td>\n",
              "      <td>22.30%</td>\n",
              "      <td>20.20%</td>\n",
              "      <td>17.10%</td>\n",
              "    </tr>\n",
              "    <tr>\n",
              "      <th>5</th>\n",
              "      <td>Depreciation, Depletion, &amp; Amortiz</td>\n",
              "      <td>1,902.00</td>\n",
              "      <td>2,235.00</td>\n",
              "      <td>2,329.00</td>\n",
              "      <td>4.80%</td>\n",
              "      <td>5.40%</td>\n",
              "      <td>5.20%</td>\n",
              "    </tr>\n",
              "    <tr>\n",
              "      <th>6</th>\n",
              "      <td>Operating Income After Depreciation</td>\n",
              "      <td>6,952.00</td>\n",
              "      <td>6,114.00</td>\n",
              "      <td>5,264.00</td>\n",
              "      <td>17.50%</td>\n",
              "      <td>14.80%</td>\n",
              "      <td>11.80%</td>\n",
              "    </tr>\n",
              "    <tr>\n",
              "      <th>7</th>\n",
              "      <td>Interest Expense</td>\n",
              "      <td>441</td>\n",
              "      <td>454</td>\n",
              "      <td>311</td>\n",
              "      <td>1.10%</td>\n",
              "      <td>1.10%</td>\n",
              "      <td>0.70%</td>\n",
              "    </tr>\n",
              "    <tr>\n",
              "      <th>8</th>\n",
              "      <td>Non-Operating Income/Expense</td>\n",
              "      <td>125</td>\n",
              "      <td>41</td>\n",
              "      <td>89</td>\n",
              "      <td>0.30%</td>\n",
              "      <td>0.10%</td>\n",
              "      <td>0.20%</td>\n",
              "    </tr>\n",
              "    <tr>\n",
              "      <th>9</th>\n",
              "      <td>Special Items</td>\n",
              "      <td>0</td>\n",
              "      <td>0</td>\n",
              "      <td>109</td>\n",
              "      <td>0.00%</td>\n",
              "      <td>0.00%</td>\n",
              "      <td>0.20%</td>\n",
              "    </tr>\n",
              "    <tr>\n",
              "      <th>10</th>\n",
              "      <td>Pretax Income</td>\n",
              "      <td>6,636.00</td>\n",
              "      <td>5,701.00</td>\n",
              "      <td>5,151.00</td>\n",
              "      <td>16.70%</td>\n",
              "      <td>13.80%</td>\n",
              "      <td>11.60%</td>\n",
              "    </tr>\n",
              "    <tr>\n",
              "      <th>11</th>\n",
              "      <td>Income Taxes - Total</td>\n",
              "      <td>2,263.00</td>\n",
              "      <td>2,124.00</td>\n",
              "      <td>1,216.00</td>\n",
              "      <td>5.70%</td>\n",
              "      <td>5.10%</td>\n",
              "      <td>2.70%</td>\n",
              "    </tr>\n",
              "    <tr>\n",
              "      <th>12</th>\n",
              "      <td>Minority Interest</td>\n",
              "      <td>0</td>\n",
              "      <td>0</td>\n",
              "      <td>0</td>\n",
              "      <td>0.00%</td>\n",
              "      <td>0.00%</td>\n",
              "      <td>0.00%</td>\n",
              "    </tr>\n",
              "    <tr>\n",
              "      <th>13</th>\n",
              "      <td>Income Before EI&amp;DO</td>\n",
              "      <td>4,373.00</td>\n",
              "      <td>3,577.00</td>\n",
              "      <td>3,935.00</td>\n",
              "      <td>11.00%</td>\n",
              "      <td>8.70%</td>\n",
              "      <td>8.90%</td>\n",
              "    </tr>\n",
              "    <tr>\n",
              "      <th>14</th>\n",
              "      <td>Extraordinary Items</td>\n",
              "      <td>0</td>\n",
              "      <td>0</td>\n",
              "      <td>0</td>\n",
              "      <td>0.00%</td>\n",
              "      <td>0.00%</td>\n",
              "      <td>0.00%</td>\n",
              "    </tr>\n",
              "    <tr>\n",
              "      <th>15</th>\n",
              "      <td>Discontinued Operations</td>\n",
              "      <td>0</td>\n",
              "      <td>0</td>\n",
              "      <td>0</td>\n",
              "      <td>0.00%</td>\n",
              "      <td>0.00%</td>\n",
              "      <td>0.00%</td>\n",
              "    </tr>\n",
              "    <tr>\n",
              "      <th>16</th>\n",
              "      <td>Net Income (Loss)</td>\n",
              "      <td>4,373.00</td>\n",
              "      <td>3,577.00</td>\n",
              "      <td>3,935.00</td>\n",
              "      <td>11.00%</td>\n",
              "      <td>8.70%</td>\n",
              "      <td>8.90%</td>\n",
              "    </tr>\n",
              "  </tbody>\n",
              "</table>\n",
              "</div>"
            ],
            "text/plain": [
              "                            Fiscal Year:       2016  ...   2017.1   2018.1\n",
              "0                            Sales (Net)  39,639.00  ...  100.00%  100.00%\n",
              "1                     Cost of Goods Sold  27,089.00  ...   70.00%   74.70%\n",
              "2                           Gross Profit  12,550.00  ...   30.00%   25.30%\n",
              "3     Selling, General, & Admin Expenses   3,696.00  ...    9.80%    8.20%\n",
              "4   Operating Income Before Depreciation   8,854.00  ...   20.20%   17.10%\n",
              "5     Depreciation, Depletion, & Amortiz   1,902.00  ...    5.40%    5.20%\n",
              "6    Operating Income After Depreciation   6,952.00  ...   14.80%   11.80%\n",
              "7                       Interest Expense        441  ...    1.10%    0.70%\n",
              "8           Non-Operating Income/Expense        125  ...    0.10%    0.20%\n",
              "9                          Special Items          0  ...    0.00%    0.20%\n",
              "10                         Pretax Income   6,636.00  ...   13.80%   11.60%\n",
              "11                  Income Taxes - Total   2,263.00  ...    5.10%    2.70%\n",
              "12                     Minority Interest          0  ...    0.00%    0.00%\n",
              "13                   Income Before EI&DO   4,373.00  ...    8.70%    8.90%\n",
              "14                   Extraordinary Items          0  ...    0.00%    0.00%\n",
              "15               Discontinued Operations          0  ...    0.00%    0.00%\n",
              "16                     Net Income (Loss)   4,373.00  ...    8.70%    8.90%\n",
              "\n",
              "[17 rows x 7 columns]"
            ]
          },
          "metadata": {
            "tags": []
          },
          "execution_count": 24
        }
      ]
    },
    {
      "cell_type": "markdown",
      "metadata": {
        "id": "2sHKNBYlbogk",
        "colab_type": "text"
      },
      "source": [
        "**Overview:** the PMR for **DAL** decrease from 11% in 2016 to 8.7% in 2017, then slightly increase to 8.9% in 2018."
      ]
    },
    {
      "cell_type": "code",
      "metadata": {
        "id": "icUR1ojls5_w",
        "colab_type": "code",
        "colab": {
          "base_uri": "https://localhost:8080/",
          "height": 295
        },
        "outputId": "84d02de6-1f63-447b-e6fb-3179d3c92d10"
      },
      "source": [
        "x1 = [2016, 2017, 2018]\n",
        "y1 = [100,100,100]\n",
        "\n",
        "x2 = [2016, 2017, 2018]\n",
        "y2 = [68.3, 70, 74.7]\n",
        "\n",
        "x3 = [2016, 2017, 2018]\n",
        "y3 = [31.7, 30, 25.3]\n",
        "\n",
        "x4 = [2016, 2017, 2018]\n",
        "y4 = [9.3, 9.8, 8.2]\n",
        "\n",
        "x5 = [2016, 2017, 2018]\n",
        "y5 = [4.8, 5.4, 5.2]\n",
        "\n",
        "x6 = [2016, 2017, 2018]\n",
        "y6 = [11, 8.7, 8.9]\n",
        "\n",
        "plt.bar(x1,y1, label = \"Revenues\", color = \"b\")\n",
        "plt.bar(x2,y2, label = \"COGS\", color = \"y\")\n",
        "plt.bar(x3,y3, label = \"Gross Profit\", color = \"r\")\n",
        "plt.bar(x6,y6, label = \"NI\", color = \"g\")\n",
        "plt.bar(x4,y4, label = \"General Expenses\", color = \"c\")\n",
        "plt.bar(x5,y5, label = \"Depreciation\", color = \"m\")\n",
        "plt.plot()\n",
        "\n",
        "\n",
        "plt.xlabel(\"Year\")\n",
        "plt.ylabel(\"Ratios\")\n",
        "plt.title(\"Common Size Ratios' Comparison for DAL\")\n",
        "plt.legend()\n",
        "plt.show()"
      ],
      "execution_count": 15,
      "outputs": [
        {
          "output_type": "display_data",
          "data": {
            "image/png": "[encoded data removed]",
            "text/plain": [
              "<Figure size 432x288 with 1 Axes>"
            ]
          },
          "metadata": {
            "tags": []
          }
        }
      ]
    },
    {
      "cell_type": "markdown",
      "metadata": {
        "id": "zOJcqRfvbg_O",
        "colab_type": "text"
      },
      "source": [
        "**Analysis:** The table numbers and stacked bar charts area changes above could see some changes: The Cost of Goods Sold percentages of Assets increasing from 2016 to 2018, so the Gross Profit percentages of Assets decreasing from 2016 to 2018. The Selling, General, & Admin Expenses percentages of Assets increase lightly then decrease. The Operating Income Before Depreciation percentages of Assets decreasing. The Depreciation, Depletion, & Amortiz percentages of Assets increase slightly then decrease slightly. The Operating Income After Depreciation percentages of Assets decreasing. The Pretax Income percentages of Assets decreasing. All of those changes above causes the changes of PMR for DAL from 2016 to 2017 to 2018. "
      ]
    },
    {
      "cell_type": "markdown",
      "metadata": {
        "id": "9NUImGgMVmae",
        "colab_type": "text"
      },
      "source": [
        "### AMZN"
      ]
    },
    {
      "cell_type": "code",
      "metadata": {
        "id": "XIvs4r3TUmty",
        "colab_type": "code",
        "colab": {
          "resources": {
            "http://localhost:8080/nbextensions/google.colab/files.js": {
              "data": "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",
              "ok": true,
              "headers": [
                [
                  "content-type",
                  "application/javascript"
                ]
              ],
              "status": 200,
              "status_text": ""
            }
          },
          "base_uri": "https://localhost:8080/",
          "height": 71
        },
        "outputId": "b3e380f2-4c99-4b2c-f618-c4002929e170"
      },
      "source": [
        "from google.colab import files\n",
        "uploaded = files.upload()"
      ],
      "execution_count": 25,
      "outputs": [
        {
          "output_type": "display_data",
          "data": {
            "text/html": [
              "\n",
              "     <input type=\"file\" id=\"files-92d3a60e-bf7c-4d10-92f8-61757eea5d64\" name=\"files[]\" multiple disabled />\n",
              "     <output id=\"result-92d3a60e-bf7c-4d10-92f8-61757eea5d64\">\n",
              "      Upload widget is only available when the cell has been executed in the\n",
              "      current browser session. Please rerun this cell to enable.\n",
              "      </output>\n",
              "      <script src=\"/nbextensions/google.colab/files.js\"></script> "
            ],
            "text/plain": [
              "<IPython.core.display.HTML object>"
            ]
          },
          "metadata": {
            "tags": []
          }
        },
        {
          "output_type": "stream",
          "text": [
            "Saving AMZN_Common Size Ratio.csv to AMZN_Common Size Ratio.csv\n"
          ],
          "name": "stdout"
        }
      ]
    },
    {
      "cell_type": "code",
      "metadata": {
        "id": "Z7JrNGEfUp2k",
        "colab_type": "code",
        "colab": {
          "base_uri": "https://localhost:8080/",
          "height": 576
        },
        "outputId": "84c87870-7230-4217-e521-5b2314b22f25"
      },
      "source": [
        "import pandas as pd\n",
        "amzn = pd.read_csv('AMZN_Common Size Ratio.csv')\n",
        "pd.DataFrame.from_records(amzn)\n",
        "amzn"
      ],
      "execution_count": 26,
      "outputs": [
        {
          "output_type": "execute_result",
          "data": {
            "text/html": [
              "<div>\n",
              "<style scoped>\n",
              "    .dataframe tbody tr th:only-of-type {\n",
              "        vertical-align: middle;\n",
              "    }\n",
              "\n",
              "    .dataframe tbody tr th {\n",
              "        vertical-align: top;\n",
              "    }\n",
              "\n",
              "    .dataframe thead th {\n",
              "        text-align: right;\n",
              "    }\n",
              "</style>\n",
              "<table border=\"1\" class=\"dataframe\">\n",
              "  <thead>\n",
              "    <tr style=\"text-align: right;\">\n",
              "      <th></th>\n",
              "      <th>Fiscal Year:</th>\n",
              "      <th>2016</th>\n",
              "      <th>2017</th>\n",
              "      <th>2018</th>\n",
              "      <th>2016.1</th>\n",
              "      <th>2017.1</th>\n",
              "      <th>2018.1</th>\n",
              "    </tr>\n",
              "  </thead>\n",
              "  <tbody>\n",
              "    <tr>\n",
              "      <th>0</th>\n",
              "      <td>Sales (Net)</td>\n",
              "      <td>135,987.00</td>\n",
              "      <td>177,866.00</td>\n",
              "      <td>232,887.00</td>\n",
              "      <td>100.00%</td>\n",
              "      <td>100.00%</td>\n",
              "      <td>100.00%</td>\n",
              "    </tr>\n",
              "    <tr>\n",
              "      <th>1</th>\n",
              "      <td>Cost of Goods Sold</td>\n",
              "      <td>81,865.00</td>\n",
              "      <td>103,134.00</td>\n",
              "      <td>127,056.00</td>\n",
              "      <td>60.20%</td>\n",
              "      <td>58.00%</td>\n",
              "      <td>54.60%</td>\n",
              "    </tr>\n",
              "    <tr>\n",
              "      <th>2</th>\n",
              "      <td>Gross Profit</td>\n",
              "      <td>54,122.00</td>\n",
              "      <td>74,732.00</td>\n",
              "      <td>105,831.00</td>\n",
              "      <td>39.80%</td>\n",
              "      <td>42.00%</td>\n",
              "      <td>45.40%</td>\n",
              "    </tr>\n",
              "    <tr>\n",
              "      <th>3</th>\n",
              "      <td>Selling, General, &amp; Admin Expenses</td>\n",
              "      <td>43,369.00</td>\n",
              "      <td>61,612.00</td>\n",
              "      <td>81,014.00</td>\n",
              "      <td>31.90%</td>\n",
              "      <td>34.60%</td>\n",
              "      <td>34.80%</td>\n",
              "    </tr>\n",
              "    <tr>\n",
              "      <th>4</th>\n",
              "      <td>Operating Income Before Depreciation</td>\n",
              "      <td>10,753.00</td>\n",
              "      <td>13,120.00</td>\n",
              "      <td>24,817.00</td>\n",
              "      <td>7.90%</td>\n",
              "      <td>7.40%</td>\n",
              "      <td>10.70%</td>\n",
              "    </tr>\n",
              "    <tr>\n",
              "      <th>5</th>\n",
              "      <td>Depreciation, Depletion, &amp; Amortiz</td>\n",
              "      <td>6,687.00</td>\n",
              "      <td>9,166.00</td>\n",
              "      <td>12,575.00</td>\n",
              "      <td>4.90%</td>\n",
              "      <td>5.20%</td>\n",
              "      <td>5.40%</td>\n",
              "    </tr>\n",
              "    <tr>\n",
              "      <th>6</th>\n",
              "      <td>Operating Income After Depreciation</td>\n",
              "      <td>4,066.00</td>\n",
              "      <td>3,954.00</td>\n",
              "      <td>12,242.00</td>\n",
              "      <td>3.00%</td>\n",
              "      <td>2.20%</td>\n",
              "      <td>5.30%</td>\n",
              "    </tr>\n",
              "    <tr>\n",
              "      <th>7</th>\n",
              "      <td>Interest Expense</td>\n",
              "      <td>484</td>\n",
              "      <td>848</td>\n",
              "      <td>1,417.00</td>\n",
              "      <td>0.40%</td>\n",
              "      <td>0.50%</td>\n",
              "      <td>0.60%</td>\n",
              "    </tr>\n",
              "    <tr>\n",
              "      <th>8</th>\n",
              "      <td>Non-Operating Income/Expense</td>\n",
              "      <td>214</td>\n",
              "      <td>696</td>\n",
              "      <td>445</td>\n",
              "      <td>0.20%</td>\n",
              "      <td>0.40%</td>\n",
              "      <td>0.20%</td>\n",
              "    </tr>\n",
              "    <tr>\n",
              "      <th>9</th>\n",
              "      <td>Special Items</td>\n",
              "      <td>0</td>\n",
              "      <td>0</td>\n",
              "      <td>0</td>\n",
              "      <td>0.00%</td>\n",
              "      <td>0.00%</td>\n",
              "      <td>0.00%</td>\n",
              "    </tr>\n",
              "    <tr>\n",
              "      <th>10</th>\n",
              "      <td>Pretax Income</td>\n",
              "      <td>3,796.00</td>\n",
              "      <td>3,802.00</td>\n",
              "      <td>11,270.00</td>\n",
              "      <td>2.80%</td>\n",
              "      <td>2.10%</td>\n",
              "      <td>4.80%</td>\n",
              "    </tr>\n",
              "    <tr>\n",
              "      <th>11</th>\n",
              "      <td>Income Taxes - Total</td>\n",
              "      <td>1,425.00</td>\n",
              "      <td>769</td>\n",
              "      <td>1,197.00</td>\n",
              "      <td>1.00%</td>\n",
              "      <td>0.40%</td>\n",
              "      <td>0.50%</td>\n",
              "    </tr>\n",
              "    <tr>\n",
              "      <th>12</th>\n",
              "      <td>Minority Interest</td>\n",
              "      <td>0</td>\n",
              "      <td>0</td>\n",
              "      <td>0</td>\n",
              "      <td>0.00%</td>\n",
              "      <td>0.00%</td>\n",
              "      <td>0.00%</td>\n",
              "    </tr>\n",
              "    <tr>\n",
              "      <th>13</th>\n",
              "      <td>Income Before EI&amp;DO</td>\n",
              "      <td>2,371.00</td>\n",
              "      <td>3,033.00</td>\n",
              "      <td>10,073.00</td>\n",
              "      <td>1.70%</td>\n",
              "      <td>1.70%</td>\n",
              "      <td>4.30%</td>\n",
              "    </tr>\n",
              "    <tr>\n",
              "      <th>14</th>\n",
              "      <td>Extraordinary Items</td>\n",
              "      <td>0</td>\n",
              "      <td>0</td>\n",
              "      <td>0</td>\n",
              "      <td>0.00%</td>\n",
              "      <td>0.00%</td>\n",
              "      <td>0.00%</td>\n",
              "    </tr>\n",
              "    <tr>\n",
              "      <th>15</th>\n",
              "      <td>Discontinued Operations</td>\n",
              "      <td>0</td>\n",
              "      <td>0</td>\n",
              "      <td>0</td>\n",
              "      <td>0.00%</td>\n",
              "      <td>0.00%</td>\n",
              "      <td>0.00%</td>\n",
              "    </tr>\n",
              "    <tr>\n",
              "      <th>16</th>\n",
              "      <td>Net Income (Loss)</td>\n",
              "      <td>2,371.00</td>\n",
              "      <td>3,033.00</td>\n",
              "      <td>10,073.00</td>\n",
              "      <td>1.70%</td>\n",
              "      <td>1.70%</td>\n",
              "      <td>4.30%</td>\n",
              "    </tr>\n",
              "  </tbody>\n",
              "</table>\n",
              "</div>"
            ],
            "text/plain": [
              "                            Fiscal Year:        2016  ...   2017.1   2018.1\n",
              "0                            Sales (Net)  135,987.00  ...  100.00%  100.00%\n",
              "1                     Cost of Goods Sold   81,865.00  ...   58.00%   54.60%\n",
              "2                           Gross Profit   54,122.00  ...   42.00%   45.40%\n",
              "3     Selling, General, & Admin Expenses   43,369.00  ...   34.60%   34.80%\n",
              "4   Operating Income Before Depreciation   10,753.00  ...    7.40%   10.70%\n",
              "5     Depreciation, Depletion, & Amortiz    6,687.00  ...    5.20%    5.40%\n",
              "6    Operating Income After Depreciation    4,066.00  ...    2.20%    5.30%\n",
              "7                       Interest Expense         484  ...    0.50%    0.60%\n",
              "8           Non-Operating Income/Expense         214  ...    0.40%    0.20%\n",
              "9                          Special Items           0  ...    0.00%    0.00%\n",
              "10                         Pretax Income    3,796.00  ...    2.10%    4.80%\n",
              "11                  Income Taxes - Total    1,425.00  ...    0.40%    0.50%\n",
              "12                     Minority Interest           0  ...    0.00%    0.00%\n",
              "13                   Income Before EI&DO    2,371.00  ...    1.70%    4.30%\n",
              "14                   Extraordinary Items           0  ...    0.00%    0.00%\n",
              "15               Discontinued Operations           0  ...    0.00%    0.00%\n",
              "16                     Net Income (Loss)    2,371.00  ...    1.70%    4.30%\n",
              "\n",
              "[17 rows x 7 columns]"
            ]
          },
          "metadata": {
            "tags": []
          },
          "execution_count": 26
        }
      ]
    },
    {
      "cell_type": "markdown",
      "metadata": {
        "id": "wSDJobcYbpmd",
        "colab_type": "text"
      },
      "source": [
        "**Overview:** the PMR for **AMZN** almost flatten in 1.7% form 2016 to 2017, then increase from to 4.3% in 2018."
      ]
    },
    {
      "cell_type": "code",
      "metadata": {
        "id": "j2gY9yl6l69z",
        "colab_type": "code",
        "colab": {
          "base_uri": "https://localhost:8080/",
          "height": 295
        },
        "outputId": "ef93cc5d-47f0-4cac-8452-afb2dda2fae2"
      },
      "source": [
        "x1 = [2016, 2017, 2018]\n",
        "y1 = [100,100,100]\n",
        "\n",
        "x2 = [2016, 2017, 2018]\n",
        "y2 = [60.2, 58, 54.6]\n",
        "\n",
        "x3 = [2016, 2017, 2018]\n",
        "y3 = [39.8, 42, 45.4]\n",
        "\n",
        "x4 = [2016, 2017, 2018]\n",
        "y4 = [31.9, 34.6, 34.8]\n",
        "\n",
        "x5 = [2016, 2017, 2018]\n",
        "y5 = [4.9, 5.2, 5.4]\n",
        "\n",
        "x6 = [2016, 2017, 2018]\n",
        "y6 = [1.7, 1.7, 4.3]\n",
        "\n",
        "plt.bar(x1,y1, label = \"Revenues\", color = \"b\")\n",
        "plt.bar(x2,y2, label = \"COGS\", color = \"y\")\n",
        "plt.bar(x3,y3, label = \"Gross Profit\", color = \"r\")\n",
        "plt.bar(x4,y4, label = \"General Expenses\", color = \"c\")\n",
        "plt.bar(x5,y5, label = \"Depreciation\", color = \"m\")\n",
        "plt.bar(x6,y6, label = \"NI\", color = \"g\")\n",
        "plt.plot()\n",
        "\n",
        "\n",
        "plt.xlabel(\"Year\")\n",
        "plt.ylabel(\"Ratios\")\n",
        "plt.title(\"Common Size Ratios' Comparison for AMZN\")\n",
        "plt.legend()\n",
        "plt.show()"
      ],
      "execution_count": 16,
      "outputs": [
        {
          "output_type": "display_data",
          "data": {
            "image/png": "[encoded data removed]",
            "text/plain": [
              "<Figure size 432x288 with 1 Axes>"
            ]
          },
          "metadata": {
            "tags": []
          }
        }
      ]
    },
    {
      "cell_type": "markdown",
      "metadata": {
        "id": "UhmuonMabiLP",
        "colab_type": "text"
      },
      "source": [
        "**Analysis:** The table numbers and stacked bar charts area changes above could see some changes: The Cost of Goods Sold percentages of Assets decreasing from 2016 to 2018, so the Gross Profit percentages of Assets increasing from 2016 to 2018. The Selling, General, & Admin Expenses percentages of Assets increasing. The Operating Income Before Depreciation percentages of Assets decrease slightly then increase. Depreciation, Depletion, & Amortiz percentages of Assets increasing. The Operating Income After Depreciation percentages of Assets decrease then increase. The Pretax Income percentages of Assets decrease first then increase. All of those changes above causes the changes of PMR for AMZN from 2016 to 2017 to 2018. "
      ]
    }
  ]
}